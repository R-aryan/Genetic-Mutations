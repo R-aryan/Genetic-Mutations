{
 "cells": [
  {
   "cell_type": "markdown",
   "metadata": {},
   "source": [
    "\n",
    "\n",
    "#                          Project : Medical Treatment"
   ]
  },
  {
   "cell_type": "markdown",
   "metadata": {},
   "source": [
    "# Problem statement"
   ]
  },
  {
   "cell_type": "markdown",
   "metadata": {},
   "source": [
    "A lot has been said during the past several years about how precision medicine and, more concretely, how genetic testing is going to disrupt the way diseases like cancer are treated.\n",
    "\n",
    "But this is only partially happening due to the huge amount of manual work still required. Once sequenced, a cancer tumor can have thousands of genetic mutations. But the challenge is distinguishing the mutations that contribute to tumor growth (drivers) from the neutral mutations (passengers). \n",
    "\n",
    "Currently this interpretation of genetic mutations is being done manually. This is a very time-consuming task where a clinical pathologist has to manually review and classify every single genetic mutation based on evidence from text-based clinical literature.\n",
    "\n",
    "We need to develop a Machine Learning algorithm that, using this knowledge base as a baseline, automatically classifies genetic variations.\n",
    "\n",
    "This problem was a competition posted on Kaggle with a award of $15,000. This was launched by  Memorial Sloan Kettering Cancer Center (MSKCC), accepted by NIPS 2017 Competition Track,  because we need your help to take personalized medicine to its full potential.\n",
    "\n",
    "You can check all details about the competition from following link :\n",
    "https://www.kaggle.com/c/msk-redefining-cancer-treatment\n",
    "\n",
    "In order to get the dataset please create a login account to Kaggle and go to this problem statement page(given above) and download 2 dataset\n",
    "\n",
    "***training_variants.zip*** and ***training_text.zip***"
   ]
  },
  {
   "cell_type": "markdown",
   "metadata": {},
   "source": [
    "## Analysis of the problem statement"
   ]
  },
  {
   "cell_type": "markdown",
   "metadata": {},
   "source": [
    "Lets first understand the data set provided and using that dataset we will try to understand the above problem in Machine Learning world. Since, the dataset is huge lets load it using python itself"
   ]
  },
  {
   "cell_type": "code",
   "execution_count": 2,
   "metadata": {},
   "outputs": [],
   "source": [
    "# Loading all required packages\n",
    "# If any of it fails, do not panic. Just install it using \"pip3 install <package_name>\" or by using conda install package_name\n",
    "import pandas as pd\n",
    "import matplotlib.pyplot as plt\n",
    "import re\n",
    "import time\n",
    "import warnings\n",
    "import numpy as np\n",
    "from nltk.corpus import stopwords\n",
    "from sklearn.decomposition import TruncatedSVD\n",
    "from sklearn.preprocessing import normalize\n",
    "from sklearn.feature_extraction.text import CountVectorizer\n",
    "from sklearn.manifold import TSNE\n",
    "import seaborn as sns\n",
    "from sklearn.neighbors import KNeighborsClassifier\n",
    "from sklearn.metrics import confusion_matrix\n",
    "from sklearn.metrics.classification import accuracy_score, log_loss\n",
    "from sklearn.feature_extraction.text import TfidfVectorizer\n",
    "from sklearn.linear_model import SGDClassifier\n",
    "from imblearn.over_sampling import SMOTE\n",
    "from collections import Counter\n",
    "from scipy.sparse import hstack\n",
    "from sklearn.multiclass import OneVsRestClassifier\n",
    "from sklearn.svm import SVC\n",
    "from sklearn.model_selection import StratifiedKFold \n",
    "from collections import Counter, defaultdict\n",
    "from sklearn.calibration import CalibratedClassifierCV\n",
    "from sklearn.naive_bayes import MultinomialNB\n",
    "from sklearn.naive_bayes import GaussianNB\n",
    "from sklearn.model_selection import train_test_split\n",
    "from sklearn.model_selection import GridSearchCV\n",
    "import math\n",
    "from sklearn.metrics import normalized_mutual_info_score\n",
    "from sklearn.ensemble import RandomForestClassifier\n",
    "warnings.filterwarnings(\"ignore\")\n",
    "\n",
    "from mlxtend.classifier import StackingClassifier\n",
    "\n",
    "from sklearn import model_selection\n",
    "from sklearn.linear_model import LogisticRegression"
   ]
  },
  {
   "cell_type": "markdown",
   "metadata": {},
   "source": [
    "There are 2 data files provided for solving this problem. I have kept them inside a folder training. So lets load them"
   ]
  },
  {
   "cell_type": "code",
   "execution_count": 3,
   "metadata": {},
   "outputs": [],
   "source": [
    "# Loading training_variants. Its a comma seperated file\n",
    "data_variants=pd.read_csv('training/training_variants')\n",
    "# Loading training_text dataset. This is seperated by ||\n",
    "data_text=pd.read_csv(\"training/training_text\",sep=\"\\|\\|\",engine=\"python\",names=[\"ID\",\"TEXT\"],skiprows=1)"
   ]
  },
  {
   "cell_type": "code",
   "execution_count": 4,
   "metadata": {},
   "outputs": [
    {
     "data": {
      "text/html": [
       "<div>\n",
       "<style scoped>\n",
       "    .dataframe tbody tr th:only-of-type {\n",
       "        vertical-align: middle;\n",
       "    }\n",
       "\n",
       "    .dataframe tbody tr th {\n",
       "        vertical-align: top;\n",
       "    }\n",
       "\n",
       "    .dataframe thead th {\n",
       "        text-align: right;\n",
       "    }\n",
       "</style>\n",
       "<table border=\"1\" class=\"dataframe\">\n",
       "  <thead>\n",
       "    <tr style=\"text-align: right;\">\n",
       "      <th></th>\n",
       "      <th>ID</th>\n",
       "      <th>Gene</th>\n",
       "      <th>Variation</th>\n",
       "      <th>Class</th>\n",
       "    </tr>\n",
       "  </thead>\n",
       "  <tbody>\n",
       "    <tr>\n",
       "      <th>0</th>\n",
       "      <td>0</td>\n",
       "      <td>FAM58A</td>\n",
       "      <td>Truncating Mutations</td>\n",
       "      <td>1</td>\n",
       "    </tr>\n",
       "    <tr>\n",
       "      <th>1</th>\n",
       "      <td>1</td>\n",
       "      <td>CBL</td>\n",
       "      <td>W802*</td>\n",
       "      <td>2</td>\n",
       "    </tr>\n",
       "    <tr>\n",
       "      <th>2</th>\n",
       "      <td>2</td>\n",
       "      <td>CBL</td>\n",
       "      <td>Q249E</td>\n",
       "      <td>2</td>\n",
       "    </tr>\n",
       "  </tbody>\n",
       "</table>\n",
       "</div>"
      ],
      "text/plain": [
       "   ID    Gene             Variation  Class\n",
       "0   0  FAM58A  Truncating Mutations      1\n",
       "1   1     CBL                 W802*      2\n",
       "2   2     CBL                 Q249E      2"
      ]
     },
     "execution_count": 4,
     "metadata": {},
     "output_type": "execute_result"
    }
   ],
   "source": [
    "data_variants.head(3)"
   ]
  },
  {
   "cell_type": "markdown",
   "metadata": {},
   "source": [
    "<p>\n",
    "    Let's understand above data. There are 4 fields above: <br>\n",
    "    <ul>\n",
    "        <li><b>ID : </b>row id used to link the mutation to the clinical evidence</li>\n",
    "        <li><b>Gene : </b>the gene where this genetic mutation is located </li>\n",
    "        <li><b>Variation : </b>the aminoacid change for this mutations </li>\n",
    "        <li><b>Class :</b> class value 1-9, this genetic mutation has been classified on</li>\n",
    "    </ul>\n",
    "    \n",
    "Keep doing more analysis  on above data."
   ]
  },
  {
   "cell_type": "code",
   "execution_count": 5,
   "metadata": {},
   "outputs": [
    {
     "name": "stdout",
     "output_type": "stream",
     "text": [
      "<class 'pandas.core.frame.DataFrame'>\n",
      "RangeIndex: 3321 entries, 0 to 3320\n",
      "Data columns (total 4 columns):\n",
      "ID           3321 non-null int64\n",
      "Gene         3321 non-null object\n",
      "Variation    3321 non-null object\n",
      "Class        3321 non-null int64\n",
      "dtypes: int64(2), object(2)\n",
      "memory usage: 103.9+ KB\n"
     ]
    }
   ],
   "source": [
    "data_variants.info()"
   ]
  },
  {
   "cell_type": "code",
   "execution_count": 6,
   "metadata": {},
   "outputs": [
    {
     "data": {
      "text/html": [
       "<div>\n",
       "<style scoped>\n",
       "    .dataframe tbody tr th:only-of-type {\n",
       "        vertical-align: middle;\n",
       "    }\n",
       "\n",
       "    .dataframe tbody tr th {\n",
       "        vertical-align: top;\n",
       "    }\n",
       "\n",
       "    .dataframe thead th {\n",
       "        text-align: right;\n",
       "    }\n",
       "</style>\n",
       "<table border=\"1\" class=\"dataframe\">\n",
       "  <thead>\n",
       "    <tr style=\"text-align: right;\">\n",
       "      <th></th>\n",
       "      <th>ID</th>\n",
       "      <th>Class</th>\n",
       "    </tr>\n",
       "  </thead>\n",
       "  <tbody>\n",
       "    <tr>\n",
       "      <th>count</th>\n",
       "      <td>3321.000000</td>\n",
       "      <td>3321.000000</td>\n",
       "    </tr>\n",
       "    <tr>\n",
       "      <th>mean</th>\n",
       "      <td>1660.000000</td>\n",
       "      <td>4.365854</td>\n",
       "    </tr>\n",
       "    <tr>\n",
       "      <th>std</th>\n",
       "      <td>958.834449</td>\n",
       "      <td>2.309781</td>\n",
       "    </tr>\n",
       "    <tr>\n",
       "      <th>min</th>\n",
       "      <td>0.000000</td>\n",
       "      <td>1.000000</td>\n",
       "    </tr>\n",
       "    <tr>\n",
       "      <th>25%</th>\n",
       "      <td>830.000000</td>\n",
       "      <td>2.000000</td>\n",
       "    </tr>\n",
       "    <tr>\n",
       "      <th>50%</th>\n",
       "      <td>1660.000000</td>\n",
       "      <td>4.000000</td>\n",
       "    </tr>\n",
       "    <tr>\n",
       "      <th>75%</th>\n",
       "      <td>2490.000000</td>\n",
       "      <td>7.000000</td>\n",
       "    </tr>\n",
       "    <tr>\n",
       "      <th>max</th>\n",
       "      <td>3320.000000</td>\n",
       "      <td>9.000000</td>\n",
       "    </tr>\n",
       "  </tbody>\n",
       "</table>\n",
       "</div>"
      ],
      "text/plain": [
       "                ID        Class\n",
       "count  3321.000000  3321.000000\n",
       "mean   1660.000000     4.365854\n",
       "std     958.834449     2.309781\n",
       "min       0.000000     1.000000\n",
       "25%     830.000000     2.000000\n",
       "50%    1660.000000     4.000000\n",
       "75%    2490.000000     7.000000\n",
       "max    3320.000000     9.000000"
      ]
     },
     "execution_count": 6,
     "metadata": {},
     "output_type": "execute_result"
    }
   ],
   "source": [
    "data_variants.describe()"
   ]
  },
  {
   "cell_type": "code",
   "execution_count": 7,
   "metadata": {},
   "outputs": [
    {
     "data": {
      "text/plain": [
       "(3321, 4)"
      ]
     },
     "execution_count": 7,
     "metadata": {},
     "output_type": "execute_result"
    }
   ],
   "source": [
    "# Checking dimention of data\n",
    "data_variants.shape"
   ]
  },
  {
   "cell_type": "code",
   "execution_count": 8,
   "metadata": {},
   "outputs": [
    {
     "data": {
      "text/plain": [
       "Index(['ID', 'Gene', 'Variation', 'Class'], dtype='object')"
      ]
     },
     "execution_count": 8,
     "metadata": {},
     "output_type": "execute_result"
    }
   ],
   "source": [
    "# Clecking column in above data set\n",
    "data_variants.columns"
   ]
  },
  {
   "cell_type": "markdown",
   "metadata": {},
   "source": [
    "\n",
    "Now lets explore about data_text"
   ]
  },
  {
   "cell_type": "code",
   "execution_count": 9,
   "metadata": {},
   "outputs": [
    {
     "data": {
      "text/html": [
       "<div>\n",
       "<style scoped>\n",
       "    .dataframe tbody tr th:only-of-type {\n",
       "        vertical-align: middle;\n",
       "    }\n",
       "\n",
       "    .dataframe tbody tr th {\n",
       "        vertical-align: top;\n",
       "    }\n",
       "\n",
       "    .dataframe thead th {\n",
       "        text-align: right;\n",
       "    }\n",
       "</style>\n",
       "<table border=\"1\" class=\"dataframe\">\n",
       "  <thead>\n",
       "    <tr style=\"text-align: right;\">\n",
       "      <th></th>\n",
       "      <th>ID</th>\n",
       "      <th>TEXT</th>\n",
       "    </tr>\n",
       "  </thead>\n",
       "  <tbody>\n",
       "    <tr>\n",
       "      <th>0</th>\n",
       "      <td>0</td>\n",
       "      <td>Cyclin-dependent kinases (CDKs) regulate a var...</td>\n",
       "    </tr>\n",
       "    <tr>\n",
       "      <th>1</th>\n",
       "      <td>1</td>\n",
       "      <td>Abstract Background  Non-small cell lung canc...</td>\n",
       "    </tr>\n",
       "    <tr>\n",
       "      <th>2</th>\n",
       "      <td>2</td>\n",
       "      <td>Abstract Background  Non-small cell lung canc...</td>\n",
       "    </tr>\n",
       "  </tbody>\n",
       "</table>\n",
       "</div>"
      ],
      "text/plain": [
       "   ID                                               TEXT\n",
       "0   0  Cyclin-dependent kinases (CDKs) regulate a var...\n",
       "1   1   Abstract Background  Non-small cell lung canc...\n",
       "2   2   Abstract Background  Non-small cell lung canc..."
      ]
     },
     "execution_count": 9,
     "metadata": {},
     "output_type": "execute_result"
    }
   ],
   "source": [
    "data_text.head(3)"
   ]
  },
  {
   "cell_type": "markdown",
   "metadata": {},
   "source": [
    "So above dataset have 2 columns. ID and Text column. We can also observe column ID which is common in both the dataset. Lets keep exploring it."
   ]
  },
  {
   "cell_type": "code",
   "execution_count": 10,
   "metadata": {},
   "outputs": [
    {
     "name": "stdout",
     "output_type": "stream",
     "text": [
      "<class 'pandas.core.frame.DataFrame'>\n",
      "RangeIndex: 3321 entries, 0 to 3320\n",
      "Data columns (total 2 columns):\n",
      "ID      3321 non-null int64\n",
      "TEXT    3316 non-null object\n",
      "dtypes: int64(1), object(1)\n",
      "memory usage: 52.0+ KB\n"
     ]
    }
   ],
   "source": [
    "data_text.info()"
   ]
  },
  {
   "cell_type": "code",
   "execution_count": 11,
   "metadata": {},
   "outputs": [
    {
     "data": {
      "text/html": [
       "<div>\n",
       "<style scoped>\n",
       "    .dataframe tbody tr th:only-of-type {\n",
       "        vertical-align: middle;\n",
       "    }\n",
       "\n",
       "    .dataframe tbody tr th {\n",
       "        vertical-align: top;\n",
       "    }\n",
       "\n",
       "    .dataframe thead th {\n",
       "        text-align: right;\n",
       "    }\n",
       "</style>\n",
       "<table border=\"1\" class=\"dataframe\">\n",
       "  <thead>\n",
       "    <tr style=\"text-align: right;\">\n",
       "      <th></th>\n",
       "      <th>ID</th>\n",
       "    </tr>\n",
       "  </thead>\n",
       "  <tbody>\n",
       "    <tr>\n",
       "      <th>count</th>\n",
       "      <td>3321.000000</td>\n",
       "    </tr>\n",
       "    <tr>\n",
       "      <th>mean</th>\n",
       "      <td>1660.000000</td>\n",
       "    </tr>\n",
       "    <tr>\n",
       "      <th>std</th>\n",
       "      <td>958.834449</td>\n",
       "    </tr>\n",
       "    <tr>\n",
       "      <th>min</th>\n",
       "      <td>0.000000</td>\n",
       "    </tr>\n",
       "    <tr>\n",
       "      <th>25%</th>\n",
       "      <td>830.000000</td>\n",
       "    </tr>\n",
       "    <tr>\n",
       "      <th>50%</th>\n",
       "      <td>1660.000000</td>\n",
       "    </tr>\n",
       "    <tr>\n",
       "      <th>75%</th>\n",
       "      <td>2490.000000</td>\n",
       "    </tr>\n",
       "    <tr>\n",
       "      <th>max</th>\n",
       "      <td>3320.000000</td>\n",
       "    </tr>\n",
       "  </tbody>\n",
       "</table>\n",
       "</div>"
      ],
      "text/plain": [
       "                ID\n",
       "count  3321.000000\n",
       "mean   1660.000000\n",
       "std     958.834449\n",
       "min       0.000000\n",
       "25%     830.000000\n",
       "50%    1660.000000\n",
       "75%    2490.000000\n",
       "max    3320.000000"
      ]
     },
     "execution_count": 11,
     "metadata": {},
     "output_type": "execute_result"
    }
   ],
   "source": [
    "data_text.describe()"
   ]
  },
  {
   "cell_type": "code",
   "execution_count": 12,
   "metadata": {},
   "outputs": [
    {
     "data": {
      "text/plain": [
       "(3321, 2)"
      ]
     },
     "execution_count": 12,
     "metadata": {},
     "output_type": "execute_result"
    }
   ],
   "source": [
    "data_text.shape"
   ]
  },
  {
   "cell_type": "code",
   "execution_count": 13,
   "metadata": {},
   "outputs": [
    {
     "data": {
      "text/plain": [
       "Index(['ID', 'TEXT'], dtype='object')"
      ]
     },
     "execution_count": 13,
     "metadata": {},
     "output_type": "execute_result"
    }
   ],
   "source": [
    "data_text.columns"
   ]
  },
  {
   "cell_type": "markdown",
   "metadata": {},
   "source": [
    "So, in short my datasets looks like this\n",
    " * data_variants (ID, Gene, Variations, Class)\n",
    " * data_text(ID, text)"
   ]
  },
  {
   "cell_type": "markdown",
   "metadata": {},
   "source": [
    "Ok, now we understood the dataset. Lets try to understand the same problem from Machine Learning point of view\n",
    "\n",
    "We want to predict about class of cancer. Now question is what kind of data is present in class column. "
   ]
  },
  {
   "cell_type": "code",
   "execution_count": 14,
   "metadata": {},
   "outputs": [
    {
     "data": {
      "text/plain": [
       "array([1, 2, 3, 4, 5, 6, 7, 8, 9], dtype=int64)"
      ]
     },
     "execution_count": 14,
     "metadata": {},
     "output_type": "execute_result"
    }
   ],
   "source": [
    "data_variants.Class.unique()"
   ]
  },
  {
   "cell_type": "markdown",
   "metadata": {},
   "source": [
    "This is descrete data so it is ***classification*** problem and since there are multiple descrete output possible so we can call it ***Multi class*** classification problem"
   ]
  },
  {
   "cell_type": "markdown",
   "metadata": {},
   "source": [
    "***Important note*** : This is medical related problem so correct results are very important. Error can be really costly here so we would like to have result  for each class in terms of Probablity. We might not be much bothered about time taken by ML algorithm as far as it is reasonable. \n",
    "\n",
    "We also want our model to be highly interpritable because a medical practitionar want to also give proper reasonining on why ML algorithm is predicting any class. \n",
    "\n",
    "We will evaluate our model using Confution matrix and Multi class log-loss"
   ]
  },
  {
   "cell_type": "markdown",
   "metadata": {},
   "source": [
    "Ok, now we understood the problem statement. Let's work on the solution. \n",
    "\n",
    "We have huge amount of text data. So, we need to pre process it. So lets write a function for the same."
   ]
  },
  {
   "cell_type": "code",
   "execution_count": 15,
   "metadata": {},
   "outputs": [],
   "source": [
    "# We would like to remove all stop words like a, is, an, the, ... \n",
    "# so we collecting all of them from nltk library\n",
    "#import nltk\n",
    "#from nltk.corpus import stopwords\n",
    "#nltk.download('stopwords')\n",
    "stop_words = set(stopwords.words('english'))"
   ]
  },
  {
   "cell_type": "code",
   "execution_count": 16,
   "metadata": {},
   "outputs": [],
   "source": [
    "\n",
    "def data_text_preprocess(total_text,ind,col):\n",
    "    # Remove int values from text data as that might not be imp\n",
    "    if type(total_text)is not int:\n",
    "        string=\"\"\n",
    "        # replacing all special char with space\n",
    "        total_text = re.sub('[^a-zA-Z0-9\\n]', ' ', str(total_text))\n",
    "        # replacing multiple spaces with single space\n",
    "        total_text=re.sub('\\s+',' ',str(total_text))\n",
    "        # bring whole text to same lower-case scale.\n",
    "        total_text=total_text.lower()\n",
    "        \n",
    "        \n",
    "        for word in total_text.split():    \n",
    "        # if the word is a not a stop word then retain that word from text\n",
    "            if not word in stop_words:\n",
    "                string+=word+\" \"\n",
    "        \n",
    "        \n",
    "        data_text[col][ind]=string\n",
    "             \n",
    "            \n",
    "        "
   ]
  },
  {
   "cell_type": "code",
   "execution_count": 17,
   "metadata": {},
   "outputs": [],
   "source": [
    "# Below code will take some time because its huge text (took 8 minute on my 8 GB RAM system), so run it and have a cup of coffee )\n",
    "\n",
    "for index,row in data_text.iterrows():\n",
    "    if type(row['TEXT'])is str:\n",
    "        data_text_preprocess(row['TEXT'],index,'TEXT')\n",
    "    "
   ]
  },
  {
   "cell_type": "markdown",
   "metadata": {},
   "source": [
    "Let's merge both the dataset. Remember that ID was common column. So lets use it to merge."
   ]
  },
  {
   "cell_type": "code",
   "execution_count": 18,
   "metadata": {},
   "outputs": [
    {
     "data": {
      "text/html": [
       "<div>\n",
       "<style scoped>\n",
       "    .dataframe tbody tr th:only-of-type {\n",
       "        vertical-align: middle;\n",
       "    }\n",
       "\n",
       "    .dataframe tbody tr th {\n",
       "        vertical-align: top;\n",
       "    }\n",
       "\n",
       "    .dataframe thead th {\n",
       "        text-align: right;\n",
       "    }\n",
       "</style>\n",
       "<table border=\"1\" class=\"dataframe\">\n",
       "  <thead>\n",
       "    <tr style=\"text-align: right;\">\n",
       "      <th></th>\n",
       "      <th>ID</th>\n",
       "      <th>Gene</th>\n",
       "      <th>Variation</th>\n",
       "      <th>Class</th>\n",
       "      <th>TEXT</th>\n",
       "    </tr>\n",
       "  </thead>\n",
       "  <tbody>\n",
       "    <tr>\n",
       "      <th>0</th>\n",
       "      <td>0</td>\n",
       "      <td>FAM58A</td>\n",
       "      <td>Truncating Mutations</td>\n",
       "      <td>1</td>\n",
       "      <td>cyclin dependent kinases cdks regulate variety...</td>\n",
       "    </tr>\n",
       "    <tr>\n",
       "      <th>1</th>\n",
       "      <td>1</td>\n",
       "      <td>CBL</td>\n",
       "      <td>W802*</td>\n",
       "      <td>2</td>\n",
       "      <td>abstract background non small cell lung cancer...</td>\n",
       "    </tr>\n",
       "    <tr>\n",
       "      <th>2</th>\n",
       "      <td>2</td>\n",
       "      <td>CBL</td>\n",
       "      <td>Q249E</td>\n",
       "      <td>2</td>\n",
       "      <td>abstract background non small cell lung cancer...</td>\n",
       "    </tr>\n",
       "    <tr>\n",
       "      <th>3</th>\n",
       "      <td>3</td>\n",
       "      <td>CBL</td>\n",
       "      <td>N454D</td>\n",
       "      <td>3</td>\n",
       "      <td>recent evidence demonstrated acquired uniparen...</td>\n",
       "    </tr>\n",
       "    <tr>\n",
       "      <th>4</th>\n",
       "      <td>4</td>\n",
       "      <td>CBL</td>\n",
       "      <td>L399V</td>\n",
       "      <td>4</td>\n",
       "      <td>oncogenic mutations monomeric casitas b lineag...</td>\n",
       "    </tr>\n",
       "  </tbody>\n",
       "</table>\n",
       "</div>"
      ],
      "text/plain": [
       "   ID    Gene             Variation  Class  \\\n",
       "0   0  FAM58A  Truncating Mutations      1   \n",
       "1   1     CBL                 W802*      2   \n",
       "2   2     CBL                 Q249E      2   \n",
       "3   3     CBL                 N454D      3   \n",
       "4   4     CBL                 L399V      4   \n",
       "\n",
       "                                                TEXT  \n",
       "0  cyclin dependent kinases cdks regulate variety...  \n",
       "1  abstract background non small cell lung cancer...  \n",
       "2  abstract background non small cell lung cancer...  \n",
       "3  recent evidence demonstrated acquired uniparen...  \n",
       "4  oncogenic mutations monomeric casitas b lineag...  "
      ]
     },
     "execution_count": 18,
     "metadata": {},
     "output_type": "execute_result"
    }
   ],
   "source": [
    "#merging both gene_variations and text data based on ID\n",
    "result=pd.merge(data_variants,data_text,on='ID',how='left')\n",
    "result.head()"
   ]
  },
  {
   "cell_type": "markdown",
   "metadata": {},
   "source": [
    "It's very important to look for missing values. Else they create problem in final analysis"
   ]
  },
  {
   "cell_type": "code",
   "execution_count": 19,
   "metadata": {},
   "outputs": [
    {
     "data": {
      "text/html": [
       "<div>\n",
       "<style scoped>\n",
       "    .dataframe tbody tr th:only-of-type {\n",
       "        vertical-align: middle;\n",
       "    }\n",
       "\n",
       "    .dataframe tbody tr th {\n",
       "        vertical-align: top;\n",
       "    }\n",
       "\n",
       "    .dataframe thead th {\n",
       "        text-align: right;\n",
       "    }\n",
       "</style>\n",
       "<table border=\"1\" class=\"dataframe\">\n",
       "  <thead>\n",
       "    <tr style=\"text-align: right;\">\n",
       "      <th></th>\n",
       "      <th>ID</th>\n",
       "      <th>Gene</th>\n",
       "      <th>Variation</th>\n",
       "      <th>Class</th>\n",
       "      <th>TEXT</th>\n",
       "    </tr>\n",
       "  </thead>\n",
       "  <tbody>\n",
       "    <tr>\n",
       "      <th>1109</th>\n",
       "      <td>1109</td>\n",
       "      <td>FANCA</td>\n",
       "      <td>S1088F</td>\n",
       "      <td>1</td>\n",
       "      <td>NaN</td>\n",
       "    </tr>\n",
       "    <tr>\n",
       "      <th>1277</th>\n",
       "      <td>1277</td>\n",
       "      <td>ARID5B</td>\n",
       "      <td>Truncating Mutations</td>\n",
       "      <td>1</td>\n",
       "      <td>NaN</td>\n",
       "    </tr>\n",
       "    <tr>\n",
       "      <th>1407</th>\n",
       "      <td>1407</td>\n",
       "      <td>FGFR3</td>\n",
       "      <td>K508M</td>\n",
       "      <td>6</td>\n",
       "      <td>NaN</td>\n",
       "    </tr>\n",
       "    <tr>\n",
       "      <th>1639</th>\n",
       "      <td>1639</td>\n",
       "      <td>FLT1</td>\n",
       "      <td>Amplification</td>\n",
       "      <td>6</td>\n",
       "      <td>NaN</td>\n",
       "    </tr>\n",
       "    <tr>\n",
       "      <th>2755</th>\n",
       "      <td>2755</td>\n",
       "      <td>BRAF</td>\n",
       "      <td>G596C</td>\n",
       "      <td>7</td>\n",
       "      <td>NaN</td>\n",
       "    </tr>\n",
       "  </tbody>\n",
       "</table>\n",
       "</div>"
      ],
      "text/plain": [
       "        ID    Gene             Variation  Class TEXT\n",
       "1109  1109   FANCA                S1088F      1  NaN\n",
       "1277  1277  ARID5B  Truncating Mutations      1  NaN\n",
       "1407  1407   FGFR3                 K508M      6  NaN\n",
       "1639  1639    FLT1         Amplification      6  NaN\n",
       "2755  2755    BRAF                 G596C      7  NaN"
      ]
     },
     "execution_count": 19,
     "metadata": {},
     "output_type": "execute_result"
    }
   ],
   "source": [
    "result[result.isnull().any(axis=1)]"
   ]
  },
  {
   "cell_type": "markdown",
   "metadata": {},
   "source": [
    "We can see many rows with missing data. Now the question is what to do with this missing value. One way could be that we can drop these rows having missing values or we can do some imputation in it. Let's go with imputation only. But question is what to impute here :\n",
    "\n",
    "How about merging Gene and Variation column. Let's do it:"
   ]
  },
  {
   "cell_type": "code",
   "execution_count": 20,
   "metadata": {},
   "outputs": [],
   "source": [
    "result.loc[result['TEXT'].isnull(),'TEXT'] = result['Gene'] +' '+result['Variation']"
   ]
  },
  {
   "cell_type": "markdown",
   "metadata": {},
   "source": [
    "Let's cross check it once again if there is any missing values"
   ]
  },
  {
   "cell_type": "code",
   "execution_count": 21,
   "metadata": {},
   "outputs": [
    {
     "data": {
      "text/html": [
       "<div>\n",
       "<style scoped>\n",
       "    .dataframe tbody tr th:only-of-type {\n",
       "        vertical-align: middle;\n",
       "    }\n",
       "\n",
       "    .dataframe tbody tr th {\n",
       "        vertical-align: top;\n",
       "    }\n",
       "\n",
       "    .dataframe thead th {\n",
       "        text-align: right;\n",
       "    }\n",
       "</style>\n",
       "<table border=\"1\" class=\"dataframe\">\n",
       "  <thead>\n",
       "    <tr style=\"text-align: right;\">\n",
       "      <th></th>\n",
       "      <th>ID</th>\n",
       "      <th>Gene</th>\n",
       "      <th>Variation</th>\n",
       "      <th>Class</th>\n",
       "      <th>TEXT</th>\n",
       "    </tr>\n",
       "  </thead>\n",
       "  <tbody>\n",
       "  </tbody>\n",
       "</table>\n",
       "</div>"
      ],
      "text/plain": [
       "Empty DataFrame\n",
       "Columns: [ID, Gene, Variation, Class, TEXT]\n",
       "Index: []"
      ]
     },
     "execution_count": 21,
     "metadata": {},
     "output_type": "execute_result"
    }
   ],
   "source": [
    "result[result.isnull().any(axis=1)]"
   ]
  },
  {
   "cell_type": "markdown",
   "metadata": {},
   "source": [
    "so all missing values are gone now.\n",
    "\n",
    "## Creating Training, Test and Validation data\n",
    "\n",
    "Before we split the data into taining, test and validation data set. We want to ensure that all spaces in Gene and Variation column to be replaced by _."
   ]
  },
  {
   "cell_type": "code",
   "execution_count": 22,
   "metadata": {},
   "outputs": [],
   "source": [
    "y_true=result['Class'].values\n",
    "result.Gene=result.Gene.str.replace('\\s+','_')\n",
    "result.Variation=result.Variation.str.replace('\\s+','_')\n"
   ]
  },
  {
   "cell_type": "markdown",
   "metadata": {},
   "source": [
    "Ok, so we can now start our split process in train, test and validation data set."
   ]
  },
  {
   "cell_type": "code",
   "execution_count": 70,
   "metadata": {},
   "outputs": [],
   "source": [
    "# Splitting the data into train and test set \n",
    "X_train, test_df, y_train, y_test = train_test_split(result, y_true, stratify=y_true, test_size=0.2)\n",
    "#print(X_train)\n",
    "# split the train data now into train validation and cross validation\n",
    "train_df, cv_df, y_train, y_cv = train_test_split(X_train, y_train, stratify=y_train, test_size=0.2)"
   ]
  },
  {
   "cell_type": "code",
   "execution_count": 24,
   "metadata": {},
   "outputs": [
    {
     "name": "stdout",
     "output_type": "stream",
     "text": [
      "Number of data points in train data: 2124\n",
      "Number of data points in test data: 665\n",
      "Number of data points in cross validation data: 532\n"
     ]
    }
   ],
   "source": [
    "print('Number of data points in train data:', train_df.shape[0])\n",
    "print('Number of data points in test data:', test_df.shape[0])\n",
    "print('Number of data points in cross validation data:', cv_df.shape[0])"
   ]
  },
  {
   "cell_type": "markdown",
   "metadata": {},
   "source": [
    "Let's look at the distribution of data in train, test and validation set."
   ]
  },
  {
   "cell_type": "code",
   "execution_count": 25,
   "metadata": {},
   "outputs": [],
   "source": [
    "train_class_distribution = train_df['Class'].value_counts().sort_index()\n",
    "test_class_distribution = test_df['Class'].value_counts().sort_index()\n",
    "cv_class_distribution = cv_df['Class'].value_counts().sort_index()"
   ]
  },
  {
   "cell_type": "code",
   "execution_count": 26,
   "metadata": {},
   "outputs": [
    {
     "data": {
      "text/plain": [
       "1    363\n",
       "2    289\n",
       "3     57\n",
       "4    439\n",
       "5    155\n",
       "6    176\n",
       "7    609\n",
       "8     12\n",
       "9     24\n",
       "Name: Class, dtype: int64"
      ]
     },
     "execution_count": 26,
     "metadata": {},
     "output_type": "execute_result"
    }
   ],
   "source": [
    "train_class_distribution"
   ]
  },
  {
   "cell_type": "markdown",
   "metadata": {},
   "source": [
    "So, what does above variable suggest us. This means in my train dataset we have class 1 values with count of 363, class 2 values having count of 289 and so on. It will be better idea to visualise it in graph format.\n",
    "\n",
    "*** Visualizing for train class distrubution***"
   ]
  },
  {
   "cell_type": "code",
   "execution_count": 27,
   "metadata": {},
   "outputs": [
    {
     "data": {
      "image/png": "[encoded data removed]",
      "text/plain": [
       "<Figure size 432x288 with 1 Axes>"
      ]
     },
     "metadata": {
      "needs_background": "light"
     },
     "output_type": "display_data"
    }
   ],
   "source": [
    "my_colors = 'rgbkymc'\n",
    "train_class_distribution.plot(kind='bar')\n",
    "plt.xlabel('Class')\n",
    "plt.ylabel(' Number of Data points per Class')\n",
    "plt.title('Distribution of yi in train data')\n",
    "plt.grid()\n",
    "plt.show()"
   ]
  },
  {
   "cell_type": "markdown",
   "metadata": {},
   "source": [
    "Let's look at distribution in form of percentage"
   ]
  },
  {
   "cell_type": "code",
   "execution_count": 28,
   "metadata": {},
   "outputs": [
    {
     "name": "stdout",
     "output_type": "stream",
     "text": [
      "Number of data points in class 7 : 609 ( 28.672 %)\n",
      "Number of data points in class 4 : 439 ( 20.669 %)\n",
      "Number of data points in class 1 : 363 ( 17.09 %)\n",
      "Number of data points in class 2 : 289 ( 13.606 %)\n",
      "Number of data points in class 6 : 176 ( 8.286 %)\n",
      "Number of data points in class 5 : 155 ( 7.298 %)\n",
      "Number of data points in class 3 : 57 ( 2.684 %)\n",
      "Number of data points in class 9 : 24 ( 1.13 %)\n",
      "Number of data points in class 8 : 12 ( 0.565 %)\n"
     ]
    }
   ],
   "source": [
    "sorted_yi = np.argsort(-train_class_distribution.values)\n",
    "for i in sorted_yi:\n",
    "    print('Number of data points in class', i+1, ':',train_class_distribution.values[i], '(', np.round((train_class_distribution.values[i]/train_df.shape[0]*100), 3), '%)')"
   ]
  },
  {
   "cell_type": "markdown",
   "metadata": {},
   "source": [
    "Let's visualize the same for test set"
   ]
  },
  {
   "cell_type": "code",
   "execution_count": 29,
   "metadata": {},
   "outputs": [
    {
     "data": {
      "image/png": "[encoded data removed]",
      "text/plain": [
       "<Figure size 432x288 with 1 Axes>"
      ]
     },
     "metadata": {
      "needs_background": "light"
     },
     "output_type": "display_data"
    }
   ],
   "source": [
    "my_colors = 'rgbkymc'\n",
    "test_class_distribution.plot(kind='bar')\n",
    "plt.xlabel('Class')\n",
    "plt.ylabel(' Number of Data points per Class')\n",
    "plt.title('Distribution of yi in test data')\n",
    "plt.grid()\n",
    "plt.show()"
   ]
  },
  {
   "cell_type": "markdown",
   "metadata": {},
   "source": [
    "Let's look at distribution in form of percentage"
   ]
  },
  {
   "cell_type": "code",
   "execution_count": 30,
   "metadata": {},
   "outputs": [
    {
     "name": "stdout",
     "output_type": "stream",
     "text": [
      "Number of data points in class 7 : 191 ( 28.722 %)\n",
      "Number of data points in class 4 : 137 ( 20.602 %)\n",
      "Number of data points in class 1 : 114 ( 17.143 %)\n",
      "Number of data points in class 2 : 91 ( 13.684 %)\n",
      "Number of data points in class 6 : 55 ( 8.271 %)\n",
      "Number of data points in class 5 : 48 ( 7.218 %)\n",
      "Number of data points in class 3 : 18 ( 2.707 %)\n",
      "Number of data points in class 9 : 7 ( 1.053 %)\n",
      "Number of data points in class 8 : 4 ( 0.602 %)\n"
     ]
    }
   ],
   "source": [
    "sorted_yi = np.argsort(-test_class_distribution.values)\n",
    "for i in sorted_yi:\n",
    "    print('Number of data points in class', i+1, ':',test_class_distribution.values[i], '(', np.round((test_class_distribution.values[i]/test_df.shape[0]*100), 3), '%)')"
   ]
  },
  {
   "cell_type": "markdown",
   "metadata": {},
   "source": [
    "Let's visualize for cross validation set"
   ]
  },
  {
   "cell_type": "code",
   "execution_count": 31,
   "metadata": {},
   "outputs": [
    {
     "data": {
      "image/png": "[encoded data removed]",
      "text/plain": [
       "<Figure size 432x288 with 1 Axes>"
      ]
     },
     "metadata": {
      "needs_background": "light"
     },
     "output_type": "display_data"
    }
   ],
   "source": [
    "my_colors = 'rgbkymc'\n",
    "cv_class_distribution.plot(kind='bar')\n",
    "plt.xlabel('Class')\n",
    "plt.ylabel('Data points per Class')\n",
    "plt.title('Distribution of yi in cross validation data')\n",
    "plt.grid()\n",
    "plt.show()"
   ]
  },
  {
   "cell_type": "markdown",
   "metadata": {},
   "source": [
    "Let's look at distribution in form of percentage"
   ]
  },
  {
   "cell_type": "code",
   "execution_count": 32,
   "metadata": {},
   "outputs": [
    {
     "name": "stdout",
     "output_type": "stream",
     "text": [
      "Number of data points in class 7 : 153 ( 28.759 %)\n",
      "Number of data points in class 4 : 110 ( 20.677 %)\n",
      "Number of data points in class 1 : 91 ( 17.105 %)\n",
      "Number of data points in class 2 : 72 ( 13.534 %)\n",
      "Number of data points in class 6 : 44 ( 8.271 %)\n",
      "Number of data points in class 5 : 39 ( 7.331 %)\n",
      "Number of data points in class 3 : 14 ( 2.632 %)\n",
      "Number of data points in class 9 : 6 ( 1.128 %)\n",
      "Number of data points in class 8 : 3 ( 0.564 %)\n"
     ]
    }
   ],
   "source": [
    "sorted_yi = np.argsort(-cv_class_distribution.values)\n",
    "for i in sorted_yi:\n",
    "    print('Number of data points in class', i+1, ':',cv_class_distribution.values[i], '(', np.round((cv_class_distribution.values[i]/cv_df.shape[0]*100), 3), '%)')"
   ]
  },
  {
   "cell_type": "markdown",
   "metadata": {},
   "source": [
    "Now question is because we need log-loss as final evaluation metrics how do we say that model we are going to build will be good model. For doing this we will build a random model and will evaluate log loss. Our model should return lower log loss value than this.\n",
    "\n",
    "## Building a Random model"
   ]
  },
  {
   "cell_type": "code",
   "execution_count": 33,
   "metadata": {},
   "outputs": [],
   "source": [
    "test_data_len = test_df.shape[0]\n",
    "cv_data_len = cv_df.shape[0]"
   ]
  },
  {
   "cell_type": "code",
   "execution_count": 34,
   "metadata": {},
   "outputs": [
    {
     "name": "stdout",
     "output_type": "stream",
     "text": [
      "Log loss on cross validation data using random model is 2.5168954621182884\n"
     ]
    }
   ],
   "source": [
    "# we create a output array that has exactly same size as the CV data\n",
    "cv_predicted_y=np.zeros((cv_data_len,9))\n",
    "for i in range (cv_data_len):\n",
    "    random_probs=np.random.rand(1,9)\n",
    "    cv_predicted_y[i]=((random_probs/sum(sum(random_probs)))[0])\n",
    "print(\"Log loss on cross validation data using random model is\",log_loss(y_cv,cv_predicted_y,eps=1e-15))"
   ]
  },
  {
   "cell_type": "code",
   "execution_count": 35,
   "metadata": {},
   "outputs": [
    {
     "name": "stdout",
     "output_type": "stream",
     "text": [
      "Log loss on Test Data using Random Model 2.5017937770188277\n"
     ]
    }
   ],
   "source": [
    "# Test-Set error.\n",
    "#we create a output array that has exactly same as the test data\n",
    "test_predicted_y = np.zeros((test_data_len,9))\n",
    "for i in range(test_data_len):\n",
    "    rand_probs = np.random.rand(1,9)\n",
    "    test_predicted_y[i] = ((rand_probs/sum(sum(rand_probs)))[0])\n",
    "print(\"Log loss on Test Data using Random Model\",log_loss(y_test,test_predicted_y, eps=1e-15))\n"
   ]
  },
  {
   "cell_type": "code",
   "execution_count": 36,
   "metadata": {},
   "outputs": [],
   "source": [
    "# Lets get the index of max probablity\n",
    "predicted_y =np.argmax(test_predicted_y, axis=1)"
   ]
  },
  {
   "cell_type": "code",
   "execution_count": 37,
   "metadata": {},
   "outputs": [
    {
     "data": {
      "text/plain": [
       "array([6, 3, 0, 0, 4, 5, 1, 7, 5, 2, 4, 4, 5, 7, 2, 5, 4, 0, 5, 2, 3, 5,\n",
       "       8, 5, 0, 3, 4, 3, 1, 4, 4, 2, 1, 6, 5, 1, 4, 8, 8, 5, 1, 2, 0, 8,\n",
       "       3, 4, 2, 2, 4, 7, 2, 7, 0, 5, 6, 0, 5, 2, 8, 8, 0, 3, 0, 5, 8, 3,\n",
       "       8, 4, 3, 8, 2, 5, 5, 2, 1, 2, 7, 8, 7, 3, 4, 1, 3, 1, 5, 6, 6, 0,\n",
       "       5, 5, 6, 5, 6, 7, 8, 2, 0, 6, 3, 8, 3, 6, 7, 2, 5, 3, 7, 4, 0, 0,\n",
       "       4, 8, 1, 4, 7, 1, 2, 0, 3, 4, 8, 4, 8, 5, 1, 2, 7, 5, 3, 4, 3, 6,\n",
       "       4, 3, 6, 7, 1, 5, 0, 1, 5, 1, 8, 4, 6, 5, 0, 0, 2, 5, 8, 1, 2, 1,\n",
       "       1, 8, 3, 8, 5, 6, 2, 5, 7, 4, 1, 7, 7, 8, 1, 2, 7, 2, 6, 6, 7, 4,\n",
       "       6, 6, 6, 8, 2, 3, 4, 4, 0, 3, 3, 8, 4, 3, 0, 2, 5, 5, 7, 7, 5, 1,\n",
       "       1, 5, 8, 0, 5, 0, 3, 3, 4, 3, 4, 5, 0, 7, 8, 4, 2, 7, 2, 4, 4, 6,\n",
       "       0, 8, 5, 8, 4, 7, 1, 4, 5, 2, 8, 1, 3, 3, 4, 4, 5, 2, 8, 7, 5, 4,\n",
       "       4, 5, 2, 7, 0, 3, 7, 8, 8, 8, 6, 1, 2, 5, 3, 8, 1, 1, 1, 6, 1, 7,\n",
       "       2, 1, 7, 6, 0, 1, 0, 0, 8, 6, 3, 3, 4, 5, 7, 2, 2, 1, 5, 2, 0, 6,\n",
       "       5, 1, 6, 5, 2, 3, 8, 2, 3, 6, 3, 1, 2, 4, 4, 7, 8, 2, 4, 5, 7, 4,\n",
       "       2, 7, 1, 0, 0, 8, 2, 2, 1, 3, 8, 2, 8, 6, 1, 8, 1, 6, 8, 0, 2, 3,\n",
       "       4, 6, 2, 7, 2, 7, 7, 3, 8, 8, 3, 7, 1, 5, 8, 1, 7, 8, 0, 8, 5, 1,\n",
       "       2, 7, 8, 0, 7, 0, 2, 4, 8, 1, 8, 5, 5, 0, 6, 8, 8, 7, 3, 3, 7, 3,\n",
       "       2, 7, 5, 6, 8, 0, 6, 5, 2, 6, 8, 1, 6, 3, 8, 2, 4, 0, 8, 3, 4, 3,\n",
       "       0, 0, 8, 3, 1, 3, 4, 3, 2, 2, 6, 2, 0, 5, 1, 6, 8, 0, 6, 7, 0, 5,\n",
       "       3, 6, 4, 3, 1, 0, 2, 8, 1, 5, 4, 2, 3, 1, 4, 6, 0, 5, 1, 5, 0, 5,\n",
       "       2, 7, 0, 1, 6, 1, 4, 0, 3, 3, 0, 5, 3, 8, 3, 1, 2, 7, 1, 3, 2, 1,\n",
       "       1, 6, 0, 2, 6, 8, 1, 2, 5, 4, 6, 7, 7, 2, 8, 5, 8, 5, 1, 7, 0, 7,\n",
       "       6, 3, 1, 5, 0, 7, 0, 2, 2, 7, 1, 5, 1, 3, 0, 6, 2, 6, 4, 4, 6, 6,\n",
       "       8, 0, 7, 3, 6, 7, 0, 3, 1, 3, 7, 3, 5, 3, 5, 2, 8, 3, 5, 2, 0, 7,\n",
       "       0, 5, 4, 5, 1, 1, 6, 4, 7, 8, 1, 2, 1, 5, 8, 0, 5, 6, 0, 8, 0, 7,\n",
       "       3, 1, 4, 2, 3, 3, 0, 8, 0, 0, 2, 6, 1, 8, 2, 1, 1, 5, 2, 4, 0, 2,\n",
       "       1, 5, 2, 0, 8, 4, 3, 2, 5, 6, 1, 7, 5, 1, 2, 4, 4, 1, 4, 0, 7, 8,\n",
       "       6, 0, 7, 6, 4, 1, 4, 0, 8, 7, 8, 4, 7, 8, 8, 2, 0, 6, 7, 0, 6, 7,\n",
       "       1, 8, 0, 6, 0, 5, 3, 2, 8, 1, 8, 7, 8, 1, 3, 5, 8, 0, 5, 6, 2, 4,\n",
       "       4, 3, 3, 8, 3, 5, 2, 8, 7, 2, 8, 6, 8, 6, 8, 5, 5, 3, 5, 6, 1, 6,\n",
       "       5, 7, 4, 2, 7], dtype=int64)"
      ]
     },
     "execution_count": 37,
     "metadata": {},
     "output_type": "execute_result"
    }
   ],
   "source": [
    "# Lets see the output. these will be 665 values present in test dataset\n",
    "predicted_y"
   ]
  },
  {
   "cell_type": "markdown",
   "metadata": {},
   "source": [
    "So you can see the index value ranging from 0 to 8. So, lets make it as 1 to 9 we will increase this value by 1."
   ]
  },
  {
   "cell_type": "code",
   "execution_count": 38,
   "metadata": {},
   "outputs": [],
   "source": [
    "predicted_y=predicted_y+1"
   ]
  },
  {
   "cell_type": "markdown",
   "metadata": {},
   "source": [
    "### Confusion Matrix"
   ]
  },
  {
   "cell_type": "code",
   "execution_count": 39,
   "metadata": {},
   "outputs": [
    {
     "name": "stdout",
     "output_type": "stream",
     "text": [
      "[[ 9 17 12 14 11 15 11 11 14]\n",
      " [12 14 10  8  7 16  7  7 10]\n",
      " [ 4  1  4  3  1  1  1  2  1]\n",
      " [17 13 15 14 13 15 15 13 22]\n",
      " [ 8  5  9  3  6  6  3  3  5]\n",
      " [ 1  5  7 10  4  5  6 10  7]\n",
      " [21 20 22 20 21 23 19 20 25]\n",
      " [ 0  1  0  0  3  0  0  0  0]\n",
      " [ 1  1  1  1  1  0  1  1  0]]\n"
     ]
    }
   ],
   "source": [
    "C=confusion_matrix(y_test,predicted_y)\n",
    "print(C)"
   ]
  },
  {
   "cell_type": "code",
   "execution_count": 40,
   "metadata": {},
   "outputs": [
    {
     "data": {
      "image/png": "[encoded data removed]",
      "text/plain": [
       "<Figure size 1440x504 with 2 Axes>"
      ]
     },
     "metadata": {
      "needs_background": "light"
     },
     "output_type": "display_data"
    }
   ],
   "source": [
    "labels=[1,2,3,4,5,6,7,8,9]\n",
    "plt.figure(figsize=(20,7))\n",
    "sns.heatmap(C,annot=True, cmap=\"YlGnBu\", fmt=\".3f\", xticklabels=labels, yticklabels=labels)\n",
    "plt.xlabel('Predicted Class')\n",
    "plt.ylabel('Original Class')\n",
    "plt.show()"
   ]
  },
  {
   "cell_type": "markdown",
   "metadata": {},
   "source": [
    "### Precision matrix"
   ]
  },
  {
   "cell_type": "code",
   "execution_count": 41,
   "metadata": {},
   "outputs": [
    {
     "name": "stdout",
     "output_type": "stream",
     "text": [
      "[[0.12328767 0.22077922 0.15       0.19178082 0.1641791  0.18518519\n",
      "  0.17460317 0.1641791  0.16666667]\n",
      " [0.16438356 0.18181818 0.125      0.10958904 0.10447761 0.19753086\n",
      "  0.11111111 0.10447761 0.11904762]\n",
      " [0.05479452 0.01298701 0.05       0.04109589 0.01492537 0.01234568\n",
      "  0.01587302 0.02985075 0.01190476]\n",
      " [0.23287671 0.16883117 0.1875     0.19178082 0.19402985 0.18518519\n",
      "  0.23809524 0.19402985 0.26190476]\n",
      " [0.10958904 0.06493506 0.1125     0.04109589 0.08955224 0.07407407\n",
      "  0.04761905 0.04477612 0.05952381]\n",
      " [0.01369863 0.06493506 0.0875     0.1369863  0.05970149 0.0617284\n",
      "  0.0952381  0.14925373 0.08333333]\n",
      " [0.28767123 0.25974026 0.275      0.2739726  0.31343284 0.28395062\n",
      "  0.3015873  0.29850746 0.29761905]\n",
      " [0.         0.01298701 0.         0.         0.04477612 0.\n",
      "  0.         0.         0.        ]\n",
      " [0.01369863 0.01298701 0.0125     0.01369863 0.01492537 0.\n",
      "  0.01587302 0.01492537 0.        ]]\n"
     ]
    }
   ],
   "source": [
    "B =(C/C.sum(axis=0))\n",
    "print(B)"
   ]
  },
  {
   "cell_type": "code",
   "execution_count": 42,
   "metadata": {},
   "outputs": [
    {
     "data": {
      "image/png": "[encoded data removed]",
      "text/plain": [
       "<Figure size 1440x504 with 2 Axes>"
      ]
     },
     "metadata": {
      "needs_background": "light"
     },
     "output_type": "display_data"
    }
   ],
   "source": [
    "labels=[1,2,3,4,5,6,7,8,9]\n",
    "plt.figure(figsize=(20,7))\n",
    "sns.heatmap(B,annot=True, cmap=\"YlGnBu\", fmt=\".3f\", xticklabels=labels, yticklabels=labels)\n",
    "plt.xlabel('Predicted Class')\n",
    "plt.ylabel('Original Class')\n",
    "plt.show()"
   ]
  },
  {
   "cell_type": "markdown",
   "metadata": {},
   "source": [
    "### Recall matrix"
   ]
  },
  {
   "cell_type": "code",
   "execution_count": 43,
   "metadata": {},
   "outputs": [
    {
     "name": "stdout",
     "output_type": "stream",
     "text": [
      "[[0.07894737 0.14912281 0.10526316 0.12280702 0.09649123 0.13157895\n",
      "  0.09649123 0.09649123 0.12280702]\n",
      " [0.13186813 0.15384615 0.10989011 0.08791209 0.07692308 0.17582418\n",
      "  0.07692308 0.07692308 0.10989011]\n",
      " [0.22222222 0.05555556 0.22222222 0.16666667 0.05555556 0.05555556\n",
      "  0.05555556 0.11111111 0.05555556]\n",
      " [0.12408759 0.09489051 0.10948905 0.10218978 0.09489051 0.10948905\n",
      "  0.10948905 0.09489051 0.16058394]\n",
      " [0.16666667 0.10416667 0.1875     0.0625     0.125      0.125\n",
      "  0.0625     0.0625     0.10416667]\n",
      " [0.01818182 0.09090909 0.12727273 0.18181818 0.07272727 0.09090909\n",
      "  0.10909091 0.18181818 0.12727273]\n",
      " [0.10994764 0.10471204 0.11518325 0.10471204 0.10994764 0.12041885\n",
      "  0.09947644 0.10471204 0.13089005]\n",
      " [0.         0.25       0.         0.         0.75       0.\n",
      "  0.         0.         0.        ]\n",
      " [0.14285714 0.14285714 0.14285714 0.14285714 0.14285714 0.\n",
      "  0.14285714 0.14285714 0.        ]]\n"
     ]
    }
   ],
   "source": [
    "A =(((C.T)/(C.sum(axis=1))).T)\n",
    "print(A)\n",
    "#.T is used to take transpose of the matrix"
   ]
  },
  {
   "cell_type": "code",
   "execution_count": 44,
   "metadata": {},
   "outputs": [
    {
     "data": {
      "image/png": "[encoded data removed]",
      "text/plain": [
       "<Figure size 1440x504 with 2 Axes>"
      ]
     },
     "metadata": {
      "needs_background": "light"
     },
     "output_type": "display_data"
    }
   ],
   "source": [
    "labels=[1,2,3,4,5,6,7,8,9]\n",
    "plt.figure(figsize=(20,7))\n",
    "sns.heatmap(A,annot=True, cmap=\"YlGnBu\", fmt=\".3f\", xticklabels=labels, yticklabels=labels)\n",
    "plt.xlabel('Predicted Class')\n",
    "plt.ylabel('Original Class')\n",
    "plt.show()"
   ]
  },
  {
   "cell_type": "markdown",
   "metadata": {},
   "source": [
    "## Evaluating Gene Column\n",
    "\n",
    "Now we will look at each independent column to make sure its relavent for my target variable but the question is, how? Let's understand with our first column Gene which is categorial in nature.\n",
    "\n",
    "So, lets explore column ***Gene*** and lets look at its distribution. "
   ]
  },
  {
   "cell_type": "code",
   "execution_count": 45,
   "metadata": {},
   "outputs": [
    {
     "name": "stdout",
     "output_type": "stream",
     "text": [
      "Number of Unique Genes : 232\n",
      "BRCA1     170\n",
      "TP53      105\n",
      "EGFR       92\n",
      "PTEN       88\n",
      "BRCA2      78\n",
      "KIT        66\n",
      "BRAF       56\n",
      "ERBB2      50\n",
      "ALK        43\n",
      "PDGFRA     36\n",
      "Name: Gene, dtype: int64\n"
     ]
    }
   ],
   "source": [
    "unique_genes = train_df['Gene'].value_counts()\n",
    "print('Number of Unique Genes :', unique_genes.shape[0])\n",
    "# the top 10 genes that occured most\n",
    "print(unique_genes.head(10))"
   ]
  },
  {
   "cell_type": "markdown",
   "metadata": {},
   "source": [
    "Lets see the number of unique values present in gene"
   ]
  },
  {
   "cell_type": "code",
   "execution_count": 46,
   "metadata": {},
   "outputs": [
    {
     "data": {
      "text/plain": [
       "232"
      ]
     },
     "execution_count": 46,
     "metadata": {},
     "output_type": "execute_result"
    }
   ],
   "source": [
    "unique_genes.shape[0]"
   ]
  },
  {
   "cell_type": "markdown",
   "metadata": {},
   "source": [
    "Lets look at the comulative distribution of unique Genes values"
   ]
  },
  {
   "cell_type": "code",
   "execution_count": 47,
   "metadata": {},
   "outputs": [
    {
     "data": {
      "image/png": "[encoded data removed]",
      "text/plain": [
       "<Figure size 432x288 with 1 Axes>"
      ]
     },
     "metadata": {
      "needs_background": "light"
     },
     "output_type": "display_data"
    }
   ],
   "source": [
    "s = sum(unique_genes.values);\n",
    "h = unique_genes.values/s;\n",
    "c = np.cumsum(h)\n",
    "plt.plot(c,label='Cumulative distribution of Genes')\n",
    "plt.grid()\n",
    "plt.legend()\n",
    "plt.show()"
   ]
  },
  {
   "cell_type": "markdown",
   "metadata": {},
   "source": [
    "So, now we need to convert these categorical variable to appropirate format which my machine learning algorithm will be able to take as an input.\n",
    "\n",
    "So we have 2 techniques to deal with it. \n",
    "\n",
    "<ol><li>\n",
    "     ***One-hot encoding*** </li>\n",
    "    <li> ***Response Encoding*** (Mean imputation) </li>\n",
    "</ol>\n",
    "\n",
    "Let's use both of them to see which one work the best. So lets start encoding using one hot encoder"
   ]
  },
  {
   "cell_type": "code",
   "execution_count": 48,
   "metadata": {},
   "outputs": [],
   "source": [
    "# one-hot encoding of Gene feature.\n",
    "gene_vectorizer = CountVectorizer()\n",
    "train_gene_feature_onehotCoding = gene_vectorizer.fit_transform(train_df['Gene'])\n",
    "test_gene_feature_onehotCoding = gene_vectorizer.transform(test_df['Gene'])\n",
    "cv_gene_feature_onehotCoding = gene_vectorizer.transform(cv_df['Gene'])"
   ]
  },
  {
   "cell_type": "markdown",
   "metadata": {},
   "source": [
    "Let's check the number of column generated after one hot encoding. One hot encoding will always return higher number of column."
   ]
  },
  {
   "cell_type": "code",
   "execution_count": 49,
   "metadata": {},
   "outputs": [
    {
     "data": {
      "text/plain": [
       "['abl1',\n",
       " 'acvr1',\n",
       " 'ago2',\n",
       " 'akt1',\n",
       " 'akt2',\n",
       " 'akt3',\n",
       " 'alk',\n",
       " 'apc',\n",
       " 'ar',\n",
       " 'araf',\n",
       " 'arid1a',\n",
       " 'arid1b',\n",
       " 'arid2',\n",
       " 'asxl1',\n",
       " 'atm',\n",
       " 'atr',\n",
       " 'aurka',\n",
       " 'axin1',\n",
       " 'b2m',\n",
       " 'bap1',\n",
       " 'bcl10',\n",
       " 'bcl2l11',\n",
       " 'bcor',\n",
       " 'braf',\n",
       " 'brca1',\n",
       " 'brca2',\n",
       " 'brip1',\n",
       " 'btk',\n",
       " 'card11',\n",
       " 'carm1',\n",
       " 'casp8',\n",
       " 'cbl',\n",
       " 'ccnd1',\n",
       " 'ccnd2',\n",
       " 'ccnd3',\n",
       " 'ccne1',\n",
       " 'cdh1',\n",
       " 'cdk12',\n",
       " 'cdk4',\n",
       " 'cdk6',\n",
       " 'cdkn1a',\n",
       " 'cdkn1b',\n",
       " 'cdkn2a',\n",
       " 'cdkn2b',\n",
       " 'cdkn2c',\n",
       " 'cebpa',\n",
       " 'chek2',\n",
       " 'cic',\n",
       " 'crebbp',\n",
       " 'ctcf',\n",
       " 'ctla4',\n",
       " 'ctnnb1',\n",
       " 'ddr2',\n",
       " 'dicer1',\n",
       " 'dnmt3a',\n",
       " 'dnmt3b',\n",
       " 'egfr',\n",
       " 'eif1ax',\n",
       " 'elf3',\n",
       " 'ep300',\n",
       " 'epas1',\n",
       " 'erbb2',\n",
       " 'erbb3',\n",
       " 'erbb4',\n",
       " 'ercc2',\n",
       " 'ercc3',\n",
       " 'ercc4',\n",
       " 'erg',\n",
       " 'errfi1',\n",
       " 'esr1',\n",
       " 'etv1',\n",
       " 'etv6',\n",
       " 'ewsr1',\n",
       " 'ezh2',\n",
       " 'fam58a',\n",
       " 'fanca',\n",
       " 'fancc',\n",
       " 'fat1',\n",
       " 'fbxw7',\n",
       " 'fgf19',\n",
       " 'fgf4',\n",
       " 'fgfr1',\n",
       " 'fgfr2',\n",
       " 'fgfr3',\n",
       " 'fgfr4',\n",
       " 'flt1',\n",
       " 'flt3',\n",
       " 'foxa1',\n",
       " 'foxp1',\n",
       " 'gata3',\n",
       " 'gli1',\n",
       " 'gna11',\n",
       " 'gnaq',\n",
       " 'gnas',\n",
       " 'h3f3a',\n",
       " 'hist1h1c',\n",
       " 'hla',\n",
       " 'hnf1a',\n",
       " 'hras',\n",
       " 'idh1',\n",
       " 'idh2',\n",
       " 'igf1r',\n",
       " 'ikzf1',\n",
       " 'jak1',\n",
       " 'jak2',\n",
       " 'kdm5a',\n",
       " 'kdm5c',\n",
       " 'kdm6a',\n",
       " 'kdr',\n",
       " 'keap1',\n",
       " 'kit',\n",
       " 'klf4',\n",
       " 'kmt2a',\n",
       " 'kmt2c',\n",
       " 'kmt2d',\n",
       " 'knstrn',\n",
       " 'kras',\n",
       " 'lats1',\n",
       " 'map2k1',\n",
       " 'map2k2',\n",
       " 'map2k4',\n",
       " 'map3k1',\n",
       " 'mapk1',\n",
       " 'med12',\n",
       " 'mef2b',\n",
       " 'met',\n",
       " 'mga',\n",
       " 'mlh1',\n",
       " 'mpl',\n",
       " 'msh2',\n",
       " 'msh6',\n",
       " 'mtor',\n",
       " 'myc',\n",
       " 'mycn',\n",
       " 'myd88',\n",
       " 'myod1',\n",
       " 'ncor1',\n",
       " 'nf1',\n",
       " 'nf2',\n",
       " 'nfe2l2',\n",
       " 'nfkbia',\n",
       " 'nkx2',\n",
       " 'notch1',\n",
       " 'notch2',\n",
       " 'npm1',\n",
       " 'nras',\n",
       " 'nsd1',\n",
       " 'ntrk1',\n",
       " 'ntrk2',\n",
       " 'ntrk3',\n",
       " 'nup93',\n",
       " 'pak1',\n",
       " 'pax8',\n",
       " 'pbrm1',\n",
       " 'pdgfra',\n",
       " 'pdgfrb',\n",
       " 'pik3ca',\n",
       " 'pik3cb',\n",
       " 'pik3cd',\n",
       " 'pik3r1',\n",
       " 'pik3r2',\n",
       " 'pik3r3',\n",
       " 'pim1',\n",
       " 'pms1',\n",
       " 'pms2',\n",
       " 'pole',\n",
       " 'ppp2r1a',\n",
       " 'ppp6c',\n",
       " 'prdm1',\n",
       " 'ptch1',\n",
       " 'pten',\n",
       " 'ptpn11',\n",
       " 'ptprd',\n",
       " 'ptprt',\n",
       " 'rab35',\n",
       " 'rac1',\n",
       " 'rad21',\n",
       " 'rad50',\n",
       " 'rad51c',\n",
       " 'rad51d',\n",
       " 'raf1',\n",
       " 'rasa1',\n",
       " 'rb1',\n",
       " 'rbm10',\n",
       " 'ret',\n",
       " 'rheb',\n",
       " 'rhoa',\n",
       " 'rictor',\n",
       " 'rit1',\n",
       " 'ros1',\n",
       " 'runx1',\n",
       " 'rxra',\n",
       " 'rybp',\n",
       " 'sdhb',\n",
       " 'sdhc',\n",
       " 'setd2',\n",
       " 'sf3b1',\n",
       " 'shoc2',\n",
       " 'shq1',\n",
       " 'smad2',\n",
       " 'smad3',\n",
       " 'smad4',\n",
       " 'smarca4',\n",
       " 'smarcb1',\n",
       " 'smo',\n",
       " 'sos1',\n",
       " 'sox9',\n",
       " 'spop',\n",
       " 'src',\n",
       " 'srsf2',\n",
       " 'stag2',\n",
       " 'stat3',\n",
       " 'stk11',\n",
       " 'tcf3',\n",
       " 'tcf7l2',\n",
       " 'tert',\n",
       " 'tet1',\n",
       " 'tet2',\n",
       " 'tgfbr1',\n",
       " 'tgfbr2',\n",
       " 'tmprss2',\n",
       " 'tp53',\n",
       " 'tp53bp1',\n",
       " 'tsc1',\n",
       " 'tsc2',\n",
       " 'u2af1',\n",
       " 'vhl',\n",
       " 'whsc1',\n",
       " 'whsc1l1',\n",
       " 'xpo1',\n",
       " 'xrcc2',\n",
       " 'yap1']"
      ]
     },
     "execution_count": 49,
     "metadata": {},
     "output_type": "execute_result"
    }
   ],
   "source": [
    "#column names after one-hot encoding for Gene column\n",
    "gene_vectorizer.get_feature_names()"
   ]
  },
  {
   "cell_type": "markdown",
   "metadata": {},
   "source": [
    "Now, lets also create Response encoding columns for Gene column"
   ]
  },
  {
   "cell_type": "code",
   "execution_count": 50,
   "metadata": {},
   "outputs": [],
   "source": [
    "# code for response coding with Laplace smoothing.\n",
    "# alpha : used for laplace smoothing\n",
    "# feature: ['gene', 'variation']\n",
    "# df: ['train_df', 'test_df', 'cv_df']\n",
    "# algorithm\n",
    "# ----------\n",
    "# Consider all unique values and the number of occurances of given feature in train data dataframe\n",
    "# build a vector (1*9) , the first element = (number of times it occured in class1 + 10*alpha / number of time it occurred in total data+90*alpha)\n",
    "# gv_dict is like a look up table, for every gene it store a (1*9) representation of it\n",
    "# for a value of feature in df:\n",
    "# if it is in train data:\n",
    "# we add the vector that was stored in 'gv_dict' look up table to 'gv_fea'\n",
    "# if it is not there is train:\n",
    "# we add [1/9, 1/9, 1/9, 1/9,1/9, 1/9, 1/9, 1/9, 1/9] to 'gv_fea'\n",
    "# return 'gv_fea'\n",
    "# ----------------------\n",
    "\n",
    "# get_gv_fea_dict: Get Gene varaition Feature Dict\n",
    "def get_gv_fea_dict(alpha, feature, df):\n",
    "    # value_count: it contains a dict like\n",
    "    # print(train_df['Gene'].value_counts())\n",
    "    value_count = train_df[feature].value_counts()\n",
    "    \n",
    "    # gv_dict : Gene Variation Dict, which contains the probability array for each gene/variation\n",
    "    gv_dict = dict()\n",
    "    \n",
    "    # denominator will contain the number of time that particular feature occured in whole data\n",
    "    for i, denominator in value_count.items():\n",
    "        # vec will contain (p(yi==1/Gi) probability of gene/variation belongs to perticular class\n",
    "        # vec is 9 diamensional vector\n",
    "        vec = []\n",
    "        for k in range(1,10):\n",
    "            # print(train_df.loc[(train_df['Class']==1) & (train_df['Gene']=='BRCA1')])\n",
    "            #         ID   Gene             Variation  Class  \n",
    "            # 2470  2470  BRCA1                S1715C      1   \n",
    "            # 2486  2486  BRCA1                S1841R      1   \n",
    "            # 2614  2614  BRCA1                   M1R      1   \n",
    "            # 2432  2432  BRCA1                L1657P      1   \n",
    "            # 2567  2567  BRCA1                T1685A      1   \n",
    "            # 2583  2583  BRCA1                E1660G      1   \n",
    "            # 2634  2634  BRCA1                W1718L      1   \n",
    "            # cls_cnt.shape[0] will return the number of rows\n",
    "\n",
    "            cls_cnt = train_df.loc[(train_df['Class']==k) & (train_df[feature]==i)]\n",
    "            \n",
    "            # cls_cnt.shape[0](numerator) will contain the number of time that particular feature occured in whole data\n",
    "            vec.append((cls_cnt.shape[0] + alpha*10)/ (denominator + 90*alpha))\n",
    "\n",
    "        # we are adding the gene/variation to the dict as key and vec as value\n",
    "        gv_dict[i]=vec\n",
    "    return gv_dict\n",
    "\n",
    "# Get Gene variation feature\n",
    "def get_gv_feature(alpha, feature, df):\n",
    "    # print(gv_dict)\n",
    "    gv_dict = get_gv_fea_dict(alpha, feature, df)\n",
    "    # value_count is similar in get_gv_fea_dict\n",
    "    value_count = train_df[feature].value_counts()\n",
    "    \n",
    "    # gv_fea: Gene_variation feature, it will contain the feature for each feature value in the data\n",
    "    gv_fea = []\n",
    "    # for every feature values in the given data frame we will check if it is there in the train data then we will add the feature to gv_fea\n",
    "    # if not we will add [1/9,1/9,1/9,1/9,1/9,1/9,1/9,1/9,1/9] to gv_fea\n",
    "    for index, row in df.iterrows():\n",
    "        if row[feature] in dict(value_count).keys():\n",
    "            gv_fea.append(gv_dict[row[feature]])\n",
    "        else:\n",
    "            gv_fea.append([1/9,1/9,1/9,1/9,1/9,1/9,1/9,1/9,1/9])\n",
    "#             gv_fea.append([-1,-1,-1,-1,-1,-1,-1,-1,-1])\n",
    "    return gv_fea"
   ]
  },
  {
   "cell_type": "code",
   "execution_count": 66,
   "metadata": {},
   "outputs": [],
   "source": [
    "#response-coding of the Gene feature\n",
    "# alpha is used for laplace smoothing\n",
    "alpha = 1\n",
    "# train gene feature\n",
    "train_gene_feature_responseCoding = np.array(get_gv_feature(alpha, \"Gene\", train_df))\n",
    "# test gene feature\n",
    "test_gene_feature_responseCoding = np.array(get_gv_feature(alpha, \"Gene\", test_df))\n",
    "# cross validation gene feature\n",
    "cv_gene_feature_responseCoding = np.array(get_gv_feature(alpha, \"Gene\", cv_df))"
   ]
  },
  {
   "cell_type": "markdown",
   "metadata": {},
   "source": [
    "Let's look at columns after applying response encoding. We must be having 9 columns for Gene column after response encoding."
   ]
  },
  {
   "cell_type": "code",
   "execution_count": 52,
   "metadata": {},
   "outputs": [
    {
     "data": {
      "text/plain": [
       "(2124, 9)"
      ]
     },
     "execution_count": 52,
     "metadata": {},
     "output_type": "execute_result"
    }
   ],
   "source": [
    "train_gene_feature_responseCoding.shape"
   ]
  },
  {
   "cell_type": "markdown",
   "metadata": {},
   "source": [
    "Now, question is how good is Gene column feature to predict my 9 classes. One idea could be that we will build model having only gene column with one hot encoder with simple model like Logistic regression. If log loss with only one column Gene comes out to be better than random model, than this feature is important."
   ]
  },
  {
   "cell_type": "code",
   "execution_count": 71,
   "metadata": {},
   "outputs": [],
   "source": [
    "# We need a hyperparemeter for SGD classifier.\n",
    "alpha=[10**x for x in range(-5,1)]"
   ]
  },
  {
   "cell_type": "code",
   "execution_count": 54,
   "metadata": {},
   "outputs": [
    {
     "name": "stdout",
     "output_type": "stream",
     "text": [
      "For values of alpha =  1e-05 The log loss is: 1.385168580782715\n",
      "For values of alpha =  0.0001 The log loss is: 1.2224449544431073\n",
      "For values of alpha =  0.001 The log loss is: 1.2497714780207974\n",
      "For values of alpha =  0.01 The log loss is: 1.3831614509694985\n",
      "For values of alpha =  0.1 The log loss is: 1.485092463704456\n",
      "For values of alpha =  1 The log loss is: 1.517397309952034\n"
     ]
    }
   ],
   "source": [
    "# We will be using SGD classifier\n",
    "# http://scikit-learn.org/stable/modules/generated/sklearn.linear_model.SGDClassifier.html\n",
    "# We will also be using Calibrated Classifier to get the result into probablity format t be used for log loss\n",
    "\n",
    "cv_log_error_array=[]\n",
    "for i in alpha:\n",
    "    \n",
    "    clf= SGDClassifier(alpha=i, penalty='l2', loss='log',random_state=42)\n",
    "    clf.fit(train_gene_feature_onehotCoding,y_train)\n",
    "    sig_clf= CalibratedClassifierCV(clf, method=\"sigmoid\")\n",
    "    sig_clf.fit(train_gene_feature_onehotCoding,y_train)\n",
    "    predict_y= sig_clf.predict_proba(cv_gene_feature_onehotCoding)\n",
    "    cv_log_error_array.append(log_loss(y_cv,predict_y,labels=clf.classes_,eps=1e-15))\n",
    "    print('For values of alpha = ', i, \"The log loss is:\",log_loss(y_cv, predict_y, labels=clf.classes_, eps=1e-15))"
   ]
  },
  {
   "cell_type": "code",
   "execution_count": 55,
   "metadata": {},
   "outputs": [
    {
     "data": {
      "image/png": "[encoded data removed]",
      "text/plain": [
       "<Figure size 432x288 with 1 Axes>"
      ]
     },
     "metadata": {
      "needs_background": "light"
     },
     "output_type": "display_data"
    }
   ],
   "source": [
    "# Lets plot the same to check the best Alpha value\n",
    "fig,ax=plt.subplots()\n",
    "ax.plot(alpha,cv_log_error_array)\n",
    "\n",
    "for i,txt in enumerate(np.round(cv_log_error_array,3)):\n",
    "    ax.annotate((alpha[i],np.round(txt,3)),(alpha[i],cv_log_error_array[i]))\n",
    "\n",
    "plt.grid()\n",
    "plt.title(\"Cross Validation Error for each alpha\")\n",
    "plt.xlabel(\"Alpha i's\")\n",
    "plt.ylabel(\"Error measure\")\n",
    "plt.show()"
   ]
  },
  {
   "cell_type": "code",
   "execution_count": 56,
   "metadata": {},
   "outputs": [
    {
     "name": "stdout",
     "output_type": "stream",
     "text": [
      "For values of best alpha =  0.0001 The train log loss is: 1.0380902976158484\n",
      "For values of best alpha =  0.0001 The cross validation log loss is: 1.2224449544431073\n",
      "For values of best alpha =  0.0001 The test log loss is: 1.183391045860554\n"
     ]
    }
   ],
   "source": [
    "# Lets use best alpha value as we can see from above graph and compute log loss\n",
    "best_alpha = np.argmin(cv_log_error_array)\n",
    "\n",
    "clf= SGDClassifier(alpha=alpha[best_alpha],penalty='l2',loss='log',random_state=42)\n",
    "clf.fit(train_gene_feature_onehotCoding,y_train)\n",
    "\n",
    "sig_clf= CalibratedClassifierCV(clf, method=\"sigmoid\")\n",
    "sig_clf.fit(train_gene_feature_onehotCoding,y_train)\n",
    "\n",
    "predict_y= sig_clf.predict_proba(train_gene_feature_onehotCoding)\n",
    "print('For values of best alpha = ', alpha[best_alpha], \"The train log loss is:\",log_loss(y_train, predict_y, labels=clf.classes_, eps=1e-15))\n",
    "predict_y = sig_clf.predict_proba(cv_gene_feature_onehotCoding)\n",
    "print('For values of best alpha = ', alpha[best_alpha], \"The cross validation log loss is:\",log_loss(y_cv, predict_y, labels=clf.classes_, eps=1e-15))\n",
    "predict_y = sig_clf.predict_proba(test_gene_feature_onehotCoding)\n",
    "print('For values of best alpha = ', alpha[best_alpha], \"The test log loss is:\",log_loss(y_test, predict_y, labels=clf.classes_, eps=1e-15))\n"
   ]
  },
  {
   "cell_type": "markdown",
   "metadata": {},
   "source": [
    "Now lets check how many values are overlapping between train, test or between CV and train"
   ]
  },
  {
   "cell_type": "code",
   "execution_count": 57,
   "metadata": {},
   "outputs": [],
   "source": [
    "test_coverage=test_df[test_df['Gene'].isin(list(set(train_df['Gene'])))].shape[0]\n",
    "cv_coverage= cv_df[cv_df['Gene'].isin(list(set(train_df['Gene'])))].shape[0]"
   ]
  },
  {
   "cell_type": "code",
   "execution_count": 58,
   "metadata": {},
   "outputs": [
    {
     "name": "stdout",
     "output_type": "stream",
     "text": [
      "1. In test data 647 out of 665 : 97.29323308270676\n",
      "2. In cross validation data 515 out of  532 : 96.80451127819549\n"
     ]
    }
   ],
   "source": [
    "print('1. In test data',test_coverage, 'out of',test_df.shape[0], \":\",(test_coverage/test_df.shape[0])*100)\n",
    "print('2. In cross validation data',cv_coverage, 'out of ',cv_df.shape[0],\":\" ,(cv_coverage/cv_df.shape[0])*100)"
   ]
  },
  {
   "cell_type": "markdown",
   "metadata": {},
   "source": [
    "## Evaluating Variation column"
   ]
  },
  {
   "cell_type": "markdown",
   "metadata": {},
   "source": [
    "Variation is also a categorical variable so we have to deal in same way like we have done for ***Gene*** column. We will again get the one hot encoder and response enoding variable for variation column."
   ]
  },
  {
   "cell_type": "code",
   "execution_count": 60,
   "metadata": {},
   "outputs": [
    {
     "name": "stdout",
     "output_type": "stream",
     "text": [
      "The number of unique variations are  1937\n",
      "Truncating_Mutations         65\n",
      "Deletion                     41\n",
      "Amplification                37\n",
      "Fusions                      24\n",
      "Overexpression                4\n",
      "G12V                          4\n",
      "Q61H                          2\n",
      "G13V                          2\n",
      "M1R                           2\n",
      "Promoter_Hypermethylation     2\n",
      "Name: Variation, dtype: int64\n"
     ]
    }
   ],
   "source": [
    "unique_variations= train_df['Variation'].value_counts()\n",
    "print('The number of unique variations are ' , unique_variations.shape[0])\n",
    "# the top 10 variations that occured most\n",
    "print(unique_variations.head(10))"
   ]
  },
  {
   "cell_type": "markdown",
   "metadata": {},
   "source": [
    "Lets look at the comulative distribution of unique ***variation*** values"
   ]
  },
  {
   "cell_type": "code",
   "execution_count": 61,
   "metadata": {},
   "outputs": [
    {
     "data": {
      "image/png": "[encoded data removed]",
      "text/plain": [
       "<Figure size 432x288 with 1 Axes>"
      ]
     },
     "metadata": {
      "needs_background": "light"
     },
     "output_type": "display_data"
    }
   ],
   "source": [
    "s= sum(unique_variations.values)\n",
    "h= unique_variations.values/s\n",
    "c= np.cumsum(h)\n",
    "plt.plot(c,label='Cumulative distribution of Variations')\n",
    "plt.grid()\n",
    "plt.legend()\n",
    "plt.show()"
   ]
  },
  {
   "cell_type": "markdown",
   "metadata": {},
   "source": [
    "Lets convert the variation column using one hot encoder column"
   ]
  },
  {
   "cell_type": "code",
   "execution_count": 73,
   "metadata": {},
   "outputs": [],
   "source": [
    "# one-hot encoding of Gene feature.\n",
    "variation_vectorizer = CountVectorizer()\n",
    "train_variation_feature_onehotCoding = variation_vectorizer.fit_transform(train_df['Variation'])\n",
    "test_variation_feature_onehotCoding = variation_vectorizer.transform(test_df['Variation'])\n",
    "cv_variation_feature_onehotCoding = variation_vectorizer.transform(cv_df['Variation'])"
   ]
  },
  {
   "cell_type": "markdown",
   "metadata": {},
   "source": [
    "Lets look at shape of one hot encoder column for variation"
   ]
  },
  {
   "cell_type": "code",
   "execution_count": 74,
   "metadata": {},
   "outputs": [
    {
     "data": {
      "text/plain": [
       "(2124, 1956)"
      ]
     },
     "execution_count": 74,
     "metadata": {},
     "output_type": "execute_result"
    }
   ],
   "source": [
    "train_variation_feature_onehotCoding.shape"
   ]
  },
  {
   "cell_type": "markdown",
   "metadata": {},
   "source": [
    "Lets do the same for variation column and generate response encoding for the same."
   ]
  },
  {
   "cell_type": "code",
   "execution_count": 75,
   "metadata": {},
   "outputs": [],
   "source": [
    "#response-coding of the Gene feature\n",
    "# alpha is used for laplace smoothing\n",
    "alpha = 1\n",
    "# train gene feature\n",
    "train_variation_feature_responseCoding = np.array(get_gv_feature(alpha, \"Variation\", train_df))\n",
    "# test gene feature\n",
    "test_variation_feature_responseCoding = np.array(get_gv_feature(alpha, \"Variation\", test_df))\n",
    "# cross validation gene feature\n",
    "cv_variation_feature_responseCoding = np.array(get_gv_feature(alpha, \"Variation\", cv_df))"
   ]
  },
  {
   "cell_type": "markdown",
   "metadata": {},
   "source": [
    "Lets look at the shape of this response encoding resultLets look at the shape of this response encoding result"
   ]
  },
  {
   "cell_type": "code",
   "execution_count": 76,
   "metadata": {},
   "outputs": [
    {
     "data": {
      "text/plain": [
       "(2124, 9)"
      ]
     },
     "execution_count": 76,
     "metadata": {},
     "output_type": "execute_result"
    }
   ],
   "source": [
    "train_variation_feature_responseCoding.shape"
   ]
  },
  {
   "cell_type": "markdown",
   "metadata": {},
   "source": [
    "Lets again build the model with only column name of ***variation*** column"
   ]
  },
  {
   "cell_type": "code",
   "execution_count": 78,
   "metadata": {},
   "outputs": [],
   "source": [
    "# We need a hyperparemeter for SGD classifier.\n",
    "alpha=[10**x for x in range(-5,1)]"
   ]
  },
  {
   "cell_type": "code",
   "execution_count": 81,
   "metadata": {},
   "outputs": [
    {
     "name": "stdout",
     "output_type": "stream",
     "text": [
      "For values of alpha =  1e-05 The log loss is: 1.68838385167384\n",
      "For values of alpha =  0.0001 The log loss is: 1.675983682633668\n",
      "For values of alpha =  0.001 The log loss is: 1.6774894069499424\n",
      "For values of alpha =  0.01 The log loss is: 1.6909421094901305\n",
      "For values of alpha =  0.1 The log loss is: 1.6995614034476543\n",
      "For values of alpha =  1 The log loss is: 1.7004538531727211\n"
     ]
    }
   ],
   "source": [
    "# We will be using SGD classifier\n",
    "# http://scikit-learn.org/stable/modules/generated/sklearn.linear_model.SGDClassifier.html\n",
    "# We will also be using Calibrated Classifier to get the result into probablity format t be used for log loss\n",
    "cv_log_error_array=[]\n",
    "for i in alpha:\n",
    "    clf = SGDClassifier(alpha=i, penalty='l2', loss='log', random_state=42)\n",
    "    clf.fit(train_variation_feature_onehotCoding, y_train)\n",
    "    \n",
    "    sig_clf = CalibratedClassifierCV(clf, method=\"sigmoid\")\n",
    "    sig_clf.fit(train_variation_feature_onehotCoding, y_train)\n",
    "    predict_y = sig_clf.predict_proba(cv_variation_feature_onehotCoding)\n",
    "    \n",
    "    cv_log_error_array.append(log_loss(y_cv, predict_y, labels=clf.classes_, eps=1e-15))\n",
    "    print('For values of alpha = ', i, \"The log loss is:\",log_loss(y_cv, predict_y, labels=clf.classes_, eps=1e-15))"
   ]
  },
  {
   "cell_type": "code",
   "execution_count": 82,
   "metadata": {},
   "outputs": [
    {
     "data": {
      "image/png": "[encoded data removed]",
      "text/plain": [
       "<Figure size 432x288 with 1 Axes>"
      ]
     },
     "metadata": {
      "needs_background": "light"
     },
     "output_type": "display_data"
    }
   ],
   "source": [
    "# Lets plot the same to check the best Alpha value\n",
    "fig, ax = plt.subplots()\n",
    "ax.plot(alpha, cv_log_error_array,c='g')\n",
    "for i, txt in enumerate(np.round(cv_log_error_array,3)):\n",
    "    ax.annotate((alpha[i],np.round(txt,3)), (alpha[i],cv_log_error_array[i]))\n",
    "plt.grid()\n",
    "plt.title(\"Cross Validation Error for each alpha\")\n",
    "plt.xlabel(\"Alpha i's\")\n",
    "plt.ylabel(\"Error measure\")\n",
    "plt.show()"
   ]
  },
  {
   "cell_type": "code",
   "execution_count": 83,
   "metadata": {},
   "outputs": [
    {
     "name": "stdout",
     "output_type": "stream",
     "text": [
      "For values of best alpha =  0.0001 The train log loss is: 0.7487019579954427\n",
      "For values of best alpha =  0.0001 The cross validation log loss is: 1.675983682633668\n",
      "For values of best alpha =  0.0001 The test log loss is: 1.7244452409590787\n"
     ]
    }
   ],
   "source": [
    "# Lets use best alpha value as we can see from above graph and compute log loss\n",
    "best_alpha = np.argmin(cv_log_error_array)\n",
    "\n",
    "clf= SGDClassifier(alpha=alpha[best_alpha],penalty='l2',loss='log',random_state=42)\n",
    "clf.fit(train_variation_feature_onehotCoding,y_train)\n",
    "\n",
    "sig_clf= CalibratedClassifierCV(clf, method=\"sigmoid\")\n",
    "sig_clf.fit(train_variation_feature_onehotCoding,y_train)\n",
    "\n",
    "predict_y= sig_clf.predict_proba(train_variation_feature_onehotCoding)\n",
    "print('For values of best alpha = ', alpha[best_alpha], \"The train log loss is:\",log_loss(y_train, predict_y, labels=clf.classes_, eps=1e-15))\n",
    "predict_y = sig_clf.predict_proba(cv_variation_feature_onehotCoding)\n",
    "print('For values of best alpha = ', alpha[best_alpha], \"The cross validation log loss is:\",log_loss(y_cv, predict_y, labels=clf.classes_, eps=1e-15))\n",
    "predict_y = sig_clf.predict_proba(test_variation_feature_onehotCoding)\n",
    "print('For values of best alpha = ', alpha[best_alpha], \"The test log loss is:\",log_loss(y_test, predict_y, labels=clf.classes_, eps=1e-15))\n"
   ]
  },
  {
   "cell_type": "code",
   "execution_count": 85,
   "metadata": {},
   "outputs": [],
   "source": [
    "test_coverage=test_df[test_df['Variation'].isin(list(set(train_df['Variation'])))].shape[0]\n",
    "cv_coverage= cv_df[cv_df['Variation'].isin(list(set(train_df['Variation'])))].shape[0]"
   ]
  },
  {
   "cell_type": "code",
   "execution_count": 86,
   "metadata": {},
   "outputs": [
    {
     "name": "stdout",
     "output_type": "stream",
     "text": [
      "1. In test data 58 out of 665 : 8.721804511278195\n",
      "2. In cross validation data 65 out of  532 : 12.218045112781954\n"
     ]
    }
   ],
   "source": [
    "print('1. In test data',test_coverage, 'out of',test_df.shape[0], \":\",(test_coverage/test_df.shape[0])*100)\n",
    "print('2. In cross validation data',cv_coverage, 'out of ',cv_df.shape[0],\":\" ,(cv_coverage/cv_df.shape[0])*100)"
   ]
  },
  {
   "cell_type": "markdown",
   "metadata": {},
   "source": [
    "## Evaluating Text column"
   ]
  },
  {
   "cell_type": "code",
   "execution_count": 87,
   "metadata": {},
   "outputs": [],
   "source": [
    "# cls_text is a data frame\n",
    "# for every row in data fram consider the 'TEXT'\n",
    "# split the words by space\n",
    "# make a dict with those words\n",
    "# increment its count whenever we see that word\n",
    "\n",
    "\n",
    "def extract_dictionary_paddle(cls_text):\n",
    "    \n",
    "    dictionary=defaultdict(int)\n",
    "    for index,row in cls_text.iterrows():\n",
    "        for word in row['TEXT'].split():\n",
    "            dictionary[word]+=1\n",
    "    \n",
    "    return dictionary"
   ]
  },
  {
   "cell_type": "code",
   "execution_count": 89,
   "metadata": {},
   "outputs": [],
   "source": [
    "import math\n",
    "\n",
    "def get_text_responsecoding(df):\n",
    "    \n",
    "    text_feature_responseCoding=np.zeros((df.shape[0],9))\n",
    "    for i in range(0,9):\n",
    "        row_index=0\n",
    "        for index,row in df.iterrows():\n",
    "            sum_prob=0\n",
    "            for word in row['TEXT'].split():\n",
    "                sum_prob+=math.log(((dict_list[i].get(word,0)+10)/(total_dict.get(word,0)+90)))\n",
    "            text_feature_responseCoding[row_index][i]=math.exp(sum_prob/len(row['TEXT'].split()))\n",
    "            row_index+=1\n",
    "    return text_feature_responseCoding\n"
   ]
  },
  {
   "cell_type": "code",
   "execution_count": 92,
   "metadata": {},
   "outputs": [
    {
     "name": "stdout",
     "output_type": "stream",
     "text": [
      "The total number of unique words in the train data : 52644\n"
     ]
    }
   ],
   "source": [
    "# building a CountVectorizer with all the words that occured minimum 3 times in train data\n",
    "text_vectorizer = CountVectorizer(min_df=3)\n",
    "train_text_feature_onehotCoding= text_vectorizer.fit_transform(train_df['TEXT'])\n",
    "\n",
    "# getting all the feature names (words)\n",
    "train_text_features= text_vectorizer.get_feature_names()\n",
    "\n",
    "# train_text_feature_onehotCoding.sum(axis=0).A1 will sum every row and returns (1*number of features) vector\n",
    "train_text_fea_counts= train_text_feature_onehotCoding.sum(axis=0).A1\n",
    "\n",
    "# zip(list(text_features),text_fea_counts) will zip a word with its number of times it occured\n",
    "\n",
    "text_fea_dict= dict(zip(list(train_text_features),train_text_fea_counts)) \n",
    "\n",
    "print(\"The total number of unique words in the train data :\", len(train_text_features))\n",
    "\n"
   ]
  },
  {
   "cell_type": "code",
   "execution_count": 94,
   "metadata": {},
   "outputs": [
    {
     "name": "stdout",
     "output_type": "stream",
     "text": [
      "[[2.35003953e+02 6.20039526e+01 2.00395257e+00 ... 2.85003953e+02\n",
      "  2.00395257e+00 5.00395257e+00]\n",
      " [8.50001719e+02 6.89001719e+02 4.60017194e+01 ... 1.93100172e+03\n",
      "  4.70017194e+01 1.19001719e+02]\n",
      " [1.02040816e-01 3.10204082e+00 1.02040816e-01 ... 5.10204082e+00\n",
      "  1.02040816e-01 1.02040816e-01]\n",
      " ...\n",
      " [2.10416667e+00 2.10416667e+00 1.04166667e-01 ... 2.10416667e+00\n",
      "  1.04166667e-01 1.04166667e-01]\n",
      " [1.04166667e-01 3.10416667e+00 1.04166667e-01 ... 2.10416667e+00\n",
      "  1.04166667e-01 1.04166667e-01]\n",
      " [2.09174312e+00 8.09174312e+00 9.17431193e-02 ... 7.09174312e+00\n",
      "  9.17431193e-02 2.09174312e+00]]\n"
     ]
    }
   ],
   "source": [
    "dict_list=[]\n",
    "\n",
    "# dict_list =[] contains 9 dictoinaries each corresponds to a class\n",
    "\n",
    "for i in range(1,10):\n",
    "    cls_text=train_df[train_df['Class']==i]\n",
    "    # build a word dict based on the words in that class\n",
    "    dict_list.append(extract_dictionary_paddle(cls_text))\n",
    "    # append it to dict_list\n",
    "\n",
    "# dict_list[i] is build on i'th  class text data\n",
    "# total_dict is buid on whole training text data\n",
    "\n",
    "total_dict= extract_dictionary_paddle(train_df)\n",
    "\n",
    "confuse_array=[]\n",
    "\n",
    "for i in train_text_features:\n",
    "    ratios=[]\n",
    "    max_val=-1\n",
    "    \n",
    "    for j in range(0,9):\n",
    "        ratios.append((dict_list)[j][i]+10/(total_dict[i]+90))\n",
    "    confuse_array.append(ratios)\n",
    "\n",
    "confuse_array=np.array(confuse_array)\n",
    "print(confuse_array)"
   ]
  },
  {
   "cell_type": "code",
   "execution_count": 95,
   "metadata": {},
   "outputs": [],
   "source": [
    "#response coding of text features\n",
    "train_text_responseCoding= get_text_responsecoding(train_df)\n",
    "test_text_responseCoding= get_text_responsecoding(test_df)\n",
    "cv_text_responseCoding= get_text_responsecoding(cv_df)\n"
   ]
  },
  {
   "cell_type": "code",
   "execution_count": 96,
   "metadata": {},
   "outputs": [],
   "source": [
    "# we convert each row values such that they sum to 1 \n",
    "train_text_responseCoding= (train_text_responseCoding.T/train_text_responseCoding.sum(axis=1)).T\n",
    "test_text_responseCoding= (test_text_responseCoding.T/test_text_responseCoding.sum(axis=1)).T\n",
    "cv_text_responseCoding= (cv_text_responseCoding.T/cv_text_responseCoding.sum(axis=1)).T"
   ]
  },
  {
   "cell_type": "code",
   "execution_count": 97,
   "metadata": {},
   "outputs": [],
   "source": [
    "# don't forget to normalize every feature\n",
    "\n",
    "train_text_feature_onehotCoding= normalize(train_text_feature_onehotCoding,axis=0)\n",
    "\n",
    "# we use the same vectorizer that was trained on train data\n",
    "test_text_feature_onehotCoding= text_vectorizer.transform(test_df['TEXT'])\n",
    "#normalizing text feature\n",
    "test_text_feature_onehotCoding = normalize(test_text_feature_onehotCoding, axis=0)\n",
    "\n",
    "cv_text_feature_onehotCoding= text_vectorizer.transform(cv_df['TEXT'])\n",
    "\n",
    "cv_text_feature_onehotCoding=  normalize(cv_text_feature_onehotCoding,axis=0)\n",
    "\n"
   ]
  },
  {
   "cell_type": "code",
   "execution_count": 99,
   "metadata": {},
   "outputs": [
    {
     "name": "stdout",
     "output_type": "stream",
     "text": [
      "[152298 118686  81088 ...      3      3      3]\n"
     ]
    }
   ],
   "source": [
    "sorted_text_fea_dict= dict(sorted(text_fea_dict.items(),key= lambda x:x[1],reverse=True))\n",
    "sorted_text_occur= np.array(list(sorted_text_fea_dict.values()))\n",
    "print(sorted_text_occur)"
   ]
  },
  {
   "cell_type": "code",
   "execution_count": 100,
   "metadata": {},
   "outputs": [
    {
     "name": "stdout",
     "output_type": "stream",
     "text": [
      "Counter({3: 4825, 4: 3930, 5: 2713, 6: 2432, 8: 2412, 7: 1889, 9: 1836, 10: 1520, 11: 1099, 12: 1078, 14: 940, 18: 927, 16: 911, 15: 852, 13: 810, 20: 627, 24: 600, 17: 573, 22: 530, 21: 501, 19: 462, 23: 450, 38: 361, 25: 360, 27: 352, 26: 345, 28: 341, 30: 333, 36: 298, 54: 293, 29: 292, 32: 281, 31: 275, 33: 254, 34: 249, 42: 236, 37: 235, 35: 232, 40: 209, 44: 205, 41: 205, 39: 187, 45: 183, 47: 180, 50: 160, 43: 157, 55: 152, 49: 152, 48: 147, 56: 139, 52: 137, 66: 136, 60: 132, 46: 132, 51: 128, 57: 127, 53: 127, 63: 122, 68: 121, 58: 118, 64: 115, 61: 113, 59: 112, 67: 107, 70: 104, 62: 102, 72: 100, 84: 95, 71: 88, 69: 87, 80: 86, 77: 86, 76: 86, 73: 82, 65: 82, 82: 81, 90: 80, 86: 76, 108: 74, 74: 71, 91: 69, 78: 69, 75: 69, 88: 68, 83: 68, 92: 66, 81: 66, 79: 65, 104: 64, 87: 64, 97: 61, 126: 59, 101: 59, 103: 58, 110: 57, 85: 57, 117: 56, 96: 55, 95: 54, 89: 54, 102: 53, 105: 52, 93: 52, 121: 51, 109: 51, 118: 49, 112: 49, 106: 49, 99: 49, 144: 48, 120: 47, 114: 47, 100: 47, 133: 46, 98: 46, 94: 46, 127: 45, 124: 45, 136: 44, 116: 42, 128: 40, 138: 39, 113: 39, 143: 38, 134: 38, 123: 38, 146: 37, 107: 37, 141: 36, 156: 35, 149: 35, 140: 35, 132: 35, 129: 35, 158: 34, 154: 34, 150: 34, 137: 34, 162: 33, 142: 33, 131: 33, 130: 33, 179: 31, 152: 31, 148: 31, 190: 30, 151: 30, 135: 30, 125: 30, 122: 30, 164: 29, 139: 29, 193: 28, 153: 28, 115: 28, 182: 27, 167: 27, 145: 27, 210: 26, 205: 26, 147: 26, 119: 26, 111: 26, 183: 25, 157: 25, 213: 24, 175: 24, 173: 24, 172: 24, 170: 24, 159: 24, 221: 23, 200: 23, 195: 23, 177: 23, 155: 23, 248: 22, 226: 22, 204: 22, 201: 22, 197: 22, 176: 22, 169: 22, 165: 22, 260: 21, 241: 21, 234: 21, 207: 21, 191: 21, 186: 21, 180: 21, 166: 21, 161: 21, 256: 20, 243: 20, 230: 20, 222: 20, 206: 20, 194: 20, 188: 20, 178: 20, 174: 20, 163: 20, 216: 19, 208: 19, 192: 19, 185: 19, 168: 19, 160: 19, 359: 18, 292: 18, 284: 18, 281: 18, 229: 18, 209: 18, 290: 17, 271: 17, 252: 17, 242: 17, 240: 17, 238: 17, 237: 17, 223: 17, 214: 17, 212: 17, 203: 17, 187: 17, 184: 17, 341: 16, 315: 16, 303: 16, 289: 16, 266: 16, 265: 16, 254: 16, 245: 16, 244: 16, 236: 16, 227: 16, 220: 16, 219: 16, 215: 16, 211: 16, 308: 15, 274: 15, 264: 15, 261: 15, 249: 15, 218: 15, 217: 15, 202: 15, 198: 15, 196: 15, 189: 15, 423: 14, 324: 14, 322: 14, 313: 14, 302: 14, 278: 14, 276: 14, 272: 14, 250: 14, 233: 14, 228: 14, 171: 14, 348: 13, 319: 13, 309: 13, 294: 13, 291: 13, 263: 13, 258: 13, 246: 13, 235: 13, 231: 13, 224: 13, 181: 13, 368: 12, 352: 12, 343: 12, 306: 12, 304: 12, 298: 12, 287: 12, 253: 12, 251: 12, 232: 12, 225: 12, 434: 11, 386: 11, 365: 11, 354: 11, 353: 11, 349: 11, 345: 11, 321: 11, 320: 11, 297: 11, 293: 11, 279: 11, 273: 11, 270: 11, 269: 11, 247: 11, 199: 11, 458: 10, 436: 10, 426: 10, 419: 10, 408: 10, 393: 10, 389: 10, 382: 10, 381: 10, 366: 10, 358: 10, 336: 10, 327: 10, 318: 10, 316: 10, 307: 10, 305: 10, 300: 10, 296: 10, 295: 10, 280: 10, 268: 10, 257: 10, 255: 10, 531: 9, 460: 9, 450: 9, 420: 9, 407: 9, 379: 9, 360: 9, 357: 9, 346: 9, 342: 9, 337: 9, 334: 9, 332: 9, 328: 9, 323: 9, 312: 9, 239: 9, 810: 8, 563: 8, 555: 8, 538: 8, 527: 8, 522: 8, 514: 8, 486: 8, 443: 8, 442: 8, 403: 8, 398: 8, 390: 8, 376: 8, 375: 8, 374: 8, 372: 8, 369: 8, 361: 8, 339: 8, 333: 8, 314: 8, 299: 8, 288: 8, 286: 8, 283: 8, 282: 8, 277: 8, 262: 8, 259: 8, 852: 7, 787: 7, 631: 7, 598: 7, 573: 7, 562: 7, 556: 7, 552: 7, 551: 7, 528: 7, 508: 7, 499: 7, 475: 7, 463: 7, 462: 7, 455: 7, 454: 7, 451: 7, 445: 7, 439: 7, 438: 7, 430: 7, 424: 7, 421: 7, 415: 7, 409: 7, 401: 7, 400: 7, 399: 7, 397: 7, 380: 7, 377: 7, 363: 7, 362: 7, 356: 7, 351: 7, 338: 7, 329: 7, 326: 7, 325: 7, 310: 7, 267: 7, 820: 6, 781: 6, 777: 6, 752: 6, 736: 6, 728: 6, 684: 6, 679: 6, 660: 6, 644: 6, 620: 6, 617: 6, 608: 6, 588: 6, 585: 6, 579: 6, 578: 6, 559: 6, 545: 6, 544: 6, 532: 6, 518: 6, 517: 6, 515: 6, 491: 6, 490: 6, 487: 6, 481: 6, 476: 6, 473: 6, 469: 6, 456: 6, 449: 6, 448: 6, 447: 6, 440: 6, 429: 6, 427: 6, 425: 6, 414: 6, 413: 6, 405: 6, 396: 6, 388: 6, 378: 6, 373: 6, 371: 6, 370: 6, 367: 6, 340: 6, 335: 6, 317: 6, 275: 6, 1843: 5, 1558: 5, 1303: 5, 1205: 5, 1098: 5, 1084: 5, 1054: 5, 974: 5, 899: 5, 872: 5, 864: 5, 849: 5, 798: 5, 796: 5, 766: 5, 763: 5, 715: 5, 701: 5, 696: 5, 683: 5, 682: 5, 664: 5, 653: 5, 645: 5, 639: 5, 624: 5, 623: 5, 619: 5, 611: 5, 607: 5, 596: 5, 594: 5, 570: 5, 568: 5, 553: 5, 547: 5, 533: 5, 521: 5, 504: 5, 503: 5, 501: 5, 480: 5, 474: 5, 471: 5, 470: 5, 464: 5, 461: 5, 452: 5, 444: 5, 441: 5, 433: 5, 431: 5, 416: 5, 406: 5, 404: 5, 392: 5, 383: 5, 344: 5, 330: 5, 301: 5, 3022: 4, 2986: 4, 1723: 4, 1699: 4, 1611: 4, 1588: 4, 1556: 4, 1504: 4, 1417: 4, 1383: 4, 1371: 4, 1349: 4, 1316: 4, 1311: 4, 1271: 4, 1268: 4, 1263: 4, 1255: 4, 1221: 4, 1197: 4, 1181: 4, 1167: 4, 1063: 4, 1007: 4, 999: 4, 956: 4, 937: 4, 924: 4, 893: 4, 876: 4, 863: 4, 862: 4, 853: 4, 846: 4, 837: 4, 831: 4, 830: 4, 812: 4, 805: 4, 783: 4, 782: 4, 778: 4, 775: 4, 764: 4, 762: 4, 750: 4, 749: 4, 742: 4, 740: 4, 724: 4, 716: 4, 705: 4, 697: 4, 695: 4, 689: 4, 688: 4, 670: 4, 657: 4, 656: 4, 652: 4, 641: 4, 632: 4, 630: 4, 622: 4, 614: 4, 613: 4, 612: 4, 610: 4, 606: 4, 602: 4, 599: 4, 592: 4, 591: 4, 589: 4, 586: 4, 577: 4, 575: 4, 569: 4, 560: 4, 554: 4, 546: 4, 540: 4, 537: 4, 511: 4, 510: 4, 509: 4, 507: 4, 506: 4, 496: 4, 494: 4, 493: 4, 492: 4, 489: 4, 482: 4, 479: 4, 478: 4, 477: 4, 459: 4, 457: 4, 446: 4, 432: 4, 428: 4, 417: 4, 395: 4, 394: 4, 387: 4, 385: 4, 384: 4, 364: 4, 331: 4, 285: 4, 3998: 3, 2705: 3, 2533: 3, 2466: 3, 2361: 3, 2330: 3, 2248: 3, 2153: 3, 2019: 3, 1991: 3, 1990: 3, 1984: 3, 1954: 3, 1905: 3, 1818: 3, 1814: 3, 1777: 3, 1717: 3, 1714: 3, 1654: 3, 1601: 3, 1577: 3, 1552: 3, 1529: 3, 1515: 3, 1505: 3, 1460: 3, 1449: 3, 1441: 3, 1440: 3, 1426: 3, 1394: 3, 1380: 3, 1378: 3, 1358: 3, 1341: 3, 1333: 3, 1332: 3, 1307: 3, 1288: 3, 1280: 3, 1278: 3, 1258: 3, 1252: 3, 1241: 3, 1232: 3, 1210: 3, 1207: 3, 1202: 3, 1196: 3, 1193: 3, 1189: 3, 1174: 3, 1170: 3, 1153: 3, 1139: 3, 1134: 3, 1130: 3, 1126: 3, 1125: 3, 1113: 3, 1088: 3, 1085: 3, 1071: 3, 1067: 3, 1061: 3, 1057: 3, 1052: 3, 1046: 3, 1045: 3, 1038: 3, 1036: 3, 1034: 3, 1028: 3, 996: 3, 995: 3, 978: 3, 976: 3, 972: 3, 966: 3, 962: 3, 960: 3, 959: 3, 957: 3, 955: 3, 952: 3, 948: 3, 945: 3, 941: 3, 939: 3, 936: 3, 918: 3, 914: 3, 910: 3, 908: 3, 904: 3, 903: 3, 902: 3, 890: 3, 888: 3, 878: 3, 875: 3, 873: 3, 871: 3, 869: 3, 866: 3, 861: 3, 858: 3, 848: 3, 843: 3, 839: 3, 835: 3, 826: 3, 825: 3, 815: 3, 809: 3, 808: 3, 806: 3, 804: 3, 794: 3, 785: 3, 774: 3, 773: 3, 770: 3, 760: 3, 756: 3, 753: 3, 744: 3, 738: 3, 735: 3, 734: 3, 726: 3, 722: 3, 720: 3, 717: 3, 706: 3, 702: 3, 699: 3, 693: 3, 692: 3, 687: 3, 686: 3, 678: 3, 674: 3, 669: 3, 666: 3, 665: 3, 663: 3, 662: 3, 659: 3, 658: 3, 654: 3, 650: 3, 648: 3, 646: 3, 643: 3, 637: 3, 634: 3, 633: 3, 628: 3, 626: 3, 618: 3, 615: 3, 605: 3, 604: 3, 603: 3, 601: 3, 597: 3, 593: 3, 590: 3, 583: 3, 581: 3, 580: 3, 576: 3, 550: 3, 549: 3, 548: 3, 543: 3, 542: 3, 541: 3, 539: 3, 536: 3, 534: 3, 526: 3, 520: 3, 519: 3, 513: 3, 505: 3, 495: 3, 483: 3, 472: 3, 466: 3, 453: 3, 437: 3, 435: 3, 418: 3, 412: 3, 411: 3, 410: 3, 402: 3, 391: 3, 347: 3, 12722: 2, 7004: 2, 6536: 2, 6123: 2, 5899: 2, 5769: 2, 5327: 2, 5282: 2, 5087: 2, 4627: 2, 4339: 2, 4296: 2, 4282: 2, 4079: 2, 3889: 2, 3766: 2, 3758: 2, 3721: 2, 3720: 2, 3649: 2, 3611: 2, 3585: 2, 3548: 2, 3503: 2, 3495: 2, 3471: 2, 3428: 2, 3403: 2, 3385: 2, 3343: 2, 3333: 2, 3262: 2, 3249: 2, 3229: 2, 3211: 2, 3149: 2, 3115: 2, 3092: 2, 3087: 2, 3073: 2, 3000: 2, 2953: 2, 2902: 2, 2898: 2, 2891: 2, 2879: 2, 2860: 2, 2859: 2, 2849: 2, 2825: 2, 2702: 2, 2683: 2, 2626: 2, 2603: 2, 2587: 2, 2551: 2, 2548: 2, 2537: 2, 2513: 2, 2507: 2, 2491: 2, 2464: 2, 2425: 2, 2412: 2, 2395: 2, 2383: 2, 2290: 2, 2241: 2, 2214: 2, 2213: 2, 2195: 2, 2132: 2, 2128: 2, 2109: 2, 2104: 2, 2094: 2, 2086: 2, 2083: 2, 2067: 2, 2055: 2, 2046: 2, 2043: 2, 2009: 2, 1986: 2, 1985: 2, 1971: 2, 1965: 2, 1963: 2, 1961: 2, 1960: 2, 1959: 2, 1948: 2, 1935: 2, 1928: 2, 1912: 2, 1894: 2, 1890: 2, 1883: 2, 1868: 2, 1863: 2, 1847: 2, 1836: 2, 1808: 2, 1807: 2, 1805: 2, 1801: 2, 1799: 2, 1796: 2, 1791: 2, 1779: 2, 1759: 2, 1755: 2, 1749: 2, 1737: 2, 1726: 2, 1724: 2, 1718: 2, 1705: 2, 1685: 2, 1683: 2, 1681: 2, 1678: 2, 1668: 2, 1659: 2, 1656: 2, 1648: 2, 1637: 2, 1634: 2, 1618: 2, 1617: 2, 1615: 2, 1598: 2, 1595: 2, 1587: 2, 1586: 2, 1576: 2, 1573: 2, 1571: 2, 1568: 2, 1567: 2, 1565: 2, 1562: 2, 1544: 2, 1537: 2, 1536: 2, 1535: 2, 1526: 2, 1525: 2, 1512: 2, 1495: 2, 1485: 2, 1478: 2, 1474: 2, 1473: 2, 1471: 2, 1470: 2, 1467: 2, 1463: 2, 1461: 2, 1442: 2, 1439: 2, 1438: 2, 1435: 2, 1433: 2, 1427: 2, 1418: 2, 1406: 2, 1395: 2, 1387: 2, 1385: 2, 1382: 2, 1374: 2, 1367: 2, 1366: 2, 1356: 2, 1338: 2, 1331: 2, 1324: 2, 1322: 2, 1318: 2, 1312: 2, 1308: 2, 1306: 2, 1302: 2, 1299: 2, 1294: 2, 1283: 2, 1281: 2, 1277: 2, 1269: 2, 1267: 2, 1265: 2, 1253: 2, 1251: 2, 1249: 2, 1248: 2, 1243: 2, 1234: 2, 1218: 2, 1215: 2, 1213: 2, 1203: 2, 1195: 2, 1194: 2, 1190: 2, 1187: 2, 1184: 2, 1178: 2, 1171: 2, 1169: 2, 1168: 2, 1165: 2, 1164: 2, 1152: 2, 1148: 2, 1142: 2, 1141: 2, 1138: 2, 1131: 2, 1127: 2, 1124: 2, 1121: 2, 1120: 2, 1119: 2, 1118: 2, 1117: 2, 1112: 2, 1110: 2, 1109: 2, 1108: 2, 1106: 2, 1103: 2, 1102: 2, 1099: 2, 1096: 2, 1094: 2, 1086: 2, 1083: 2, 1081: 2, 1078: 2, 1074: 2, 1072: 2, 1068: 2, 1051: 2, 1044: 2, 1043: 2, 1031: 2, 1027: 2, 1024: 2, 1023: 2, 1020: 2, 1018: 2, 1013: 2, 1006: 2, 1003: 2, 997: 2, 988: 2, 987: 2, 986: 2, 985: 2, 983: 2, 982: 2, 981: 2, 979: 2, 971: 2, 970: 2, 969: 2, 968: 2, 961: 2, 954: 2, 951: 2, 950: 2, 949: 2, 935: 2, 934: 2, 933: 2, 929: 2, 928: 2, 926: 2, 925: 2, 922: 2, 921: 2, 913: 2, 909: 2, 906: 2, 901: 2, 896: 2, 895: 2, 891: 2, 886: 2, 880: 2, 879: 2, 865: 2, 857: 2, 854: 2, 850: 2, 842: 2, 841: 2, 833: 2, 829: 2, 828: 2, 827: 2, 823: 2, 821: 2, 818: 2, 817: 2, 816: 2, 814: 2, 811: 2, 807: 2, 803: 2, 802: 2, 800: 2, 795: 2, 792: 2, 790: 2, 784: 2, 780: 2, 779: 2, 776: 2, 772: 2, 768: 2, 757: 2, 755: 2, 745: 2, 743: 2, 731: 2, 729: 2, 721: 2, 719: 2, 718: 2, 714: 2, 713: 2, 712: 2, 711: 2, 707: 2, 703: 2, 698: 2, 694: 2, 691: 2, 690: 2, 685: 2, 681: 2, 680: 2, 677: 2, 675: 2, 672: 2, 671: 2, 667: 2, 655: 2, 651: 2, 649: 2, 642: 2, 636: 2, 629: 2, 627: 2, 609: 2, 595: 2, 582: 2, 574: 2, 572: 2, 566: 2, 564: 2, 557: 2, 530: 2, 529: 2, 525: 2, 524: 2, 523: 2, 512: 2, 502: 2, 500: 2, 488: 2, 485: 2, 484: 2, 468: 2, 465: 2, 422: 2, 355: 2, 350: 2, 311: 2, 152298: 1, 118686: 1, 81088: 1, 68173: 1, 67978: 1, 67017: 1, 66883: 1, 64057: 1, 63240: 1, 54189: 1, 54036: 1, 50158: 1, 46881: 1, 45380: 1, 44735: 1, 44537: 1, 42274: 1, 42271: 1, 41881: 1, 40860: 1, 40475: 1, 40428: 1, 40113: 1, 39036: 1, 38681: 1, 37953: 1, 35531: 1, 35449: 1, 34962: 1, 33928: 1, 33820: 1, 33238: 1, 33180: 1, 32265: 1, 31813: 1, 31582: 1, 29067: 1, 27434: 1, 27191: 1, 26458: 1, 26387: 1, 25991: 1, 25794: 1, 25279: 1, 24915: 1, 24572: 1, 24423: 1, 24377: 1, 24123: 1, 24061: 1, 23694: 1, 23555: 1, 23157: 1, 23124: 1, 22419: 1, 22123: 1, 22080: 1, 21798: 1, 21567: 1, 21215: 1, 21145: 1, 20359: 1, 20169: 1, 19973: 1, 19859: 1, 19361: 1, 19228: 1, 19223: 1, 19008: 1, 18917: 1, 18915: 1, 18759: 1, 18653: 1, 18621: 1, 18547: 1, 18520: 1, 18466: 1, 18090: 1, 18011: 1, 17759: 1, 17736: 1, 17654: 1, 17572: 1, 17447: 1, 17444: 1, 17343: 1, 17274: 1, 17260: 1, 17209: 1, 17086: 1, 17013: 1, 17006: 1, 16995: 1, 16947: 1, 16699: 1, 16269: 1, 16241: 1, 15992: 1, 15875: 1, 15868: 1, 15801: 1, 15666: 1, 15652: 1, 15586: 1, 15521: 1, 15502: 1, 15340: 1, 15173: 1, 15127: 1, 15095: 1, 15082: 1, 15052: 1, 15022: 1, 15011: 1, 14829: 1, 14687: 1, 14647: 1, 14537: 1, 14363: 1, 14329: 1, 14175: 1, 14144: 1, 13820: 1, 13596: 1, 13510: 1, 13457: 1, 13445: 1, 13409: 1, 13299: 1, 13250: 1, 13228: 1, 13143: 1, 13043: 1, 12788: 1, 12782: 1, 12762: 1, 12743: 1, 12705: 1, 12704: 1, 12583: 1, 12576: 1, 12522: 1, 12500: 1, 12397: 1, 12395: 1, 12391: 1, 12379: 1, 12374: 1, 12341: 1, 12320: 1, 12317: 1, 12278: 1, 12277: 1, 12249: 1, 12233: 1, 12202: 1, 12109: 1, 12101: 1, 12096: 1, 12074: 1, 12046: 1, 11962: 1, 11930: 1, 11913: 1, 11822: 1, 11779: 1, 11721: 1, 11695: 1, 11639: 1, 11622: 1, 11483: 1, 11478: 1, 11385: 1, 11244: 1, 11232: 1, 11190: 1, 11167: 1, 11084: 1, 11069: 1, 10967: 1, 10921: 1, 10882: 1, 10832: 1, 10607: 1, 10595: 1, 10581: 1, 10462: 1, 10428: 1, 10410: 1, 10371: 1, 10269: 1, 10209: 1, 10194: 1, 10131: 1, 10130: 1, 10129: 1, 10128: 1, 10113: 1, 10064: 1, 9989: 1, 9988: 1, 9970: 1, 9948: 1, 9929: 1, 9924: 1, 9847: 1, 9825: 1, 9819: 1, 9780: 1, 9743: 1, 9720: 1, 9673: 1, 9621: 1, 9574: 1, 9456: 1, 9450: 1, 9397: 1, 9396: 1, 9393: 1, 9342: 1, 9332: 1, 9325: 1, 9304: 1, 9293: 1, 9260: 1, 9239: 1, 9228: 1, 9222: 1, 9146: 1, 9142: 1, 9137: 1, 9110: 1, 9076: 1, 9058: 1, 8995: 1, 8978: 1, 8923: 1, 8910: 1, 8875: 1, 8856: 1, 8851: 1, 8843: 1, 8820: 1, 8815: 1, 8805: 1, 8750: 1, 8712: 1, 8684: 1, 8592: 1, 8510: 1, 8488: 1, 8465: 1, 8456: 1, 8414: 1, 8368: 1, 8367: 1, 8341: 1, 8247: 1, 8244: 1, 8219: 1, 8216: 1, 8189: 1, 8181: 1, 8139: 1, 8134: 1, 8054: 1, 8040: 1, 8024: 1, 8020: 1, 7965: 1, 7956: 1, 7949: 1, 7920: 1, 7909: 1, 7898: 1, 7856: 1, 7836: 1, 7793: 1, 7767: 1, 7751: 1, 7737: 1, 7719: 1, 7698: 1, 7675: 1, 7660: 1, 7653: 1, 7632: 1, 7609: 1, 7587: 1, 7570: 1, 7559: 1, 7557: 1, 7551: 1, 7523: 1, 7520: 1, 7502: 1, 7499: 1, 7490: 1, 7400: 1, 7389: 1, 7329: 1, 7327: 1, 7302: 1, 7293: 1, 7286: 1, 7275: 1, 7272: 1, 7260: 1, 7223: 1, 7202: 1, 7195: 1, 7192: 1, 7170: 1, 7155: 1, 7151: 1, 7140: 1, 7108: 1, 7093: 1, 7089: 1, 7077: 1, 7069: 1, 7046: 1, 7044: 1, 7042: 1, 7033: 1, 7023: 1, 7008: 1, 6984: 1, 6975: 1, 6971: 1, 6965: 1, 6937: 1, 6911: 1, 6902: 1, 6872: 1, 6855: 1, 6851: 1, 6841: 1, 6837: 1, 6814: 1, 6766: 1, 6717: 1, 6710: 1, 6707: 1, 6704: 1, 6698: 1, 6668: 1, 6666: 1, 6657: 1, 6641: 1, 6636: 1, 6626: 1, 6610: 1, 6604: 1, 6593: 1, 6578: 1, 6528: 1, 6502: 1, 6483: 1, 6464: 1, 6442: 1, 6432: 1, 6421: 1, 6395: 1, 6385: 1, 6347: 1, 6315: 1, 6308: 1, 6305: 1, 6303: 1, 6293: 1, 6276: 1, 6267: 1, 6242: 1, 6228: 1, 6219: 1, 6215: 1, 6165: 1, 6138: 1, 6130: 1, 6124: 1, 6122: 1, 6119: 1, 6116: 1, 6109: 1, 6099: 1, 6092: 1, 6057: 1, 6049: 1, 6047: 1, 6035: 1, 6027: 1, 6010: 1, 6006: 1, 6001: 1, 5976: 1, 5960: 1, 5952: 1, 5932: 1, 5925: 1, 5911: 1, 5895: 1, 5881: 1, 5861: 1, 5843: 1, 5842: 1, 5838: 1, 5821: 1, 5807: 1, 5784: 1, 5761: 1, 5749: 1, 5747: 1, 5731: 1, 5726: 1, 5719: 1, 5716: 1, 5695: 1, 5687: 1, 5647: 1, 5612: 1, 5611: 1, 5593: 1, 5570: 1, 5555: 1, 5533: 1, 5476: 1, 5448: 1, 5440: 1, 5428: 1, 5423: 1, 5417: 1, 5416: 1, 5409: 1, 5390: 1, 5388: 1, 5377: 1, 5373: 1, 5369: 1, 5364: 1, 5363: 1, 5353: 1, 5347: 1, 5345: 1, 5340: 1, 5299: 1, 5283: 1, 5281: 1, 5272: 1, 5239: 1, 5236: 1, 5235: 1, 5225: 1, 5213: 1, 5210: 1, 5204: 1, 5195: 1, 5179: 1, 5176: 1, 5137: 1, 5131: 1, 5128: 1, 5118: 1, 5114: 1, 5063: 1, 5040: 1, 5035: 1, 5023: 1, 5022: 1, 5015: 1, 4996: 1, 4984: 1, 4980: 1, 4969: 1, 4944: 1, 4926: 1, 4925: 1, 4921: 1, 4918: 1, 4916: 1, 4913: 1, 4910: 1, 4884: 1, 4879: 1, 4872: 1, 4869: 1, 4860: 1, 4857: 1, 4852: 1, 4851: 1, 4848: 1, 4837: 1, 4836: 1, 4829: 1, 4827: 1, 4808: 1, 4802: 1, 4794: 1, 4776: 1, 4775: 1, 4770: 1, 4761: 1, 4754: 1, 4753: 1, 4745: 1, 4736: 1, 4733: 1, 4725: 1, 4665: 1, 4663: 1, 4661: 1, 4647: 1, 4638: 1, 4633: 1, 4625: 1, 4587: 1, 4573: 1, 4569: 1, 4567: 1, 4565: 1, 4564: 1, 4562: 1, 4547: 1, 4544: 1, 4535: 1, 4528: 1, 4515: 1, 4503: 1, 4499: 1, 4484: 1, 4481: 1, 4463: 1, 4444: 1, 4443: 1, 4439: 1, 4431: 1, 4430: 1, 4429: 1, 4428: 1, 4412: 1, 4410: 1, 4407: 1, 4395: 1, 4384: 1, 4380: 1, 4353: 1, 4350: 1, 4342: 1, 4341: 1, 4337: 1, 4334: 1, 4331: 1, 4327: 1, 4319: 1, 4314: 1, 4299: 1, 4298: 1, 4295: 1, 4292: 1, 4259: 1, 4257: 1, 4249: 1, 4246: 1, 4239: 1, 4238: 1, 4221: 1, 4214: 1, 4213: 1, 4196: 1, 4191: 1, 4184: 1, 4173: 1, 4160: 1, 4156: 1, 4148: 1, 4139: 1, 4136: 1, 4134: 1, 4127: 1, 4126: 1, 4120: 1, 4117: 1, 4110: 1, 4109: 1, 4107: 1, 4105: 1, 4095: 1, 4093: 1, 4087: 1, 4075: 1, 4067: 1, 4064: 1, 4054: 1, 4043: 1, 4041: 1, 4035: 1, 4034: 1, 4027: 1, 4025: 1, 4022: 1, 4014: 1, 3999: 1, 3990: 1, 3981: 1, 3980: 1, 3977: 1, 3970: 1, 3967: 1, 3964: 1, 3960: 1, 3951: 1, 3924: 1, 3918: 1, 3915: 1, 3912: 1, 3911: 1, 3910: 1, 3898: 1, 3896: 1, 3890: 1, 3885: 1, 3883: 1, 3877: 1, 3865: 1, 3861: 1, 3848: 1, 3847: 1, 3844: 1, 3842: 1, 3824: 1, 3820: 1, 3813: 1, 3806: 1, 3800: 1, 3793: 1, 3792: 1, 3782: 1, 3776: 1, 3773: 1, 3764: 1, 3757: 1, 3755: 1, 3749: 1, 3748: 1, 3740: 1, 3737: 1, 3731: 1, 3713: 1, 3711: 1, 3709: 1, 3707: 1, 3706: 1, 3697: 1, 3677: 1, 3674: 1, 3664: 1, 3660: 1, 3653: 1, 3634: 1, 3633: 1, 3632: 1, 3631: 1, 3630: 1, 3627: 1, 3616: 1, 3610: 1, 3599: 1, 3595: 1, 3580: 1, 3578: 1, 3573: 1, 3570: 1, 3568: 1, 3561: 1, 3542: 1, 3536: 1, 3532: 1, 3529: 1, 3528: 1, 3527: 1, 3525: 1, 3523: 1, 3520: 1, 3516: 1, 3505: 1, 3494: 1, 3485: 1, 3484: 1, 3481: 1, 3473: 1, 3472: 1, 3470: 1, 3468: 1, 3466: 1, 3456: 1, 3453: 1, 3452: 1, 3451: 1, 3449: 1, 3447: 1, 3434: 1, 3430: 1, 3429: 1, 3427: 1, 3424: 1, 3423: 1, 3417: 1, 3416: 1, 3412: 1, 3411: 1, 3405: 1, 3402: 1, 3401: 1, 3391: 1, 3389: 1, 3382: 1, 3375: 1, 3370: 1, 3366: 1, 3363: 1, 3358: 1, 3351: 1, 3348: 1, 3346: 1, 3344: 1, 3336: 1, 3328: 1, 3322: 1, 3318: 1, 3317: 1, 3311: 1, 3302: 1, 3297: 1, 3294: 1, 3292: 1, 3291: 1, 3287: 1, 3284: 1, 3272: 1, 3269: 1, 3265: 1, 3257: 1, 3255: 1, 3248: 1, 3245: 1, 3240: 1, 3237: 1, 3225: 1, 3223: 1, 3206: 1, 3195: 1, 3189: 1, 3186: 1, 3184: 1, 3179: 1, 3178: 1, 3156: 1, 3155: 1, 3154: 1, 3153: 1, 3148: 1, 3134: 1, 3129: 1, 3127: 1, 3124: 1, 3116: 1, 3111: 1, 3110: 1, 3100: 1, 3095: 1, 3094: 1, 3086: 1, 3085: 1, 3081: 1, 3054: 1, 3046: 1, 3039: 1, 3038: 1, 3019: 1, 3012: 1, 3011: 1, 3006: 1, 2987: 1, 2980: 1, 2977: 1, 2968: 1, 2967: 1, 2961: 1, 2960: 1, 2959: 1, 2957: 1, 2955: 1, 2951: 1, 2946: 1, 2945: 1, 2943: 1, 2937: 1, 2924: 1, 2917: 1, 2916: 1, 2914: 1, 2907: 1, 2906: 1, 2903: 1, 2894: 1, 2889: 1, 2872: 1, 2868: 1, 2867: 1, 2864: 1, 2863: 1, 2853: 1, 2852: 1, 2845: 1, 2839: 1, 2835: 1, 2832: 1, 2830: 1, 2827: 1, 2821: 1, 2816: 1, 2813: 1, 2809: 1, 2808: 1, 2799: 1, 2798: 1, 2794: 1, 2792: 1, 2791: 1, 2786: 1, 2779: 1, 2774: 1, 2747: 1, 2746: 1, 2744: 1, 2738: 1, 2736: 1, 2723: 1, 2721: 1, 2715: 1, 2709: 1, 2706: 1, 2703: 1, 2698: 1, 2693: 1, 2691: 1, 2690: 1, 2684: 1, 2682: 1, 2680: 1, 2679: 1, 2676: 1, 2672: 1, 2670: 1, 2667: 1, 2665: 1, 2664: 1, 2663: 1, 2657: 1, 2656: 1, 2654: 1, 2649: 1, 2647: 1, 2644: 1, 2642: 1, 2641: 1, 2630: 1, 2621: 1, 2616: 1, 2612: 1, 2611: 1, 2610: 1, 2609: 1, 2604: 1, 2594: 1, 2593: 1, 2589: 1, 2586: 1, 2585: 1, 2584: 1, 2583: 1, 2580: 1, 2576: 1, 2575: 1, 2571: 1, 2570: 1, 2568: 1, 2563: 1, 2561: 1, 2556: 1, 2552: 1, 2550: 1, 2549: 1, 2547: 1, 2542: 1, 2540: 1, 2538: 1, 2536: 1, 2534: 1, 2532: 1, 2529: 1, 2524: 1, 2512: 1, 2510: 1, 2508: 1, 2499: 1, 2497: 1, 2493: 1, 2490: 1, 2489: 1, 2486: 1, 2482: 1, 2481: 1, 2473: 1, 2470: 1, 2468: 1, 2465: 1, 2460: 1, 2459: 1, 2455: 1, 2452: 1, 2451: 1, 2448: 1, 2446: 1, 2441: 1, 2440: 1, 2439: 1, 2438: 1, 2433: 1, 2423: 1, 2422: 1, 2420: 1, 2415: 1, 2406: 1, 2405: 1, 2398: 1, 2397: 1, 2394: 1, 2390: 1, 2382: 1, 2381: 1, 2380: 1, 2379: 1, 2373: 1, 2369: 1, 2368: 1, 2362: 1, 2360: 1, 2356: 1, 2355: 1, 2354: 1, 2352: 1, 2349: 1, 2348: 1, 2346: 1, 2345: 1, 2341: 1, 2340: 1, 2334: 1, 2333: 1, 2331: 1, 2329: 1, 2325: 1, 2324: 1, 2323: 1, 2322: 1, 2318: 1, 2309: 1, 2308: 1, 2307: 1, 2304: 1, 2301: 1, 2292: 1, 2291: 1, 2289: 1, 2288: 1, 2286: 1, 2281: 1, 2276: 1, 2275: 1, 2263: 1, 2260: 1, 2257: 1, 2256: 1, 2252: 1, 2249: 1, 2246: 1, 2240: 1, 2235: 1, 2232: 1, 2230: 1, 2229: 1, 2225: 1, 2219: 1, 2215: 1, 2210: 1, 2207: 1, 2203: 1, 2200: 1, 2199: 1, 2197: 1, 2194: 1, 2193: 1, 2192: 1, 2191: 1, 2190: 1, 2186: 1, 2183: 1, 2181: 1, 2178: 1, 2176: 1, 2168: 1, 2166: 1, 2165: 1, 2164: 1, 2162: 1, 2150: 1, 2147: 1, 2141: 1, 2140: 1, 2134: 1, 2130: 1, 2124: 1, 2120: 1, 2119: 1, 2118: 1, 2115: 1, 2105: 1, 2103: 1, 2102: 1, 2100: 1, 2099: 1, 2096: 1, 2095: 1, 2093: 1, 2092: 1, 2091: 1, 2089: 1, 2081: 1, 2076: 1, 2073: 1, 2072: 1, 2064: 1, 2061: 1, 2060: 1, 2057: 1, 2054: 1, 2053: 1, 2049: 1, 2047: 1, 2038: 1, 2037: 1, 2035: 1, 2031: 1, 2030: 1, 2025: 1, 2024: 1, 2017: 1, 2016: 1, 2015: 1, 2014: 1, 2007: 1, 2004: 1, 2002: 1, 2001: 1, 2000: 1, 1998: 1, 1997: 1, 1996: 1, 1995: 1, 1993: 1, 1989: 1, 1982: 1, 1974: 1, 1973: 1, 1966: 1, 1962: 1, 1957: 1, 1952: 1, 1950: 1, 1945: 1, 1941: 1, 1939: 1, 1932: 1, 1931: 1, 1930: 1, 1925: 1, 1923: 1, 1920: 1, 1918: 1, 1917: 1, 1915: 1, 1911: 1, 1910: 1, 1906: 1, 1902: 1, 1901: 1, 1900: 1, 1897: 1, 1895: 1, 1893: 1, 1892: 1, 1889: 1, 1886: 1, 1884: 1, 1881: 1, 1880: 1, 1876: 1, 1875: 1, 1872: 1, 1870: 1, 1867: 1, 1866: 1, 1862: 1, 1859: 1, 1858: 1, 1855: 1, 1854: 1, 1853: 1, 1850: 1, 1849: 1, 1848: 1, 1846: 1, 1842: 1, 1840: 1, 1839: 1, 1838: 1, 1837: 1, 1834: 1, 1828: 1, 1826: 1, 1824: 1, 1822: 1, 1820: 1, 1813: 1, 1811: 1, 1810: 1, 1809: 1, 1806: 1, 1802: 1, 1797: 1, 1795: 1, 1788: 1, 1787: 1, 1786: 1, 1785: 1, 1784: 1, 1783: 1, 1782: 1, 1780: 1, 1778: 1, 1775: 1, 1773: 1, 1771: 1, 1768: 1, 1766: 1, 1763: 1, 1762: 1, 1756: 1, 1753: 1, 1752: 1, 1751: 1, 1750: 1, 1745: 1, 1742: 1, 1738: 1, 1735: 1, 1733: 1, 1730: 1, 1728: 1, 1727: 1, 1722: 1, 1721: 1, 1720: 1, 1715: 1, 1713: 1, 1710: 1, 1696: 1, 1694: 1, 1692: 1, 1689: 1, 1688: 1, 1687: 1, 1680: 1, 1675: 1, 1674: 1, 1672: 1, 1671: 1, 1665: 1, 1664: 1, 1663: 1, 1660: 1, 1655: 1, 1649: 1, 1643: 1, 1639: 1, 1638: 1, 1636: 1, 1635: 1, 1632: 1, 1631: 1, 1628: 1, 1622: 1, 1621: 1, 1616: 1, 1614: 1, 1612: 1, 1610: 1, 1609: 1, 1607: 1, 1605: 1, 1603: 1, 1599: 1, 1597: 1, 1593: 1, 1590: 1, 1583: 1, 1581: 1, 1580: 1, 1574: 1, 1570: 1, 1561: 1, 1560: 1, 1551: 1, 1549: 1, 1546: 1, 1543: 1, 1542: 1, 1541: 1, 1540: 1, 1533: 1, 1531: 1, 1530: 1, 1527: 1, 1524: 1, 1523: 1, 1521: 1, 1520: 1, 1518: 1, 1516: 1, 1509: 1, 1508: 1, 1501: 1, 1500: 1, 1494: 1, 1493: 1, 1492: 1, 1490: 1, 1487: 1, 1486: 1, 1484: 1, 1483: 1, 1481: 1, 1480: 1, 1479: 1, 1477: 1, 1475: 1, 1459: 1, 1457: 1, 1452: 1, 1447: 1, 1446: 1, 1444: 1, 1443: 1, 1436: 1, 1434: 1, 1432: 1, 1431: 1, 1424: 1, 1422: 1, 1421: 1, 1420: 1, 1415: 1, 1414: 1, 1413: 1, 1411: 1, 1410: 1, 1409: 1, 1403: 1, 1399: 1, 1398: 1, 1396: 1, 1393: 1, 1381: 1, 1376: 1, 1375: 1, 1373: 1, 1372: 1, 1369: 1, 1365: 1, 1363: 1, 1359: 1, 1357: 1, 1355: 1, 1351: 1, 1347: 1, 1346: 1, 1345: 1, 1343: 1, 1342: 1, 1337: 1, 1336: 1, 1335: 1, 1334: 1, 1330: 1, 1329: 1, 1328: 1, 1327: 1, 1323: 1, 1321: 1, 1320: 1, 1317: 1, 1315: 1, 1310: 1, 1309: 1, 1304: 1, 1301: 1, 1297: 1, 1296: 1, 1293: 1, 1291: 1, 1289: 1, 1287: 1, 1285: 1, 1284: 1, 1276: 1, 1270: 1, 1262: 1, 1257: 1, 1256: 1, 1254: 1, 1250: 1, 1246: 1, 1245: 1, 1244: 1, 1240: 1, 1238: 1, 1237: 1, 1230: 1, 1229: 1, 1227: 1, 1224: 1, 1216: 1, 1214: 1, 1211: 1, 1209: 1, 1206: 1, 1204: 1, 1201: 1, 1199: 1, 1198: 1, 1191: 1, 1182: 1, 1179: 1, 1176: 1, 1175: 1, 1166: 1, 1163: 1, 1159: 1, 1158: 1, 1157: 1, 1154: 1, 1151: 1, 1150: 1, 1149: 1, 1144: 1, 1140: 1, 1137: 1, 1132: 1, 1129: 1, 1128: 1, 1123: 1, 1122: 1, 1116: 1, 1115: 1, 1114: 1, 1111: 1, 1104: 1, 1101: 1, 1100: 1, 1095: 1, 1093: 1, 1092: 1, 1091: 1, 1090: 1, 1089: 1, 1082: 1, 1079: 1, 1077: 1, 1076: 1, 1070: 1, 1069: 1, 1066: 1, 1062: 1, 1060: 1, 1059: 1, 1053: 1, 1050: 1, 1047: 1, 1040: 1, 1035: 1, 1029: 1, 1026: 1, 1022: 1, 1021: 1, 1017: 1, 1016: 1, 1010: 1, 1009: 1, 1008: 1, 1005: 1, 1004: 1, 1002: 1, 1001: 1, 1000: 1, 998: 1, 994: 1, 993: 1, 992: 1, 984: 1, 980: 1, 973: 1, 965: 1, 964: 1, 963: 1, 958: 1, 953: 1, 946: 1, 944: 1, 943: 1, 938: 1, 932: 1, 930: 1, 923: 1, 920: 1, 919: 1, 915: 1, 912: 1, 911: 1, 907: 1, 897: 1, 894: 1, 889: 1, 885: 1, 884: 1, 882: 1, 874: 1, 870: 1, 867: 1, 860: 1, 859: 1, 856: 1, 855: 1, 851: 1, 840: 1, 838: 1, 836: 1, 834: 1, 832: 1, 824: 1, 822: 1, 813: 1, 801: 1, 797: 1, 791: 1, 789: 1, 788: 1, 786: 1, 771: 1, 767: 1, 759: 1, 754: 1, 751: 1, 748: 1, 747: 1, 746: 1, 741: 1, 737: 1, 733: 1, 730: 1, 727: 1, 725: 1, 723: 1, 710: 1, 709: 1, 708: 1, 704: 1, 700: 1, 676: 1, 673: 1, 668: 1, 661: 1, 647: 1, 638: 1, 635: 1, 625: 1, 616: 1, 600: 1, 587: 1, 584: 1, 571: 1, 567: 1, 561: 1, 558: 1, 535: 1, 516: 1, 498: 1, 497: 1})\n"
     ]
    }
   ],
   "source": [
    "# Number of words for a given frequency.\n",
    "print(Counter(sorted_text_occur))"
   ]
  },
  {
   "cell_type": "code",
   "execution_count": null,
   "metadata": {},
   "outputs": [],
   "source": []
  }
 ],
 "metadata": {
  "kernelspec": {
   "display_name": "Python 3",
   "language": "python",
   "name": "python3"
  },
  "language_info": {
   "codemirror_mode": {
    "name": "ipython",
    "version": 3
   },
   "file_extension": ".py",
   "mimetype": "text/x-python",
   "name": "python",
   "nbconvert_exporter": "python",
   "pygments_lexer": "ipython3",
   "version": "3.6.8"
  }
 },
 "nbformat": 4,
 "nbformat_minor": 2
}
