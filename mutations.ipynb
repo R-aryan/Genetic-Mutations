{
 "cells": [
  {
   "cell_type": "markdown",
   "metadata": {},
   "source": [
    "\n",
    "\n",
    "#                          Project : Medical Treatment"
   ]
  },
  {
   "cell_type": "markdown",
   "metadata": {},
   "source": [
    "# Problem statement"
   ]
  },
  {
   "cell_type": "markdown",
   "metadata": {},
   "source": [
    "A lot has been said during the past several years about how precision medicine and, more concretely, how genetic testing is going to disrupt the way diseases like cancer are treated.\n",
    "\n",
    "But this is only partially happening due to the huge amount of manual work still required. Once sequenced, a cancer tumor can have thousands of genetic mutations. But the challenge is distinguishing the mutations that contribute to tumor growth (drivers) from the neutral mutations (passengers). \n",
    "\n",
    "Currently this interpretation of genetic mutations is being done manually. This is a very time-consuming task where a clinical pathologist has to manually review and classify every single genetic mutation based on evidence from text-based clinical literature.\n",
    "\n",
    "We need to develop a Machine Learning algorithm that, using this knowledge base as a baseline, automatically classifies genetic variations.\n",
    "\n",
    "This problem was a competition posted on Kaggle with a award of $15,000. This was launched by  Memorial Sloan Kettering Cancer Center (MSKCC), accepted by NIPS 2017 Competition Track,  because we need your help to take personalized medicine to its full potential.\n",
    "\n",
    "You can check all details about the competition from following link :\n",
    "https://www.kaggle.com/c/msk-redefining-cancer-treatment\n",
    "\n",
    "In order to get the dataset please create a login account to Kaggle and go to this problem statement page(given above) and download 2 dataset\n",
    "\n",
    "***training_variants.zip*** and ***training_text.zip***"
   ]
  },
  {
   "cell_type": "markdown",
   "metadata": {},
   "source": [
    "## Analysis of the problem statement"
   ]
  },
  {
   "cell_type": "markdown",
   "metadata": {},
   "source": [
    "Lets first understand the data set provided and using that dataset we will try to understand the above problem in Machine Learning world. Since, the dataset is huge lets load it using python itself"
   ]
  },
  {
   "cell_type": "code",
   "execution_count": 1,
   "metadata": {},
   "outputs": [],
   "source": [
    "# Loading all required packages\n",
    "# If any of it fails, do not panic. Just install it using \"pip3 install <package_name>\" or by using conda install package_name\n",
    "import pandas as pd\n",
    "import matplotlib.pyplot as plt\n",
    "import re\n",
    "import time\n",
    "import warnings\n",
    "import numpy as np\n",
    "from nltk.corpus import stopwords\n",
    "from sklearn.decomposition import TruncatedSVD\n",
    "from sklearn.preprocessing import normalize\n",
    "from sklearn.feature_extraction.text import CountVectorizer\n",
    "from sklearn.manifold import TSNE\n",
    "import seaborn as sns\n",
    "from sklearn.neighbors import KNeighborsClassifier\n",
    "from sklearn.metrics import confusion_matrix\n",
    "from sklearn.metrics.classification import accuracy_score, log_loss\n",
    "from sklearn.feature_extraction.text import TfidfVectorizer\n",
    "from sklearn.linear_model import SGDClassifier\n",
    "from imblearn.over_sampling import SMOTE\n",
    "from collections import Counter\n",
    "from scipy.sparse import hstack\n",
    "from sklearn.multiclass import OneVsRestClassifier\n",
    "from sklearn.svm import SVC\n",
    "from sklearn.model_selection import StratifiedKFold \n",
    "from collections import Counter, defaultdict\n",
    "from sklearn.calibration import CalibratedClassifierCV\n",
    "from sklearn.naive_bayes import MultinomialNB\n",
    "from sklearn.naive_bayes import GaussianNB\n",
    "from sklearn.model_selection import train_test_split\n",
    "from sklearn.model_selection import GridSearchCV\n",
    "import math\n",
    "from sklearn.metrics import normalized_mutual_info_score\n",
    "from sklearn.ensemble import RandomForestClassifier\n",
    "warnings.filterwarnings(\"ignore\")\n",
    "\n",
    "from mlxtend.classifier import StackingClassifier\n",
    "\n",
    "from sklearn import model_selection\n",
    "from sklearn.linear_model import LogisticRegression"
   ]
  },
  {
   "cell_type": "markdown",
   "metadata": {},
   "source": [
    "There are 2 data files provided for solving this problem. I have kept them inside a folder training. So lets load them"
   ]
  },
  {
   "cell_type": "code",
   "execution_count": 2,
   "metadata": {},
   "outputs": [],
   "source": [
    "# Loading training_variants. Its a comma seperated file\n",
    "data_variants=pd.read_csv('training/training_variants')\n",
    "# Loading training_text dataset. This is seperated by ||\n",
    "data_text=pd.read_csv(\"training/training_text\",sep=\"\\|\\|\",engine=\"python\",names=[\"ID\",\"TEXT\"],skiprows=1)"
   ]
  },
  {
   "cell_type": "code",
   "execution_count": 3,
   "metadata": {},
   "outputs": [
    {
     "data": {
      "text/html": [
       "<div>\n",
       "<style scoped>\n",
       "    .dataframe tbody tr th:only-of-type {\n",
       "        vertical-align: middle;\n",
       "    }\n",
       "\n",
       "    .dataframe tbody tr th {\n",
       "        vertical-align: top;\n",
       "    }\n",
       "\n",
       "    .dataframe thead th {\n",
       "        text-align: right;\n",
       "    }\n",
       "</style>\n",
       "<table border=\"1\" class=\"dataframe\">\n",
       "  <thead>\n",
       "    <tr style=\"text-align: right;\">\n",
       "      <th></th>\n",
       "      <th>ID</th>\n",
       "      <th>Gene</th>\n",
       "      <th>Variation</th>\n",
       "      <th>Class</th>\n",
       "    </tr>\n",
       "  </thead>\n",
       "  <tbody>\n",
       "    <tr>\n",
       "      <th>0</th>\n",
       "      <td>0</td>\n",
       "      <td>FAM58A</td>\n",
       "      <td>Truncating Mutations</td>\n",
       "      <td>1</td>\n",
       "    </tr>\n",
       "    <tr>\n",
       "      <th>1</th>\n",
       "      <td>1</td>\n",
       "      <td>CBL</td>\n",
       "      <td>W802*</td>\n",
       "      <td>2</td>\n",
       "    </tr>\n",
       "    <tr>\n",
       "      <th>2</th>\n",
       "      <td>2</td>\n",
       "      <td>CBL</td>\n",
       "      <td>Q249E</td>\n",
       "      <td>2</td>\n",
       "    </tr>\n",
       "  </tbody>\n",
       "</table>\n",
       "</div>"
      ],
      "text/plain": [
       "   ID    Gene             Variation  Class\n",
       "0   0  FAM58A  Truncating Mutations      1\n",
       "1   1     CBL                 W802*      2\n",
       "2   2     CBL                 Q249E      2"
      ]
     },
     "execution_count": 3,
     "metadata": {},
     "output_type": "execute_result"
    }
   ],
   "source": [
    "data_variants.head(3)"
   ]
  },
  {
   "cell_type": "markdown",
   "metadata": {},
   "source": [
    "<p>\n",
    "    Let's understand above data. There are 4 fields above: <br>\n",
    "    <ul>\n",
    "        <li><b>ID : </b>row id used to link the mutation to the clinical evidence</li>\n",
    "        <li><b>Gene : </b>the gene where this genetic mutation is located </li>\n",
    "        <li><b>Variation : </b>the aminoacid change for this mutations </li>\n",
    "        <li><b>Class :</b> class value 1-9, this genetic mutation has been classified on</li>\n",
    "    </ul>\n",
    "    \n",
    "Keep doing more analysis  on above data."
   ]
  },
  {
   "cell_type": "code",
   "execution_count": 4,
   "metadata": {},
   "outputs": [
    {
     "name": "stdout",
     "output_type": "stream",
     "text": [
      "<class 'pandas.core.frame.DataFrame'>\n",
      "RangeIndex: 3321 entries, 0 to 3320\n",
      "Data columns (total 4 columns):\n",
      "ID           3321 non-null int64\n",
      "Gene         3321 non-null object\n",
      "Variation    3321 non-null object\n",
      "Class        3321 non-null int64\n",
      "dtypes: int64(2), object(2)\n",
      "memory usage: 103.9+ KB\n"
     ]
    }
   ],
   "source": [
    "data_variants.info()"
   ]
  },
  {
   "cell_type": "code",
   "execution_count": 5,
   "metadata": {},
   "outputs": [
    {
     "data": {
      "text/html": [
       "<div>\n",
       "<style scoped>\n",
       "    .dataframe tbody tr th:only-of-type {\n",
       "        vertical-align: middle;\n",
       "    }\n",
       "\n",
       "    .dataframe tbody tr th {\n",
       "        vertical-align: top;\n",
       "    }\n",
       "\n",
       "    .dataframe thead th {\n",
       "        text-align: right;\n",
       "    }\n",
       "</style>\n",
       "<table border=\"1\" class=\"dataframe\">\n",
       "  <thead>\n",
       "    <tr style=\"text-align: right;\">\n",
       "      <th></th>\n",
       "      <th>ID</th>\n",
       "      <th>Class</th>\n",
       "    </tr>\n",
       "  </thead>\n",
       "  <tbody>\n",
       "    <tr>\n",
       "      <th>count</th>\n",
       "      <td>3321.000000</td>\n",
       "      <td>3321.000000</td>\n",
       "    </tr>\n",
       "    <tr>\n",
       "      <th>mean</th>\n",
       "      <td>1660.000000</td>\n",
       "      <td>4.365854</td>\n",
       "    </tr>\n",
       "    <tr>\n",
       "      <th>std</th>\n",
       "      <td>958.834449</td>\n",
       "      <td>2.309781</td>\n",
       "    </tr>\n",
       "    <tr>\n",
       "      <th>min</th>\n",
       "      <td>0.000000</td>\n",
       "      <td>1.000000</td>\n",
       "    </tr>\n",
       "    <tr>\n",
       "      <th>25%</th>\n",
       "      <td>830.000000</td>\n",
       "      <td>2.000000</td>\n",
       "    </tr>\n",
       "    <tr>\n",
       "      <th>50%</th>\n",
       "      <td>1660.000000</td>\n",
       "      <td>4.000000</td>\n",
       "    </tr>\n",
       "    <tr>\n",
       "      <th>75%</th>\n",
       "      <td>2490.000000</td>\n",
       "      <td>7.000000</td>\n",
       "    </tr>\n",
       "    <tr>\n",
       "      <th>max</th>\n",
       "      <td>3320.000000</td>\n",
       "      <td>9.000000</td>\n",
       "    </tr>\n",
       "  </tbody>\n",
       "</table>\n",
       "</div>"
      ],
      "text/plain": [
       "                ID        Class\n",
       "count  3321.000000  3321.000000\n",
       "mean   1660.000000     4.365854\n",
       "std     958.834449     2.309781\n",
       "min       0.000000     1.000000\n",
       "25%     830.000000     2.000000\n",
       "50%    1660.000000     4.000000\n",
       "75%    2490.000000     7.000000\n",
       "max    3320.000000     9.000000"
      ]
     },
     "execution_count": 5,
     "metadata": {},
     "output_type": "execute_result"
    }
   ],
   "source": [
    "data_variants.describe()"
   ]
  },
  {
   "cell_type": "code",
   "execution_count": 6,
   "metadata": {},
   "outputs": [
    {
     "data": {
      "text/plain": [
       "(3321, 4)"
      ]
     },
     "execution_count": 6,
     "metadata": {},
     "output_type": "execute_result"
    }
   ],
   "source": [
    "# Checking dimention of data\n",
    "data_variants.shape"
   ]
  },
  {
   "cell_type": "code",
   "execution_count": 7,
   "metadata": {},
   "outputs": [
    {
     "data": {
      "text/plain": [
       "Index(['ID', 'Gene', 'Variation', 'Class'], dtype='object')"
      ]
     },
     "execution_count": 7,
     "metadata": {},
     "output_type": "execute_result"
    }
   ],
   "source": [
    "# Clecking column in above data set\n",
    "data_variants.columns"
   ]
  },
  {
   "cell_type": "markdown",
   "metadata": {},
   "source": [
    "\n",
    "Now lets explore about data_text"
   ]
  },
  {
   "cell_type": "code",
   "execution_count": 8,
   "metadata": {},
   "outputs": [
    {
     "data": {
      "text/html": [
       "<div>\n",
       "<style scoped>\n",
       "    .dataframe tbody tr th:only-of-type {\n",
       "        vertical-align: middle;\n",
       "    }\n",
       "\n",
       "    .dataframe tbody tr th {\n",
       "        vertical-align: top;\n",
       "    }\n",
       "\n",
       "    .dataframe thead th {\n",
       "        text-align: right;\n",
       "    }\n",
       "</style>\n",
       "<table border=\"1\" class=\"dataframe\">\n",
       "  <thead>\n",
       "    <tr style=\"text-align: right;\">\n",
       "      <th></th>\n",
       "      <th>ID</th>\n",
       "      <th>TEXT</th>\n",
       "    </tr>\n",
       "  </thead>\n",
       "  <tbody>\n",
       "    <tr>\n",
       "      <th>0</th>\n",
       "      <td>0</td>\n",
       "      <td>Cyclin-dependent kinases (CDKs) regulate a var...</td>\n",
       "    </tr>\n",
       "    <tr>\n",
       "      <th>1</th>\n",
       "      <td>1</td>\n",
       "      <td>Abstract Background  Non-small cell lung canc...</td>\n",
       "    </tr>\n",
       "    <tr>\n",
       "      <th>2</th>\n",
       "      <td>2</td>\n",
       "      <td>Abstract Background  Non-small cell lung canc...</td>\n",
       "    </tr>\n",
       "  </tbody>\n",
       "</table>\n",
       "</div>"
      ],
      "text/plain": [
       "   ID                                               TEXT\n",
       "0   0  Cyclin-dependent kinases (CDKs) regulate a var...\n",
       "1   1   Abstract Background  Non-small cell lung canc...\n",
       "2   2   Abstract Background  Non-small cell lung canc..."
      ]
     },
     "execution_count": 8,
     "metadata": {},
     "output_type": "execute_result"
    }
   ],
   "source": [
    "data_text.head(3)"
   ]
  },
  {
   "cell_type": "markdown",
   "metadata": {},
   "source": [
    "So above dataset have 2 columns. ID and Text column. We can also observe column ID which is common in both the dataset. Lets keep exploring it."
   ]
  },
  {
   "cell_type": "code",
   "execution_count": 9,
   "metadata": {},
   "outputs": [
    {
     "name": "stdout",
     "output_type": "stream",
     "text": [
      "<class 'pandas.core.frame.DataFrame'>\n",
      "RangeIndex: 3321 entries, 0 to 3320\n",
      "Data columns (total 2 columns):\n",
      "ID      3321 non-null int64\n",
      "TEXT    3316 non-null object\n",
      "dtypes: int64(1), object(1)\n",
      "memory usage: 52.0+ KB\n"
     ]
    }
   ],
   "source": [
    "data_text.info()"
   ]
  },
  {
   "cell_type": "code",
   "execution_count": 10,
   "metadata": {},
   "outputs": [
    {
     "data": {
      "text/html": [
       "<div>\n",
       "<style scoped>\n",
       "    .dataframe tbody tr th:only-of-type {\n",
       "        vertical-align: middle;\n",
       "    }\n",
       "\n",
       "    .dataframe tbody tr th {\n",
       "        vertical-align: top;\n",
       "    }\n",
       "\n",
       "    .dataframe thead th {\n",
       "        text-align: right;\n",
       "    }\n",
       "</style>\n",
       "<table border=\"1\" class=\"dataframe\">\n",
       "  <thead>\n",
       "    <tr style=\"text-align: right;\">\n",
       "      <th></th>\n",
       "      <th>ID</th>\n",
       "    </tr>\n",
       "  </thead>\n",
       "  <tbody>\n",
       "    <tr>\n",
       "      <th>count</th>\n",
       "      <td>3321.000000</td>\n",
       "    </tr>\n",
       "    <tr>\n",
       "      <th>mean</th>\n",
       "      <td>1660.000000</td>\n",
       "    </tr>\n",
       "    <tr>\n",
       "      <th>std</th>\n",
       "      <td>958.834449</td>\n",
       "    </tr>\n",
       "    <tr>\n",
       "      <th>min</th>\n",
       "      <td>0.000000</td>\n",
       "    </tr>\n",
       "    <tr>\n",
       "      <th>25%</th>\n",
       "      <td>830.000000</td>\n",
       "    </tr>\n",
       "    <tr>\n",
       "      <th>50%</th>\n",
       "      <td>1660.000000</td>\n",
       "    </tr>\n",
       "    <tr>\n",
       "      <th>75%</th>\n",
       "      <td>2490.000000</td>\n",
       "    </tr>\n",
       "    <tr>\n",
       "      <th>max</th>\n",
       "      <td>3320.000000</td>\n",
       "    </tr>\n",
       "  </tbody>\n",
       "</table>\n",
       "</div>"
      ],
      "text/plain": [
       "                ID\n",
       "count  3321.000000\n",
       "mean   1660.000000\n",
       "std     958.834449\n",
       "min       0.000000\n",
       "25%     830.000000\n",
       "50%    1660.000000\n",
       "75%    2490.000000\n",
       "max    3320.000000"
      ]
     },
     "execution_count": 10,
     "metadata": {},
     "output_type": "execute_result"
    }
   ],
   "source": [
    "data_text.describe()"
   ]
  },
  {
   "cell_type": "code",
   "execution_count": 11,
   "metadata": {},
   "outputs": [
    {
     "data": {
      "text/plain": [
       "(3321, 2)"
      ]
     },
     "execution_count": 11,
     "metadata": {},
     "output_type": "execute_result"
    }
   ],
   "source": [
    "data_text.shape"
   ]
  },
  {
   "cell_type": "code",
   "execution_count": 12,
   "metadata": {},
   "outputs": [
    {
     "data": {
      "text/plain": [
       "Index(['ID', 'TEXT'], dtype='object')"
      ]
     },
     "execution_count": 12,
     "metadata": {},
     "output_type": "execute_result"
    }
   ],
   "source": [
    "data_text.columns"
   ]
  },
  {
   "cell_type": "markdown",
   "metadata": {},
   "source": [
    "So, in short my datasets looks like this\n",
    " * data_variants (ID, Gene, Variations, Class)\n",
    " * data_text(ID, text)"
   ]
  },
  {
   "cell_type": "markdown",
   "metadata": {},
   "source": [
    "Ok, now we understood the dataset. Lets try to understand the same problem from Machine Learning point of view\n",
    "\n",
    "We want to predict about class of cancer. Now question is what kind of data is present in class column. "
   ]
  },
  {
   "cell_type": "code",
   "execution_count": 13,
   "metadata": {},
   "outputs": [
    {
     "data": {
      "text/plain": [
       "array([1, 2, 3, 4, 5, 6, 7, 8, 9], dtype=int64)"
      ]
     },
     "execution_count": 13,
     "metadata": {},
     "output_type": "execute_result"
    }
   ],
   "source": [
    "data_variants.Class.unique()"
   ]
  },
  {
   "cell_type": "markdown",
   "metadata": {},
   "source": [
    "This is descrete data so it is ***classification*** problem and since there are multiple descrete output possible so we can call it ***Multi class*** classification problem"
   ]
  },
  {
   "cell_type": "markdown",
   "metadata": {},
   "source": [
    "***Important note*** : This is medical related problem so correct results are very important. Error can be really costly here so we would like to have result  for each class in terms of Probablity. We might not be much bothered about time taken by ML algorithm as far as it is reasonable. \n",
    "\n",
    "We also want our model to be highly interpritable because a medical practitionar want to also give proper reasonining on why ML algorithm is predicting any class. \n",
    "\n",
    "We will evaluate our model using Confution matrix and Multi class log-loss"
   ]
  },
  {
   "cell_type": "markdown",
   "metadata": {},
   "source": [
    "Ok, now we understood the problem statement. Let's work on the solution. \n",
    "\n",
    "We have huge amount of text data. So, we need to pre process it. So lets write a function for the same."
   ]
  },
  {
   "cell_type": "code",
   "execution_count": 14,
   "metadata": {},
   "outputs": [],
   "source": [
    "# We would like to remove all stop words like a, is, an, the, ... \n",
    "# so we collecting all of them from nltk library\n",
    "#import nltk\n",
    "#from nltk.corpus import stopwords\n",
    "#nltk.download('stopwords')\n",
    "stop_words = set(stopwords.words('english'))"
   ]
  },
  {
   "cell_type": "code",
   "execution_count": 15,
   "metadata": {},
   "outputs": [],
   "source": [
    "\n",
    "def data_text_preprocess(total_text,ind,col):\n",
    "    # Remove int values from text data as that might not be imp\n",
    "    if type(total_text)is not int:\n",
    "        string=\"\"\n",
    "        # replacing all special char with space\n",
    "        total_text = re.sub('[^a-zA-Z0-9\\n]', ' ', str(total_text))\n",
    "        # replacing multiple spaces with single space\n",
    "        total_text=re.sub('\\s+',' ',str(total_text))\n",
    "        # bring whole text to same lower-case scale.\n",
    "        total_text=total_text.lower()\n",
    "        \n",
    "        \n",
    "        for word in total_text.split():    \n",
    "        # if the word is a not a stop word then retain that word from text\n",
    "            if not word in stop_words:\n",
    "                string+=word+\" \"\n",
    "        \n",
    "        \n",
    "        data_text[col][ind]=string\n",
    "             \n",
    "            \n",
    "        "
   ]
  },
  {
   "cell_type": "code",
   "execution_count": 16,
   "metadata": {},
   "outputs": [],
   "source": [
    "# Below code will take some time because its huge text (took 8 minute on my 8 GB RAM system), so run it and have a cup of coffee )\n",
    "\n",
    "for index,row in data_text.iterrows():\n",
    "    if type(row['TEXT'])is str:\n",
    "        data_text_preprocess(row['TEXT'],index,'TEXT')\n",
    "    "
   ]
  },
  {
   "cell_type": "markdown",
   "metadata": {},
   "source": [
    "Let's merge both the dataset. Remember that ID was common column. So lets use it to merge."
   ]
  },
  {
   "cell_type": "code",
   "execution_count": 17,
   "metadata": {},
   "outputs": [
    {
     "data": {
      "text/html": [
       "<div>\n",
       "<style scoped>\n",
       "    .dataframe tbody tr th:only-of-type {\n",
       "        vertical-align: middle;\n",
       "    }\n",
       "\n",
       "    .dataframe tbody tr th {\n",
       "        vertical-align: top;\n",
       "    }\n",
       "\n",
       "    .dataframe thead th {\n",
       "        text-align: right;\n",
       "    }\n",
       "</style>\n",
       "<table border=\"1\" class=\"dataframe\">\n",
       "  <thead>\n",
       "    <tr style=\"text-align: right;\">\n",
       "      <th></th>\n",
       "      <th>ID</th>\n",
       "      <th>Gene</th>\n",
       "      <th>Variation</th>\n",
       "      <th>Class</th>\n",
       "      <th>TEXT</th>\n",
       "    </tr>\n",
       "  </thead>\n",
       "  <tbody>\n",
       "    <tr>\n",
       "      <th>0</th>\n",
       "      <td>0</td>\n",
       "      <td>FAM58A</td>\n",
       "      <td>Truncating Mutations</td>\n",
       "      <td>1</td>\n",
       "      <td>cyclin dependent kinases cdks regulate variety...</td>\n",
       "    </tr>\n",
       "    <tr>\n",
       "      <th>1</th>\n",
       "      <td>1</td>\n",
       "      <td>CBL</td>\n",
       "      <td>W802*</td>\n",
       "      <td>2</td>\n",
       "      <td>abstract background non small cell lung cancer...</td>\n",
       "    </tr>\n",
       "    <tr>\n",
       "      <th>2</th>\n",
       "      <td>2</td>\n",
       "      <td>CBL</td>\n",
       "      <td>Q249E</td>\n",
       "      <td>2</td>\n",
       "      <td>abstract background non small cell lung cancer...</td>\n",
       "    </tr>\n",
       "    <tr>\n",
       "      <th>3</th>\n",
       "      <td>3</td>\n",
       "      <td>CBL</td>\n",
       "      <td>N454D</td>\n",
       "      <td>3</td>\n",
       "      <td>recent evidence demonstrated acquired uniparen...</td>\n",
       "    </tr>\n",
       "    <tr>\n",
       "      <th>4</th>\n",
       "      <td>4</td>\n",
       "      <td>CBL</td>\n",
       "      <td>L399V</td>\n",
       "      <td>4</td>\n",
       "      <td>oncogenic mutations monomeric casitas b lineag...</td>\n",
       "    </tr>\n",
       "  </tbody>\n",
       "</table>\n",
       "</div>"
      ],
      "text/plain": [
       "   ID    Gene             Variation  Class  \\\n",
       "0   0  FAM58A  Truncating Mutations      1   \n",
       "1   1     CBL                 W802*      2   \n",
       "2   2     CBL                 Q249E      2   \n",
       "3   3     CBL                 N454D      3   \n",
       "4   4     CBL                 L399V      4   \n",
       "\n",
       "                                                TEXT  \n",
       "0  cyclin dependent kinases cdks regulate variety...  \n",
       "1  abstract background non small cell lung cancer...  \n",
       "2  abstract background non small cell lung cancer...  \n",
       "3  recent evidence demonstrated acquired uniparen...  \n",
       "4  oncogenic mutations monomeric casitas b lineag...  "
      ]
     },
     "execution_count": 17,
     "metadata": {},
     "output_type": "execute_result"
    }
   ],
   "source": [
    "#merging both gene_variations and text data based on ID\n",
    "result=pd.merge(data_variants,data_text,on='ID',how='left')\n",
    "result.head()"
   ]
  },
  {
   "cell_type": "markdown",
   "metadata": {},
   "source": [
    "It's very important to look for missing values. Else they create problem in final analysis"
   ]
  },
  {
   "cell_type": "code",
   "execution_count": 18,
   "metadata": {},
   "outputs": [
    {
     "data": {
      "text/html": [
       "<div>\n",
       "<style scoped>\n",
       "    .dataframe tbody tr th:only-of-type {\n",
       "        vertical-align: middle;\n",
       "    }\n",
       "\n",
       "    .dataframe tbody tr th {\n",
       "        vertical-align: top;\n",
       "    }\n",
       "\n",
       "    .dataframe thead th {\n",
       "        text-align: right;\n",
       "    }\n",
       "</style>\n",
       "<table border=\"1\" class=\"dataframe\">\n",
       "  <thead>\n",
       "    <tr style=\"text-align: right;\">\n",
       "      <th></th>\n",
       "      <th>ID</th>\n",
       "      <th>Gene</th>\n",
       "      <th>Variation</th>\n",
       "      <th>Class</th>\n",
       "      <th>TEXT</th>\n",
       "    </tr>\n",
       "  </thead>\n",
       "  <tbody>\n",
       "    <tr>\n",
       "      <th>1109</th>\n",
       "      <td>1109</td>\n",
       "      <td>FANCA</td>\n",
       "      <td>S1088F</td>\n",
       "      <td>1</td>\n",
       "      <td>NaN</td>\n",
       "    </tr>\n",
       "    <tr>\n",
       "      <th>1277</th>\n",
       "      <td>1277</td>\n",
       "      <td>ARID5B</td>\n",
       "      <td>Truncating Mutations</td>\n",
       "      <td>1</td>\n",
       "      <td>NaN</td>\n",
       "    </tr>\n",
       "    <tr>\n",
       "      <th>1407</th>\n",
       "      <td>1407</td>\n",
       "      <td>FGFR3</td>\n",
       "      <td>K508M</td>\n",
       "      <td>6</td>\n",
       "      <td>NaN</td>\n",
       "    </tr>\n",
       "    <tr>\n",
       "      <th>1639</th>\n",
       "      <td>1639</td>\n",
       "      <td>FLT1</td>\n",
       "      <td>Amplification</td>\n",
       "      <td>6</td>\n",
       "      <td>NaN</td>\n",
       "    </tr>\n",
       "    <tr>\n",
       "      <th>2755</th>\n",
       "      <td>2755</td>\n",
       "      <td>BRAF</td>\n",
       "      <td>G596C</td>\n",
       "      <td>7</td>\n",
       "      <td>NaN</td>\n",
       "    </tr>\n",
       "  </tbody>\n",
       "</table>\n",
       "</div>"
      ],
      "text/plain": [
       "        ID    Gene             Variation  Class TEXT\n",
       "1109  1109   FANCA                S1088F      1  NaN\n",
       "1277  1277  ARID5B  Truncating Mutations      1  NaN\n",
       "1407  1407   FGFR3                 K508M      6  NaN\n",
       "1639  1639    FLT1         Amplification      6  NaN\n",
       "2755  2755    BRAF                 G596C      7  NaN"
      ]
     },
     "execution_count": 18,
     "metadata": {},
     "output_type": "execute_result"
    }
   ],
   "source": [
    "result[result.isnull().any(axis=1)]"
   ]
  },
  {
   "cell_type": "markdown",
   "metadata": {},
   "source": [
    "We can see many rows with missing data. Now the question is what to do with this missing value. One way could be that we can drop these rows having missing values or we can do some imputation in it. Let's go with imputation only. But question is what to impute here :\n",
    "\n",
    "How about merging Gene and Variation column. Let's do it:"
   ]
  },
  {
   "cell_type": "code",
   "execution_count": 19,
   "metadata": {},
   "outputs": [],
   "source": [
    "result.loc[result['TEXT'].isnull(),'TEXT'] = result['Gene'] +' '+result['Variation']"
   ]
  },
  {
   "cell_type": "markdown",
   "metadata": {},
   "source": [
    "Let's cross check it once again if there is any missing values"
   ]
  },
  {
   "cell_type": "code",
   "execution_count": 20,
   "metadata": {},
   "outputs": [
    {
     "data": {
      "text/html": [
       "<div>\n",
       "<style scoped>\n",
       "    .dataframe tbody tr th:only-of-type {\n",
       "        vertical-align: middle;\n",
       "    }\n",
       "\n",
       "    .dataframe tbody tr th {\n",
       "        vertical-align: top;\n",
       "    }\n",
       "\n",
       "    .dataframe thead th {\n",
       "        text-align: right;\n",
       "    }\n",
       "</style>\n",
       "<table border=\"1\" class=\"dataframe\">\n",
       "  <thead>\n",
       "    <tr style=\"text-align: right;\">\n",
       "      <th></th>\n",
       "      <th>ID</th>\n",
       "      <th>Gene</th>\n",
       "      <th>Variation</th>\n",
       "      <th>Class</th>\n",
       "      <th>TEXT</th>\n",
       "    </tr>\n",
       "  </thead>\n",
       "  <tbody>\n",
       "  </tbody>\n",
       "</table>\n",
       "</div>"
      ],
      "text/plain": [
       "Empty DataFrame\n",
       "Columns: [ID, Gene, Variation, Class, TEXT]\n",
       "Index: []"
      ]
     },
     "execution_count": 20,
     "metadata": {},
     "output_type": "execute_result"
    }
   ],
   "source": [
    "result[result.isnull().any(axis=1)]"
   ]
  },
  {
   "cell_type": "markdown",
   "metadata": {},
   "source": [
    "so all missing values are gone now.\n",
    "\n",
    "## Creating Training, Test and Validation data\n",
    "\n",
    "Before we split the data into taining, test and validation data set. We want to ensure that all spaces in Gene and Variation column to be replaced by _."
   ]
  },
  {
   "cell_type": "code",
   "execution_count": 21,
   "metadata": {},
   "outputs": [],
   "source": [
    "y_true=result['Class'].values\n",
    "result.Gene=result.Gene.str.replace('\\s+','_')\n",
    "result.Variation=result.Variation.str.replace('\\s+','_')\n"
   ]
  },
  {
   "cell_type": "markdown",
   "metadata": {},
   "source": [
    "Ok, so we can now start our split process in train, test and validation data set."
   ]
  },
  {
   "cell_type": "code",
   "execution_count": 22,
   "metadata": {},
   "outputs": [],
   "source": [
    "# Splitting the data into train and test set \n",
    "X_train, test_df, y_train, y_test = train_test_split(result, y_true, stratify=y_true, test_size=0.2)\n",
    "#print(X_train)\n",
    "# split the train data now into train validation and cross validation\n",
    "train_df, cv_df, y_train, y_cv = train_test_split(X_train, y_train, stratify=y_train, test_size=0.2)"
   ]
  },
  {
   "cell_type": "code",
   "execution_count": 23,
   "metadata": {},
   "outputs": [
    {
     "name": "stdout",
     "output_type": "stream",
     "text": [
      "Number of data points in train data: 2124\n",
      "Number of data points in test data: 665\n",
      "Number of data points in cross validation data: 532\n"
     ]
    }
   ],
   "source": [
    "print('Number of data points in train data:', train_df.shape[0])\n",
    "print('Number of data points in test data:', test_df.shape[0])\n",
    "print('Number of data points in cross validation data:', cv_df.shape[0])"
   ]
  },
  {
   "cell_type": "markdown",
   "metadata": {},
   "source": [
    "Let's look at the distribution of data in train, test and validation set."
   ]
  },
  {
   "cell_type": "code",
   "execution_count": 24,
   "metadata": {},
   "outputs": [],
   "source": [
    "train_class_distribution = train_df['Class'].value_counts().sort_index()\n",
    "test_class_distribution = test_df['Class'].value_counts().sort_index()\n",
    "cv_class_distribution = cv_df['Class'].value_counts().sort_index()"
   ]
  },
  {
   "cell_type": "code",
   "execution_count": 25,
   "metadata": {},
   "outputs": [
    {
     "data": {
      "text/plain": [
       "1    363\n",
       "2    289\n",
       "3     57\n",
       "4    439\n",
       "5    155\n",
       "6    176\n",
       "7    609\n",
       "8     12\n",
       "9     24\n",
       "Name: Class, dtype: int64"
      ]
     },
     "execution_count": 25,
     "metadata": {},
     "output_type": "execute_result"
    }
   ],
   "source": [
    "train_class_distribution"
   ]
  },
  {
   "cell_type": "markdown",
   "metadata": {},
   "source": [
    "So, what does above variable suggest us. This means in my train dataset we have class 1 values with count of 363, class 2 values having count of 289 and so on. It will be better idea to visualise it in graph format.\n",
    "\n",
    "*** Visualizing for train class distrubution***"
   ]
  },
  {
   "cell_type": "code",
   "execution_count": 26,
   "metadata": {},
   "outputs": [
    {
     "data": {
      "image/png": "[encoded data removed]",
      "text/plain": [
       "<Figure size 432x288 with 1 Axes>"
      ]
     },
     "metadata": {
      "needs_background": "light"
     },
     "output_type": "display_data"
    }
   ],
   "source": [
    "my_colors = 'rgbkymc'\n",
    "train_class_distribution.plot(kind='bar')\n",
    "plt.xlabel('Class')\n",
    "plt.ylabel(' Number of Data points per Class')\n",
    "plt.title('Distribution of yi in train data')\n",
    "plt.grid()\n",
    "plt.show()"
   ]
  },
  {
   "cell_type": "markdown",
   "metadata": {},
   "source": [
    "Let's look at distribution in form of percentage"
   ]
  },
  {
   "cell_type": "code",
   "execution_count": 27,
   "metadata": {},
   "outputs": [
    {
     "name": "stdout",
     "output_type": "stream",
     "text": [
      "Number of data points in class 7 : 609 ( 28.672 %)\n",
      "Number of data points in class 4 : 439 ( 20.669 %)\n",
      "Number of data points in class 1 : 363 ( 17.09 %)\n",
      "Number of data points in class 2 : 289 ( 13.606 %)\n",
      "Number of data points in class 6 : 176 ( 8.286 %)\n",
      "Number of data points in class 5 : 155 ( 7.298 %)\n",
      "Number of data points in class 3 : 57 ( 2.684 %)\n",
      "Number of data points in class 9 : 24 ( 1.13 %)\n",
      "Number of data points in class 8 : 12 ( 0.565 %)\n"
     ]
    }
   ],
   "source": [
    "sorted_yi = np.argsort(-train_class_distribution.values)\n",
    "for i in sorted_yi:\n",
    "    print('Number of data points in class', i+1, ':',train_class_distribution.values[i], '(', np.round((train_class_distribution.values[i]/train_df.shape[0]*100), 3), '%)')"
   ]
  },
  {
   "cell_type": "markdown",
   "metadata": {},
   "source": [
    "Let's visualize the same for test set"
   ]
  },
  {
   "cell_type": "code",
   "execution_count": 28,
   "metadata": {},
   "outputs": [
    {
     "data": {
      "image/png": "[encoded data removed]",
      "text/plain": [
       "<Figure size 432x288 with 1 Axes>"
      ]
     },
     "metadata": {
      "needs_background": "light"
     },
     "output_type": "display_data"
    }
   ],
   "source": [
    "my_colors = 'rgbkymc'\n",
    "test_class_distribution.plot(kind='bar')\n",
    "plt.xlabel('Class')\n",
    "plt.ylabel(' Number of Data points per Class')\n",
    "plt.title('Distribution of yi in test data')\n",
    "plt.grid()\n",
    "plt.show()"
   ]
  },
  {
   "cell_type": "markdown",
   "metadata": {},
   "source": [
    "Let's look at distribution in form of percentage"
   ]
  },
  {
   "cell_type": "code",
   "execution_count": 29,
   "metadata": {},
   "outputs": [
    {
     "name": "stdout",
     "output_type": "stream",
     "text": [
      "Number of data points in class 7 : 191 ( 28.722 %)\n",
      "Number of data points in class 4 : 137 ( 20.602 %)\n",
      "Number of data points in class 1 : 114 ( 17.143 %)\n",
      "Number of data points in class 2 : 91 ( 13.684 %)\n",
      "Number of data points in class 6 : 55 ( 8.271 %)\n",
      "Number of data points in class 5 : 48 ( 7.218 %)\n",
      "Number of data points in class 3 : 18 ( 2.707 %)\n",
      "Number of data points in class 9 : 7 ( 1.053 %)\n",
      "Number of data points in class 8 : 4 ( 0.602 %)\n"
     ]
    }
   ],
   "source": [
    "sorted_yi = np.argsort(-test_class_distribution.values)\n",
    "for i in sorted_yi:\n",
    "    print('Number of data points in class', i+1, ':',test_class_distribution.values[i], '(', np.round((test_class_distribution.values[i]/test_df.shape[0]*100), 3), '%)')"
   ]
  },
  {
   "cell_type": "markdown",
   "metadata": {},
   "source": [
    "Let's visualize for cross validation set"
   ]
  },
  {
   "cell_type": "code",
   "execution_count": 30,
   "metadata": {},
   "outputs": [
    {
     "data": {
      "image/png": "[encoded data removed]",
      "text/plain": [
       "<Figure size 432x288 with 1 Axes>"
      ]
     },
     "metadata": {
      "needs_background": "light"
     },
     "output_type": "display_data"
    }
   ],
   "source": [
    "my_colors = 'rgbkymc'\n",
    "cv_class_distribution.plot(kind='bar')\n",
    "plt.xlabel('Class')\n",
    "plt.ylabel('Data points per Class')\n",
    "plt.title('Distribution of yi in cross validation data')\n",
    "plt.grid()\n",
    "plt.show()"
   ]
  },
  {
   "cell_type": "markdown",
   "metadata": {},
   "source": [
    "Let's look at distribution in form of percentage"
   ]
  },
  {
   "cell_type": "code",
   "execution_count": 31,
   "metadata": {},
   "outputs": [
    {
     "name": "stdout",
     "output_type": "stream",
     "text": [
      "Number of data points in class 7 : 153 ( 28.759 %)\n",
      "Number of data points in class 4 : 110 ( 20.677 %)\n",
      "Number of data points in class 1 : 91 ( 17.105 %)\n",
      "Number of data points in class 2 : 72 ( 13.534 %)\n",
      "Number of data points in class 6 : 44 ( 8.271 %)\n",
      "Number of data points in class 5 : 39 ( 7.331 %)\n",
      "Number of data points in class 3 : 14 ( 2.632 %)\n",
      "Number of data points in class 9 : 6 ( 1.128 %)\n",
      "Number of data points in class 8 : 3 ( 0.564 %)\n"
     ]
    }
   ],
   "source": [
    "sorted_yi = np.argsort(-cv_class_distribution.values)\n",
    "for i in sorted_yi:\n",
    "    print('Number of data points in class', i+1, ':',cv_class_distribution.values[i], '(', np.round((cv_class_distribution.values[i]/cv_df.shape[0]*100), 3), '%)')"
   ]
  },
  {
   "cell_type": "markdown",
   "metadata": {},
   "source": [
    "Now question is because we need log-loss as final evaluation metrics how do we say that model we are going to build will be good model. For doing this we will build a random model and will evaluate log loss. Our model should return lower log loss value than this.\n",
    "\n",
    "## Building a Random model"
   ]
  },
  {
   "cell_type": "code",
   "execution_count": 32,
   "metadata": {},
   "outputs": [],
   "source": [
    "test_data_len = test_df.shape[0]\n",
    "cv_data_len = cv_df.shape[0]"
   ]
  },
  {
   "cell_type": "code",
   "execution_count": 33,
   "metadata": {},
   "outputs": [
    {
     "name": "stdout",
     "output_type": "stream",
     "text": [
      "Log loss on cross validation data using random model is 2.457827817792858\n"
     ]
    }
   ],
   "source": [
    "# we create a output array that has exactly same size as the CV data\n",
    "cv_predicted_y=np.zeros((cv_data_len,9))\n",
    "for i in range (cv_data_len):\n",
    "    random_probs=np.random.rand(1,9)\n",
    "    cv_predicted_y[i]=((random_probs/sum(sum(random_probs)))[0])\n",
    "print(\"Log loss on cross validation data using random model is\",log_loss(y_cv,cv_predicted_y,eps=1e-15))"
   ]
  },
  {
   "cell_type": "code",
   "execution_count": 34,
   "metadata": {},
   "outputs": [
    {
     "name": "stdout",
     "output_type": "stream",
     "text": [
      "Log loss on Test Data using Random Model 2.5108392762894987\n"
     ]
    }
   ],
   "source": [
    "# Test-Set error.\n",
    "#we create a output array that has exactly same as the test data\n",
    "test_predicted_y = np.zeros((test_data_len,9))\n",
    "for i in range(test_data_len):\n",
    "    rand_probs = np.random.rand(1,9)\n",
    "    test_predicted_y[i] = ((rand_probs/sum(sum(rand_probs)))[0])\n",
    "print(\"Log loss on Test Data using Random Model\",log_loss(y_test,test_predicted_y, eps=1e-15))\n"
   ]
  },
  {
   "cell_type": "code",
   "execution_count": 35,
   "metadata": {},
   "outputs": [],
   "source": [
    "# Lets get the index of max probablity\n",
    "predicted_y =np.argmax(test_predicted_y, axis=1)"
   ]
  },
  {
   "cell_type": "code",
   "execution_count": 36,
   "metadata": {},
   "outputs": [
    {
     "data": {
      "text/plain": [
       "array([1, 5, 2, 4, 6, 0, 6, 0, 3, 3, 5, 3, 7, 8, 7, 0, 0, 4, 3, 5, 0, 5,\n",
       "       3, 5, 6, 4, 1, 0, 7, 7, 2, 3, 1, 5, 3, 8, 4, 4, 3, 2, 5, 2, 2, 4,\n",
       "       2, 0, 7, 4, 0, 0, 5, 0, 6, 4, 3, 4, 7, 8, 4, 2, 5, 2, 7, 1, 4, 1,\n",
       "       1, 0, 3, 2, 4, 7, 2, 5, 7, 6, 4, 3, 3, 4, 6, 5, 1, 2, 1, 2, 1, 8,\n",
       "       3, 1, 0, 8, 0, 0, 7, 8, 6, 7, 0, 2, 1, 6, 3, 8, 6, 8, 3, 1, 3, 8,\n",
       "       2, 0, 8, 2, 2, 0, 5, 0, 8, 2, 2, 5, 6, 8, 0, 4, 8, 1, 2, 5, 8, 6,\n",
       "       3, 7, 2, 7, 6, 5, 5, 1, 5, 0, 5, 6, 2, 2, 6, 4, 8, 7, 5, 1, 4, 4,\n",
       "       1, 1, 1, 4, 7, 1, 8, 0, 8, 3, 3, 7, 1, 7, 7, 5, 1, 2, 3, 6, 0, 5,\n",
       "       7, 0, 7, 1, 0, 6, 5, 6, 4, 7, 6, 0, 4, 6, 2, 6, 2, 3, 7, 8, 3, 2,\n",
       "       2, 4, 2, 5, 8, 8, 1, 3, 4, 4, 1, 4, 4, 6, 4, 0, 3, 1, 2, 3, 2, 6,\n",
       "       5, 1, 7, 6, 3, 8, 6, 8, 4, 2, 1, 2, 3, 2, 0, 8, 0, 8, 5, 3, 5, 6,\n",
       "       7, 3, 5, 8, 8, 4, 1, 1, 1, 8, 2, 7, 0, 4, 0, 3, 8, 6, 1, 5, 3, 3,\n",
       "       2, 1, 4, 7, 1, 7, 4, 3, 0, 2, 5, 5, 7, 0, 2, 3, 1, 1, 2, 6, 2, 8,\n",
       "       4, 3, 8, 5, 4, 2, 6, 8, 8, 6, 0, 7, 6, 1, 5, 8, 2, 4, 4, 5, 1, 0,\n",
       "       2, 8, 2, 1, 8, 4, 3, 6, 7, 4, 3, 6, 7, 2, 8, 0, 4, 0, 0, 6, 4, 4,\n",
       "       2, 7, 3, 0, 8, 8, 1, 4, 8, 1, 0, 2, 0, 1, 1, 7, 7, 3, 0, 8, 5, 8,\n",
       "       1, 0, 4, 3, 6, 2, 0, 6, 7, 5, 7, 4, 7, 2, 0, 1, 3, 6, 2, 8, 4, 7,\n",
       "       3, 0, 5, 6, 5, 2, 1, 8, 4, 2, 7, 8, 3, 5, 1, 1, 2, 7, 2, 7, 4, 0,\n",
       "       5, 6, 7, 7, 2, 4, 6, 1, 0, 6, 1, 0, 7, 8, 3, 0, 3, 6, 2, 0, 1, 4,\n",
       "       8, 1, 6, 8, 3, 7, 0, 0, 2, 8, 5, 0, 1, 5, 0, 6, 4, 0, 2, 8, 4, 5,\n",
       "       1, 8, 2, 6, 3, 4, 4, 3, 4, 3, 0, 6, 4, 5, 7, 1, 4, 3, 7, 6, 2, 8,\n",
       "       6, 5, 2, 6, 1, 5, 5, 7, 2, 5, 3, 2, 0, 4, 6, 5, 6, 2, 3, 4, 4, 0,\n",
       "       3, 4, 5, 0, 7, 2, 4, 4, 0, 6, 5, 1, 5, 2, 5, 3, 2, 2, 5, 4, 6, 4,\n",
       "       7, 7, 3, 8, 2, 0, 3, 6, 8, 1, 3, 2, 8, 6, 0, 7, 8, 4, 4, 5, 6, 2,\n",
       "       8, 0, 1, 0, 8, 8, 6, 2, 7, 1, 3, 5, 3, 4, 2, 8, 3, 1, 1, 0, 6, 5,\n",
       "       4, 3, 4, 0, 6, 2, 4, 5, 3, 4, 3, 8, 5, 7, 0, 7, 8, 7, 4, 4, 2, 0,\n",
       "       5, 5, 5, 3, 6, 3, 8, 8, 5, 7, 6, 2, 5, 6, 5, 6, 3, 1, 5, 0, 7, 1,\n",
       "       4, 5, 2, 5, 7, 1, 5, 6, 6, 8, 4, 8, 5, 6, 1, 3, 6, 1, 1, 5, 3, 2,\n",
       "       2, 6, 2, 7, 3, 5, 3, 2, 1, 7, 7, 6, 2, 5, 0, 1, 5, 3, 5, 1, 3, 3,\n",
       "       2, 4, 7, 2, 4, 0, 5, 5, 3, 3, 2, 2, 7, 3, 6, 4, 3, 8, 5, 1, 4, 2,\n",
       "       0, 1, 0, 1, 0], dtype=int64)"
      ]
     },
     "execution_count": 36,
     "metadata": {},
     "output_type": "execute_result"
    }
   ],
   "source": [
    "# Lets see the output. these will be 665 values present in test dataset\n",
    "predicted_y"
   ]
  },
  {
   "cell_type": "markdown",
   "metadata": {},
   "source": [
    "So you can see the index value ranging from 0 to 8. So, lets make it as 1 to 9 we will increase this value by 1."
   ]
  },
  {
   "cell_type": "code",
   "execution_count": 37,
   "metadata": {},
   "outputs": [],
   "source": [
    "predicted_y=predicted_y+1"
   ]
  },
  {
   "cell_type": "markdown",
   "metadata": {},
   "source": [
    "### Confusion Matrix"
   ]
  },
  {
   "cell_type": "code",
   "execution_count": 38,
   "metadata": {},
   "outputs": [
    {
     "name": "stdout",
     "output_type": "stream",
     "text": [
      "[[17 13 11 16 13 12 10 15  7]\n",
      " [13 10  9  8  6 12 10  8 15]\n",
      " [ 3  1  3  3  1  3  2  1  1]\n",
      " [14 15 19 22 15 17 12 14  9]\n",
      " [ 1  4  5  6  6  5 11  3  7]\n",
      " [ 7  8  6  5  7  6  7  6  3]\n",
      " [18 21 33 15 30 21 15 17 21]\n",
      " [ 0  1  0  0  0  0  1  0  2]\n",
      " [ 1  0  0  2  1  1  1  0  1]]\n"
     ]
    }
   ],
   "source": [
    "C=confusion_matrix(y_test,predicted_y)\n",
    "print(C)"
   ]
  },
  {
   "cell_type": "code",
   "execution_count": 39,
   "metadata": {},
   "outputs": [
    {
     "data": {
      "image/png": "[encoded data removed]",
      "text/plain": [
       "<Figure size 1440x504 with 2 Axes>"
      ]
     },
     "metadata": {
      "needs_background": "light"
     },
     "output_type": "display_data"
    }
   ],
   "source": [
    "labels=[1,2,3,4,5,6,7,8,9]\n",
    "plt.figure(figsize=(20,7))\n",
    "sns.heatmap(C,annot=True, cmap=\"YlGnBu\", fmt=\".3f\", xticklabels=labels, yticklabels=labels)\n",
    "plt.xlabel('Predicted Class')\n",
    "plt.ylabel('Original Class')\n",
    "plt.show()"
   ]
  },
  {
   "cell_type": "markdown",
   "metadata": {},
   "source": [
    "### Precision matrix"
   ]
  },
  {
   "cell_type": "code",
   "execution_count": 40,
   "metadata": {},
   "outputs": [
    {
     "name": "stdout",
     "output_type": "stream",
     "text": [
      "[[0.22972973 0.17808219 0.12790698 0.20779221 0.16455696 0.15584416\n",
      "  0.14492754 0.234375   0.10606061]\n",
      " [0.17567568 0.1369863  0.10465116 0.1038961  0.07594937 0.15584416\n",
      "  0.14492754 0.125      0.22727273]\n",
      " [0.04054054 0.01369863 0.03488372 0.03896104 0.01265823 0.03896104\n",
      "  0.02898551 0.015625   0.01515152]\n",
      " [0.18918919 0.20547945 0.22093023 0.28571429 0.18987342 0.22077922\n",
      "  0.17391304 0.21875    0.13636364]\n",
      " [0.01351351 0.05479452 0.05813953 0.07792208 0.07594937 0.06493506\n",
      "  0.15942029 0.046875   0.10606061]\n",
      " [0.09459459 0.10958904 0.06976744 0.06493506 0.08860759 0.07792208\n",
      "  0.10144928 0.09375    0.04545455]\n",
      " [0.24324324 0.28767123 0.38372093 0.19480519 0.37974684 0.27272727\n",
      "  0.2173913  0.265625   0.31818182]\n",
      " [0.         0.01369863 0.         0.         0.         0.\n",
      "  0.01449275 0.         0.03030303]\n",
      " [0.01351351 0.         0.         0.02597403 0.01265823 0.01298701\n",
      "  0.01449275 0.         0.01515152]]\n"
     ]
    }
   ],
   "source": [
    "B =(C/C.sum(axis=0))\n",
    "print(B)"
   ]
  },
  {
   "cell_type": "code",
   "execution_count": 41,
   "metadata": {},
   "outputs": [
    {
     "data": {
      "image/png": "[encoded data removed]",
      "text/plain": [
       "<Figure size 1440x504 with 2 Axes>"
      ]
     },
     "metadata": {
      "needs_background": "light"
     },
     "output_type": "display_data"
    }
   ],
   "source": [
    "labels=[1,2,3,4,5,6,7,8,9]\n",
    "plt.figure(figsize=(20,7))\n",
    "sns.heatmap(B,annot=True, cmap=\"YlGnBu\", fmt=\".3f\", xticklabels=labels, yticklabels=labels)\n",
    "plt.xlabel('Predicted Class')\n",
    "plt.ylabel('Original Class')\n",
    "plt.show()"
   ]
  },
  {
   "cell_type": "markdown",
   "metadata": {},
   "source": [
    "### Recall matrix"
   ]
  },
  {
   "cell_type": "code",
   "execution_count": 42,
   "metadata": {},
   "outputs": [
    {
     "name": "stdout",
     "output_type": "stream",
     "text": [
      "[[0.14912281 0.11403509 0.09649123 0.14035088 0.11403509 0.10526316\n",
      "  0.0877193  0.13157895 0.06140351]\n",
      " [0.14285714 0.10989011 0.0989011  0.08791209 0.06593407 0.13186813\n",
      "  0.10989011 0.08791209 0.16483516]\n",
      " [0.16666667 0.05555556 0.16666667 0.16666667 0.05555556 0.16666667\n",
      "  0.11111111 0.05555556 0.05555556]\n",
      " [0.10218978 0.10948905 0.13868613 0.16058394 0.10948905 0.12408759\n",
      "  0.08759124 0.10218978 0.06569343]\n",
      " [0.02083333 0.08333333 0.10416667 0.125      0.125      0.10416667\n",
      "  0.22916667 0.0625     0.14583333]\n",
      " [0.12727273 0.14545455 0.10909091 0.09090909 0.12727273 0.10909091\n",
      "  0.12727273 0.10909091 0.05454545]\n",
      " [0.09424084 0.10994764 0.17277487 0.07853403 0.15706806 0.10994764\n",
      "  0.07853403 0.08900524 0.10994764]\n",
      " [0.         0.25       0.         0.         0.         0.\n",
      "  0.25       0.         0.5       ]\n",
      " [0.14285714 0.         0.         0.28571429 0.14285714 0.14285714\n",
      "  0.14285714 0.         0.14285714]]\n"
     ]
    }
   ],
   "source": [
    "A =(((C.T)/(C.sum(axis=1))).T)\n",
    "print(A)\n",
    "#.T is used to take transpose of the matrix"
   ]
  },
  {
   "cell_type": "code",
   "execution_count": 43,
   "metadata": {},
   "outputs": [
    {
     "data": {
      "image/png": "[encoded data removed]",
      "text/plain": [
       "<Figure size 1440x504 with 2 Axes>"
      ]
     },
     "metadata": {
      "needs_background": "light"
     },
     "output_type": "display_data"
    }
   ],
   "source": [
    "labels=[1,2,3,4,5,6,7,8,9]\n",
    "plt.figure(figsize=(20,7))\n",
    "sns.heatmap(A,annot=True, cmap=\"YlGnBu\", fmt=\".3f\", xticklabels=labels, yticklabels=labels)\n",
    "plt.xlabel('Predicted Class')\n",
    "plt.ylabel('Original Class')\n",
    "plt.show()"
   ]
  },
  {
   "cell_type": "markdown",
   "metadata": {},
   "source": [
    "## Evaluating Gene Column\n",
    "\n",
    "Now we will look at each independent column to make sure its relavent for my target variable but the question is, how? Let's understand with our first column Gene which is categorial in nature.\n",
    "\n",
    "So, lets explore column ***Gene*** and lets look at its distribution. "
   ]
  },
  {
   "cell_type": "code",
   "execution_count": 44,
   "metadata": {},
   "outputs": [
    {
     "name": "stdout",
     "output_type": "stream",
     "text": [
      "Number of Unique Genes : 230\n",
      "BRCA1     177\n",
      "TP53      104\n",
      "EGFR       90\n",
      "BRCA2      80\n",
      "PTEN       76\n",
      "KIT        58\n",
      "BRAF       54\n",
      "PDGFRA     41\n",
      "ERBB2      41\n",
      "ALK        40\n",
      "Name: Gene, dtype: int64\n"
     ]
    }
   ],
   "source": [
    "unique_genes = train_df['Gene'].value_counts()\n",
    "print('Number of Unique Genes :', unique_genes.shape[0])\n",
    "# the top 10 genes that occured most\n",
    "print(unique_genes.head(10))"
   ]
  },
  {
   "cell_type": "markdown",
   "metadata": {},
   "source": [
    "Lets see the number of unique values present in gene"
   ]
  },
  {
   "cell_type": "code",
   "execution_count": 45,
   "metadata": {},
   "outputs": [
    {
     "data": {
      "text/plain": [
       "230"
      ]
     },
     "execution_count": 45,
     "metadata": {},
     "output_type": "execute_result"
    }
   ],
   "source": [
    "unique_genes.shape[0]"
   ]
  },
  {
   "cell_type": "markdown",
   "metadata": {},
   "source": [
    "Lets look at the comulative distribution of unique Genes values"
   ]
  },
  {
   "cell_type": "code",
   "execution_count": 46,
   "metadata": {},
   "outputs": [
    {
     "data": {
      "image/png": "[encoded data removed]",
      "text/plain": [
       "<Figure size 432x288 with 1 Axes>"
      ]
     },
     "metadata": {
      "needs_background": "light"
     },
     "output_type": "display_data"
    }
   ],
   "source": [
    "s = sum(unique_genes.values);\n",
    "h = unique_genes.values/s;\n",
    "c = np.cumsum(h)\n",
    "plt.plot(c,label='Cumulative distribution of Genes')\n",
    "plt.grid()\n",
    "plt.legend()\n",
    "plt.show()"
   ]
  },
  {
   "cell_type": "markdown",
   "metadata": {},
   "source": [
    "So, now we need to convert these categorical variable to appropirate format which my machine learning algorithm will be able to take as an input.\n",
    "\n",
    "So we have 2 techniques to deal with it. \n",
    "\n",
    "<ol><li>\n",
    "     ***One-hot encoding*** </li>\n",
    "    <li> ***Response Encoding*** (Mean imputation) </li>\n",
    "</ol>\n",
    "\n",
    "Let's use both of them to see which one work the best. So lets start encoding using one hot encoder"
   ]
  },
  {
   "cell_type": "code",
   "execution_count": 109,
   "metadata": {},
   "outputs": [],
   "source": [
    "# one-hot encoding of Gene feature.\n",
    "gene_vectorizer = CountVectorizer()\n",
    "train_gene_feature_onehotCoding = gene_vectorizer.fit_transform(train_df['Gene'])\n",
    "test_gene_feature_onehotCoding = gene_vectorizer.transform(test_df['Gene'])\n",
    "cv_gene_feature_onehotCoding = gene_vectorizer.transform(cv_df['Gene'])\n",
    "\n",
    "#print(train_gene_feature_onehotCoding)"
   ]
  },
  {
   "cell_type": "markdown",
   "metadata": {},
   "source": [
    "Let's check the number of column generated after one hot encoding. One hot encoding will always return higher number of column."
   ]
  },
  {
   "cell_type": "code",
   "execution_count": 48,
   "metadata": {},
   "outputs": [
    {
     "data": {
      "text/plain": [
       "['abl1',\n",
       " 'ago2',\n",
       " 'akt1',\n",
       " 'akt2',\n",
       " 'akt3',\n",
       " 'alk',\n",
       " 'apc',\n",
       " 'ar',\n",
       " 'araf',\n",
       " 'arid1b',\n",
       " 'arid5b',\n",
       " 'asxl1',\n",
       " 'asxl2',\n",
       " 'atm',\n",
       " 'atrx',\n",
       " 'aurka',\n",
       " 'aurkb',\n",
       " 'axin1',\n",
       " 'axl',\n",
       " 'b2m',\n",
       " 'bap1',\n",
       " 'bcl10',\n",
       " 'bcl2l11',\n",
       " 'bcor',\n",
       " 'braf',\n",
       " 'brca1',\n",
       " 'brca2',\n",
       " 'brd4',\n",
       " 'brip1',\n",
       " 'btk',\n",
       " 'card11',\n",
       " 'carm1',\n",
       " 'casp8',\n",
       " 'cbl',\n",
       " 'ccnd1',\n",
       " 'ccnd2',\n",
       " 'ccnd3',\n",
       " 'ccne1',\n",
       " 'cdh1',\n",
       " 'cdk12',\n",
       " 'cdk4',\n",
       " 'cdk6',\n",
       " 'cdkn1a',\n",
       " 'cdkn1b',\n",
       " 'cdkn2a',\n",
       " 'cdkn2b',\n",
       " 'cdkn2c',\n",
       " 'cebpa',\n",
       " 'chek2',\n",
       " 'cic',\n",
       " 'crebbp',\n",
       " 'ctcf',\n",
       " 'ctla4',\n",
       " 'ctnnb1',\n",
       " 'ddr2',\n",
       " 'dicer1',\n",
       " 'dnmt3a',\n",
       " 'dnmt3b',\n",
       " 'egfr',\n",
       " 'eif1ax',\n",
       " 'elf3',\n",
       " 'ep300',\n",
       " 'epas1',\n",
       " 'erbb2',\n",
       " 'erbb3',\n",
       " 'erbb4',\n",
       " 'ercc2',\n",
       " 'ercc3',\n",
       " 'ercc4',\n",
       " 'erg',\n",
       " 'esr1',\n",
       " 'etv1',\n",
       " 'etv6',\n",
       " 'ewsr1',\n",
       " 'ezh2',\n",
       " 'fam58a',\n",
       " 'fanca',\n",
       " 'fat1',\n",
       " 'fbxw7',\n",
       " 'fgf19',\n",
       " 'fgf4',\n",
       " 'fgfr1',\n",
       " 'fgfr2',\n",
       " 'fgfr3',\n",
       " 'fgfr4',\n",
       " 'flt3',\n",
       " 'foxa1',\n",
       " 'foxl2',\n",
       " 'foxo1',\n",
       " 'foxp1',\n",
       " 'fubp1',\n",
       " 'gata3',\n",
       " 'gna11',\n",
       " 'gnaq',\n",
       " 'gnas',\n",
       " 'h3f3a',\n",
       " 'hist1h1c',\n",
       " 'hla',\n",
       " 'hnf1a',\n",
       " 'hras',\n",
       " 'idh1',\n",
       " 'idh2',\n",
       " 'igf1r',\n",
       " 'ikbke',\n",
       " 'ikzf1',\n",
       " 'jak1',\n",
       " 'jak2',\n",
       " 'kdm5a',\n",
       " 'kdm5c',\n",
       " 'kdm6a',\n",
       " 'kdr',\n",
       " 'keap1',\n",
       " 'kit',\n",
       " 'klf4',\n",
       " 'kmt2a',\n",
       " 'kmt2c',\n",
       " 'kmt2d',\n",
       " 'knstrn',\n",
       " 'kras',\n",
       " 'lats2',\n",
       " 'map2k1',\n",
       " 'map2k2',\n",
       " 'map2k4',\n",
       " 'map3k1',\n",
       " 'mapk1',\n",
       " 'mdm4',\n",
       " 'med12',\n",
       " 'mef2b',\n",
       " 'men1',\n",
       " 'met',\n",
       " 'mga',\n",
       " 'mlh1',\n",
       " 'mpl',\n",
       " 'msh2',\n",
       " 'msh6',\n",
       " 'mtor',\n",
       " 'myc',\n",
       " 'myd88',\n",
       " 'myod1',\n",
       " 'ncor1',\n",
       " 'nf1',\n",
       " 'nf2',\n",
       " 'nfe2l2',\n",
       " 'nfkbia',\n",
       " 'nkx2',\n",
       " 'notch1',\n",
       " 'notch2',\n",
       " 'npm1',\n",
       " 'nras',\n",
       " 'nsd1',\n",
       " 'ntrk1',\n",
       " 'ntrk2',\n",
       " 'ntrk3',\n",
       " 'nup93',\n",
       " 'pak1',\n",
       " 'pax8',\n",
       " 'pdgfra',\n",
       " 'pdgfrb',\n",
       " 'pik3ca',\n",
       " 'pik3cb',\n",
       " 'pik3cd',\n",
       " 'pik3r1',\n",
       " 'pik3r2',\n",
       " 'pim1',\n",
       " 'pms1',\n",
       " 'pms2',\n",
       " 'pole',\n",
       " 'ppp2r1a',\n",
       " 'ppp6c',\n",
       " 'prdm1',\n",
       " 'ptch1',\n",
       " 'pten',\n",
       " 'ptpn11',\n",
       " 'ptprd',\n",
       " 'ptprt',\n",
       " 'rab35',\n",
       " 'rac1',\n",
       " 'rad21',\n",
       " 'rad50',\n",
       " 'rad51b',\n",
       " 'rad51c',\n",
       " 'rad54l',\n",
       " 'raf1',\n",
       " 'rara',\n",
       " 'rasa1',\n",
       " 'rb1',\n",
       " 'rbm10',\n",
       " 'ret',\n",
       " 'rheb',\n",
       " 'rhoa',\n",
       " 'rit1',\n",
       " 'rnf43',\n",
       " 'ros1',\n",
       " 'runx1',\n",
       " 'rxra',\n",
       " 'rybp',\n",
       " 'sdhb',\n",
       " 'setd2',\n",
       " 'sf3b1',\n",
       " 'shoc2',\n",
       " 'smad2',\n",
       " 'smad3',\n",
       " 'smad4',\n",
       " 'smarca4',\n",
       " 'smarcb1',\n",
       " 'smo',\n",
       " 'sos1',\n",
       " 'sox9',\n",
       " 'spop',\n",
       " 'src',\n",
       " 'srsf2',\n",
       " 'stat3',\n",
       " 'stk11',\n",
       " 'tcf7l2',\n",
       " 'tert',\n",
       " 'tet1',\n",
       " 'tet2',\n",
       " 'tgfbr1',\n",
       " 'tgfbr2',\n",
       " 'tmprss2',\n",
       " 'tp53',\n",
       " 'tsc1',\n",
       " 'tsc2',\n",
       " 'u2af1',\n",
       " 'vegfa',\n",
       " 'vhl',\n",
       " 'xpo1',\n",
       " 'xrcc2',\n",
       " 'yap1']"
      ]
     },
     "execution_count": 48,
     "metadata": {},
     "output_type": "execute_result"
    }
   ],
   "source": [
    "#column names after one-hot encoding for Gene column\n",
    "gene_vectorizer.get_feature_names()"
   ]
  },
  {
   "cell_type": "markdown",
   "metadata": {},
   "source": [
    "Now, lets also create Response encoding columns for Gene column"
   ]
  },
  {
   "cell_type": "code",
   "execution_count": 49,
   "metadata": {},
   "outputs": [],
   "source": [
    "# code for response coding with Laplace smoothing.\n",
    "# alpha : used for laplace smoothing\n",
    "# feature: ['gene', 'variation']\n",
    "# df: ['train_df', 'test_df', 'cv_df']\n",
    "# algorithm\n",
    "# ----------\n",
    "# Consider all unique values and the number of occurances of given feature in train data dataframe\n",
    "# build a vector (1*9) , the first element = (number of times it occured in class1 + 10*alpha / number of time it occurred in total data+90*alpha)\n",
    "# gv_dict is like a look up table, for every gene it store a (1*9) representation of it\n",
    "# for a value of feature in df:\n",
    "# if it is in train data:\n",
    "# we add the vector that was stored in 'gv_dict' look up table to 'gv_fea'\n",
    "# if it is not there is train:\n",
    "# we add [1/9, 1/9, 1/9, 1/9,1/9, 1/9, 1/9, 1/9, 1/9] to 'gv_fea'\n",
    "# return 'gv_fea'\n",
    "# ----------------------\n",
    "\n",
    "# get_gv_fea_dict: Get Gene varaition Feature Dict\n",
    "def get_gv_fea_dict(alpha, feature, df):\n",
    "    # value_count: it contains a dict like\n",
    "    # print(train_df['Gene'].value_counts())\n",
    "    value_count = train_df[feature].value_counts()\n",
    "    \n",
    "    # gv_dict : Gene Variation Dict, which contains the probability array for each gene/variation\n",
    "    gv_dict = dict()\n",
    "    \n",
    "    # denominator will contain the number of time that particular feature occured in whole data\n",
    "    for i, denominator in value_count.items():\n",
    "        # vec will contain (p(yi==1/Gi) probability of gene/variation belongs to perticular class\n",
    "        # vec is 9 diamensional vector\n",
    "        vec = []\n",
    "        for k in range(1,10):\n",
    "            # print(train_df.loc[(train_df['Class']==1) & (train_df['Gene']=='BRCA1')])\n",
    "            #         ID   Gene             Variation  Class  \n",
    "            # 2470  2470  BRCA1                S1715C      1   \n",
    "            # 2486  2486  BRCA1                S1841R      1   \n",
    "            # 2614  2614  BRCA1                   M1R      1   \n",
    "            # 2432  2432  BRCA1                L1657P      1   \n",
    "            # 2567  2567  BRCA1                T1685A      1   \n",
    "            # 2583  2583  BRCA1                E1660G      1   \n",
    "            # 2634  2634  BRCA1                W1718L      1   \n",
    "            # cls_cnt.shape[0] will return the number of rows\n",
    "\n",
    "            cls_cnt = train_df.loc[(train_df['Class']==k) & (train_df[feature]==i)]\n",
    "            \n",
    "            # cls_cnt.shape[0](numerator) will contain the number of time that particular feature occured in whole data\n",
    "            vec.append((cls_cnt.shape[0] + alpha*10)/ (denominator + 90*alpha))\n",
    "\n",
    "        # we are adding the gene/variation to the dict as key and vec as value\n",
    "        gv_dict[i]=vec\n",
    "    return gv_dict\n",
    "\n",
    "# Get Gene variation feature\n",
    "def get_gv_feature(alpha, feature, df):\n",
    "    # print(gv_dict)\n",
    "    gv_dict = get_gv_fea_dict(alpha, feature, df)\n",
    "    # value_count is similar in get_gv_fea_dict\n",
    "    value_count = train_df[feature].value_counts()\n",
    "    \n",
    "    # gv_fea: Gene_variation feature, it will contain the feature for each feature value in the data\n",
    "    gv_fea = []\n",
    "    # for every feature values in the given data frame we will check if it is there in the train data then we will add the feature to gv_fea\n",
    "    # if not we will add [1/9,1/9,1/9,1/9,1/9,1/9,1/9,1/9,1/9] to gv_fea\n",
    "    for index, row in df.iterrows():\n",
    "        if row[feature] in dict(value_count).keys():\n",
    "            gv_fea.append(gv_dict[row[feature]])\n",
    "        else:\n",
    "            gv_fea.append([1/9,1/9,1/9,1/9,1/9,1/9,1/9,1/9,1/9])\n",
    "#             gv_fea.append([-1,-1,-1,-1,-1,-1,-1,-1,-1])\n",
    "    return gv_fea"
   ]
  },
  {
   "cell_type": "code",
   "execution_count": 50,
   "metadata": {},
   "outputs": [],
   "source": [
    "#response-coding of the Gene feature\n",
    "# alpha is used for laplace smoothing\n",
    "alpha = 1\n",
    "# train gene feature\n",
    "train_gene_feature_responseCoding = np.array(get_gv_feature(alpha, \"Gene\", train_df))\n",
    "# test gene feature\n",
    "test_gene_feature_responseCoding = np.array(get_gv_feature(alpha, \"Gene\", test_df))\n",
    "# cross validation gene feature\n",
    "cv_gene_feature_responseCoding = np.array(get_gv_feature(alpha, \"Gene\", cv_df))"
   ]
  },
  {
   "cell_type": "markdown",
   "metadata": {},
   "source": [
    "Let's look at columns after applying response encoding. We must be having 9 columns for Gene column after response encoding."
   ]
  },
  {
   "cell_type": "code",
   "execution_count": 51,
   "metadata": {},
   "outputs": [
    {
     "data": {
      "text/plain": [
       "(2124, 9)"
      ]
     },
     "execution_count": 51,
     "metadata": {},
     "output_type": "execute_result"
    }
   ],
   "source": [
    "train_gene_feature_responseCoding.shape"
   ]
  },
  {
   "cell_type": "markdown",
   "metadata": {},
   "source": [
    "Now, question is how good is Gene column feature to predict my 9 classes. One idea could be that we will build model having only gene column with one hot encoder with simple model like Logistic regression. If log loss with only one column Gene comes out to be better than random model, than this feature is important."
   ]
  },
  {
   "cell_type": "code",
   "execution_count": 52,
   "metadata": {},
   "outputs": [],
   "source": [
    "# We need a hyperparemeter for SGD classifier.\n",
    "alpha=[10**x for x in range(-5,1)]"
   ]
  },
  {
   "cell_type": "code",
   "execution_count": 53,
   "metadata": {},
   "outputs": [
    {
     "name": "stdout",
     "output_type": "stream",
     "text": [
      "For values of alpha =  1e-05 The log loss is: 1.3683175284323137\n",
      "For values of alpha =  0.0001 The log loss is: 1.20130396873425\n",
      "For values of alpha =  0.001 The log loss is: 1.2189037651319523\n",
      "For values of alpha =  0.01 The log loss is: 1.3402634663840691\n",
      "For values of alpha =  0.1 The log loss is: 1.4645477234613875\n",
      "For values of alpha =  1 The log loss is: 1.5088903166803034\n"
     ]
    }
   ],
   "source": [
    "# We will be using SGD classifier\n",
    "# http://scikit-learn.org/stable/modules/generated/sklearn.linear_model.SGDClassifier.html\n",
    "# We will also be using Calibrated Classifier to get the result into probablity format t be used for log loss\n",
    "\n",
    "cv_log_error_array=[]\n",
    "for i in alpha:\n",
    "    \n",
    "    clf= SGDClassifier(alpha=i, penalty='l2', loss='log',random_state=42)\n",
    "    clf.fit(train_gene_feature_onehotCoding,y_train)\n",
    "    sig_clf= CalibratedClassifierCV(clf, method=\"sigmoid\")\n",
    "    sig_clf.fit(train_gene_feature_onehotCoding,y_train)\n",
    "    predict_y= sig_clf.predict_proba(cv_gene_feature_onehotCoding)\n",
    "    cv_log_error_array.append(log_loss(y_cv,predict_y,labels=clf.classes_,eps=1e-15))\n",
    "    print('For values of alpha = ', i, \"The log loss is:\",log_loss(y_cv, predict_y, labels=clf.classes_, eps=1e-15))"
   ]
  },
  {
   "cell_type": "code",
   "execution_count": 54,
   "metadata": {},
   "outputs": [
    {
     "data": {
      "image/png": "[encoded data removed]",
      "text/plain": [
       "<Figure size 432x288 with 1 Axes>"
      ]
     },
     "metadata": {
      "needs_background": "light"
     },
     "output_type": "display_data"
    }
   ],
   "source": [
    "# Lets plot the same to check the best Alpha value\n",
    "fig,ax=plt.subplots()\n",
    "ax.plot(alpha,cv_log_error_array)\n",
    "\n",
    "for i,txt in enumerate(np.round(cv_log_error_array,3)):\n",
    "    ax.annotate((alpha[i],np.round(txt,3)),(alpha[i],cv_log_error_array[i]))\n",
    "\n",
    "plt.grid()\n",
    "plt.title(\"Cross Validation Error for each alpha\")\n",
    "plt.xlabel(\"Alpha i's\")\n",
    "plt.ylabel(\"Error measure\")\n",
    "plt.show()"
   ]
  },
  {
   "cell_type": "code",
   "execution_count": 55,
   "metadata": {},
   "outputs": [
    {
     "name": "stdout",
     "output_type": "stream",
     "text": [
      "For values of best alpha =  0.0001 The train log loss is: 1.0363007035978296\n",
      "For values of best alpha =  0.0001 The cross validation log loss is: 1.20130396873425\n",
      "For values of best alpha =  0.0001 The test log loss is: 1.2229576509767008\n"
     ]
    }
   ],
   "source": [
    "# Lets use best alpha value as we can see from above graph and compute log loss\n",
    "best_alpha = np.argmin(cv_log_error_array)\n",
    "\n",
    "clf= SGDClassifier(alpha=alpha[best_alpha],penalty='l2',loss='log',random_state=42)\n",
    "clf.fit(train_gene_feature_onehotCoding,y_train)\n",
    "\n",
    "sig_clf= CalibratedClassifierCV(clf, method=\"sigmoid\")\n",
    "sig_clf.fit(train_gene_feature_onehotCoding,y_train)\n",
    "\n",
    "predict_y= sig_clf.predict_proba(train_gene_feature_onehotCoding)\n",
    "print('For values of best alpha = ', alpha[best_alpha], \"The train log loss is:\",log_loss(y_train, predict_y, labels=clf.classes_, eps=1e-15))\n",
    "predict_y = sig_clf.predict_proba(cv_gene_feature_onehotCoding)\n",
    "print('For values of best alpha = ', alpha[best_alpha], \"The cross validation log loss is:\",log_loss(y_cv, predict_y, labels=clf.classes_, eps=1e-15))\n",
    "predict_y = sig_clf.predict_proba(test_gene_feature_onehotCoding)\n",
    "print('For values of best alpha = ', alpha[best_alpha], \"The test log loss is:\",log_loss(y_test, predict_y, labels=clf.classes_, eps=1e-15))\n"
   ]
  },
  {
   "cell_type": "markdown",
   "metadata": {},
   "source": [
    "Now lets check how many values are overlapping between train, test or between CV and train"
   ]
  },
  {
   "cell_type": "code",
   "execution_count": 56,
   "metadata": {},
   "outputs": [],
   "source": [
    "test_coverage=test_df[test_df['Gene'].isin(list(set(train_df['Gene'])))].shape[0]\n",
    "cv_coverage= cv_df[cv_df['Gene'].isin(list(set(train_df['Gene'])))].shape[0]"
   ]
  },
  {
   "cell_type": "code",
   "execution_count": 57,
   "metadata": {},
   "outputs": [
    {
     "name": "stdout",
     "output_type": "stream",
     "text": [
      "1. In test data 646 out of 665 : 97.14285714285714\n",
      "2. In cross validation data 510 out of  532 : 95.86466165413535\n"
     ]
    }
   ],
   "source": [
    "print('1. In test data',test_coverage, 'out of',test_df.shape[0], \":\",(test_coverage/test_df.shape[0])*100)\n",
    "print('2. In cross validation data',cv_coverage, 'out of ',cv_df.shape[0],\":\" ,(cv_coverage/cv_df.shape[0])*100)"
   ]
  },
  {
   "cell_type": "markdown",
   "metadata": {},
   "source": [
    "## Evaluating Variation column"
   ]
  },
  {
   "cell_type": "markdown",
   "metadata": {},
   "source": [
    "Variation is also a categorical variable so we have to deal in same way like we have done for ***Gene*** column. We will again get the one hot encoder and response enoding variable for variation column."
   ]
  },
  {
   "cell_type": "code",
   "execution_count": 58,
   "metadata": {},
   "outputs": [
    {
     "name": "stdout",
     "output_type": "stream",
     "text": [
      "The number of unique variations are  1927\n",
      "Truncating_Mutations    57\n",
      "Deletion                48\n",
      "Amplification           45\n",
      "Fusions                 22\n",
      "Overexpression           4\n",
      "Q61H                     3\n",
      "Q61R                     3\n",
      "T58I                     2\n",
      "R841K                    2\n",
      "G13C                     2\n",
      "Name: Variation, dtype: int64\n"
     ]
    }
   ],
   "source": [
    "unique_variations= train_df['Variation'].value_counts()\n",
    "print('The number of unique variations are ' , unique_variations.shape[0])\n",
    "# the top 10 variations that occured most\n",
    "print(unique_variations.head(10))"
   ]
  },
  {
   "cell_type": "markdown",
   "metadata": {},
   "source": [
    "Lets look at the comulative distribution of unique ***variation*** values"
   ]
  },
  {
   "cell_type": "code",
   "execution_count": 59,
   "metadata": {},
   "outputs": [
    {
     "data": {
      "image/png": "[encoded data removed]",
      "text/plain": [
       "<Figure size 432x288 with 1 Axes>"
      ]
     },
     "metadata": {
      "needs_background": "light"
     },
     "output_type": "display_data"
    }
   ],
   "source": [
    "s= sum(unique_variations.values)\n",
    "h= unique_variations.values/s\n",
    "c= np.cumsum(h)\n",
    "plt.plot(c,label='Cumulative distribution of Variations')\n",
    "plt.grid()\n",
    "plt.legend()\n",
    "plt.show()"
   ]
  },
  {
   "cell_type": "markdown",
   "metadata": {},
   "source": [
    "Lets convert the variation column using one hot encoder column"
   ]
  },
  {
   "cell_type": "code",
   "execution_count": 60,
   "metadata": {},
   "outputs": [],
   "source": [
    "# one-hot encoding of Gene feature.\n",
    "variation_vectorizer = CountVectorizer()\n",
    "train_variation_feature_onehotCoding = variation_vectorizer.fit_transform(train_df['Variation'])\n",
    "test_variation_feature_onehotCoding = variation_vectorizer.transform(test_df['Variation'])\n",
    "cv_variation_feature_onehotCoding = variation_vectorizer.transform(cv_df['Variation'])"
   ]
  },
  {
   "cell_type": "markdown",
   "metadata": {},
   "source": [
    "Lets look at shape of one hot encoder column for variation"
   ]
  },
  {
   "cell_type": "code",
   "execution_count": 61,
   "metadata": {},
   "outputs": [
    {
     "data": {
      "text/plain": [
       "(2124, 1960)"
      ]
     },
     "execution_count": 61,
     "metadata": {},
     "output_type": "execute_result"
    }
   ],
   "source": [
    "train_variation_feature_onehotCoding.shape"
   ]
  },
  {
   "cell_type": "markdown",
   "metadata": {},
   "source": [
    "Lets do the same for variation column and generate response encoding for the same."
   ]
  },
  {
   "cell_type": "code",
   "execution_count": 62,
   "metadata": {},
   "outputs": [],
   "source": [
    "#response-coding of the Gene feature\n",
    "# alpha is used for laplace smoothing\n",
    "alpha = 1\n",
    "# train gene feature\n",
    "train_variation_feature_responseCoding = np.array(get_gv_feature(alpha, \"Variation\", train_df))\n",
    "# test gene feature\n",
    "test_variation_feature_responseCoding = np.array(get_gv_feature(alpha, \"Variation\", test_df))\n",
    "# cross validation gene feature\n",
    "cv_variation_feature_responseCoding = np.array(get_gv_feature(alpha, \"Variation\", cv_df))"
   ]
  },
  {
   "cell_type": "markdown",
   "metadata": {},
   "source": [
    "Lets look at the shape of this response encoding resultLets look at the shape of this response encoding result"
   ]
  },
  {
   "cell_type": "code",
   "execution_count": 63,
   "metadata": {},
   "outputs": [
    {
     "data": {
      "text/plain": [
       "(2124, 9)"
      ]
     },
     "execution_count": 63,
     "metadata": {},
     "output_type": "execute_result"
    }
   ],
   "source": [
    "train_variation_feature_responseCoding.shape"
   ]
  },
  {
   "cell_type": "markdown",
   "metadata": {},
   "source": [
    "Lets again build the model with only column name of ***variation*** column"
   ]
  },
  {
   "cell_type": "code",
   "execution_count": 64,
   "metadata": {},
   "outputs": [],
   "source": [
    "# We need a hyperparemeter for SGD classifier.\n",
    "alpha=[10**x for x in range(-5,1)]"
   ]
  },
  {
   "cell_type": "code",
   "execution_count": 65,
   "metadata": {},
   "outputs": [
    {
     "name": "stdout",
     "output_type": "stream",
     "text": [
      "For values of alpha =  1e-05 The log loss is: 1.7564362598318652\n",
      "For values of alpha =  0.0001 The log loss is: 1.724773680797819\n",
      "For values of alpha =  0.001 The log loss is: 1.7226203829329756\n",
      "For values of alpha =  0.01 The log loss is: 1.7249573924664698\n",
      "For values of alpha =  0.1 The log loss is: 1.7297144444308474\n",
      "For values of alpha =  1 The log loss is: 1.730301240104577\n"
     ]
    }
   ],
   "source": [
    "# We will be using SGD classifier\n",
    "# http://scikit-learn.org/stable/modules/generated/sklearn.linear_model.SGDClassifier.html\n",
    "# We will also be using Calibrated Classifier to get the result into probablity format t be used for log loss\n",
    "cv_log_error_array=[]\n",
    "for i in alpha:\n",
    "    clf = SGDClassifier(alpha=i, penalty='l2', loss='log', random_state=42)\n",
    "    clf.fit(train_variation_feature_onehotCoding, y_train)\n",
    "    \n",
    "    sig_clf = CalibratedClassifierCV(clf, method=\"sigmoid\")\n",
    "    sig_clf.fit(train_variation_feature_onehotCoding, y_train)\n",
    "    predict_y = sig_clf.predict_proba(cv_variation_feature_onehotCoding)\n",
    "    \n",
    "    cv_log_error_array.append(log_loss(y_cv, predict_y, labels=clf.classes_, eps=1e-15))\n",
    "    print('For values of alpha = ', i, \"The log loss is:\",log_loss(y_cv, predict_y, labels=clf.classes_, eps=1e-15))"
   ]
  },
  {
   "cell_type": "code",
   "execution_count": 66,
   "metadata": {},
   "outputs": [
    {
     "data": {
      "image/png": "[encoded data removed]",
      "text/plain": [
       "<Figure size 432x288 with 1 Axes>"
      ]
     },
     "metadata": {
      "needs_background": "light"
     },
     "output_type": "display_data"
    }
   ],
   "source": [
    "# Lets plot the same to check the best Alpha value\n",
    "fig, ax = plt.subplots()\n",
    "ax.plot(alpha, cv_log_error_array,c='g')\n",
    "for i, txt in enumerate(np.round(cv_log_error_array,3)):\n",
    "    ax.annotate((alpha[i],np.round(txt,3)), (alpha[i],cv_log_error_array[i]))\n",
    "plt.grid()\n",
    "plt.title(\"Cross Validation Error for each alpha\")\n",
    "plt.xlabel(\"Alpha i's\")\n",
    "plt.ylabel(\"Error measure\")\n",
    "plt.show()"
   ]
  },
  {
   "cell_type": "code",
   "execution_count": 67,
   "metadata": {},
   "outputs": [
    {
     "name": "stdout",
     "output_type": "stream",
     "text": [
      "For values of best alpha =  0.001 The train log loss is: 1.034064614734616\n",
      "For values of best alpha =  0.001 The cross validation log loss is: 1.7226203829329756\n",
      "For values of best alpha =  0.001 The test log loss is: 1.693656801228467\n"
     ]
    }
   ],
   "source": [
    "# Lets use best alpha value as we can see from above graph and compute log loss\n",
    "best_alpha = np.argmin(cv_log_error_array)\n",
    "\n",
    "clf= SGDClassifier(alpha=alpha[best_alpha],penalty='l2',loss='log',random_state=42)\n",
    "clf.fit(train_variation_feature_onehotCoding,y_train)\n",
    "\n",
    "sig_clf= CalibratedClassifierCV(clf, method=\"sigmoid\")\n",
    "sig_clf.fit(train_variation_feature_onehotCoding,y_train)\n",
    "\n",
    "predict_y= sig_clf.predict_proba(train_variation_feature_onehotCoding)\n",
    "print('For values of best alpha = ', alpha[best_alpha], \"The train log loss is:\",log_loss(y_train, predict_y, labels=clf.classes_, eps=1e-15))\n",
    "predict_y = sig_clf.predict_proba(cv_variation_feature_onehotCoding)\n",
    "print('For values of best alpha = ', alpha[best_alpha], \"The cross validation log loss is:\",log_loss(y_cv, predict_y, labels=clf.classes_, eps=1e-15))\n",
    "predict_y = sig_clf.predict_proba(test_variation_feature_onehotCoding)\n",
    "print('For values of best alpha = ', alpha[best_alpha], \"The test log loss is:\",log_loss(y_test, predict_y, labels=clf.classes_, eps=1e-15))\n"
   ]
  },
  {
   "cell_type": "code",
   "execution_count": 68,
   "metadata": {},
   "outputs": [],
   "source": [
    "test_coverage=test_df[test_df['Variation'].isin(list(set(train_df['Variation'])))].shape[0]\n",
    "cv_coverage= cv_df[cv_df['Variation'].isin(list(set(train_df['Variation'])))].shape[0]"
   ]
  },
  {
   "cell_type": "code",
   "execution_count": 69,
   "metadata": {},
   "outputs": [
    {
     "name": "stdout",
     "output_type": "stream",
     "text": [
      "1. In test data 68 out of 665 : 10.225563909774436\n",
      "2. In cross validation data 56 out of  532 : 10.526315789473683\n"
     ]
    }
   ],
   "source": [
    "print('1. In test data',test_coverage, 'out of',test_df.shape[0], \":\",(test_coverage/test_df.shape[0])*100)\n",
    "print('2. In cross validation data',cv_coverage, 'out of ',cv_df.shape[0],\":\" ,(cv_coverage/cv_df.shape[0])*100)"
   ]
  },
  {
   "cell_type": "markdown",
   "metadata": {},
   "source": [
    "## Evaluating Text column"
   ]
  },
  {
   "cell_type": "code",
   "execution_count": 70,
   "metadata": {},
   "outputs": [],
   "source": [
    "# cls_text is a data frame\n",
    "# for every row in data fram consider the 'TEXT'\n",
    "# split the words by space\n",
    "# make a dict with those words\n",
    "# increment its count whenever we see that word\n",
    "\n",
    "\n",
    "def extract_dictionary_paddle(cls_text):\n",
    "    \n",
    "    dictionary=defaultdict(int)\n",
    "    for index,row in cls_text.iterrows():\n",
    "        for word in row['TEXT'].split():\n",
    "            dictionary[word]+=1\n",
    "    \n",
    "    return dictionary"
   ]
  },
  {
   "cell_type": "code",
   "execution_count": 71,
   "metadata": {},
   "outputs": [],
   "source": [
    "import math\n",
    "\n",
    "def get_text_responsecoding(df):\n",
    "    \n",
    "    text_feature_responseCoding=np.zeros((df.shape[0],9))\n",
    "    for i in range(0,9):\n",
    "        row_index=0\n",
    "        for index,row in df.iterrows():\n",
    "            sum_prob=0\n",
    "            for word in row['TEXT'].split():\n",
    "                sum_prob+=math.log(((dict_list[i].get(word,0)+10)/(total_dict.get(word,0)+90)))\n",
    "            text_feature_responseCoding[row_index][i]=math.exp(sum_prob/len(row['TEXT'].split()))\n",
    "            row_index+=1\n",
    "    return text_feature_responseCoding\n"
   ]
  },
  {
   "cell_type": "code",
   "execution_count": 72,
   "metadata": {},
   "outputs": [
    {
     "name": "stdout",
     "output_type": "stream",
     "text": [
      "The total number of unique words in the train data : 53391\n"
     ]
    }
   ],
   "source": [
    "# building a CountVectorizer with all the words that occured minimum 3 times in train data\n",
    "text_vectorizer = CountVectorizer(min_df=3)\n",
    "train_text_feature_onehotCoding= text_vectorizer.fit_transform(train_df['TEXT'])\n",
    "\n",
    "# getting all the feature names (words)\n",
    "train_text_features= text_vectorizer.get_feature_names()\n",
    "\n",
    "# train_text_feature_onehotCoding.sum(axis=0).A1 will sum every row and returns (1*number of features) vector\n",
    "train_text_fea_counts= train_text_feature_onehotCoding.sum(axis=0).A1\n",
    "\n",
    "# zip(list(text_features),text_fea_counts) will zip a word with its number of times it occured\n",
    "\n",
    "text_fea_dict= dict(zip(list(train_text_features),train_text_fea_counts)) \n",
    "\n",
    "print(\"The total number of unique words in the train data :\", len(train_text_features))\n",
    "\n"
   ]
  },
  {
   "cell_type": "code",
   "execution_count": 73,
   "metadata": {},
   "outputs": [
    {
     "name": "stdout",
     "output_type": "stream",
     "text": [
      "[[2.22003934e+02 7.40039339e+01 3.00393391e+00 ... 2.96003934e+02\n",
      "  2.00393391e+00 8.00393391e+00]\n",
      " [7.89001786e+02 5.33001786e+02 5.50017857e+01 ... 1.92900179e+03\n",
      "  2.50017857e+01 1.12001786e+02]\n",
      " [1.02040816e-01 1.02040816e-01 1.02040816e-01 ... 8.10204082e+00\n",
      "  1.02040816e-01 1.02040816e-01]\n",
      " ...\n",
      " [2.10101010e+00 5.10101010e+00 1.01010101e-01 ... 2.10101010e+00\n",
      "  1.01010101e-01 1.01010101e-01]\n",
      " [1.05263158e-01 3.10526316e+00 1.05263158e-01 ... 1.10526316e+00\n",
      "  1.05263158e-01 1.05263158e-01]\n",
      " [2.09615385e+00 9.61538462e-02 9.61538462e-02 ... 1.00961538e+01\n",
      "  9.61538462e-02 2.09615385e+00]]\n"
     ]
    }
   ],
   "source": [
    "dict_list=[]\n",
    "\n",
    "# dict_list =[] contains 9 dictoinaries each corresponds to a class\n",
    "\n",
    "for i in range(1,10):\n",
    "    cls_text=train_df[train_df['Class']==i]\n",
    "    # build a word dict based on the words in that class\n",
    "    dict_list.append(extract_dictionary_paddle(cls_text))\n",
    "    # append it to dict_list\n",
    "\n",
    "# dict_list[i] is build on i'th  class text data\n",
    "# total_dict is buid on whole training text data\n",
    "\n",
    "total_dict= extract_dictionary_paddle(train_df)\n",
    "\n",
    "confuse_array=[]\n",
    "\n",
    "for i in train_text_features:\n",
    "    ratios=[]\n",
    "    max_val=-1\n",
    "    \n",
    "    for j in range(0,9):\n",
    "        ratios.append((dict_list)[j][i]+10/(total_dict[i]+90))\n",
    "    confuse_array.append(ratios)\n",
    "\n",
    "confuse_array=np.array(confuse_array)\n",
    "print(confuse_array)"
   ]
  },
  {
   "cell_type": "code",
   "execution_count": 98,
   "metadata": {},
   "outputs": [],
   "source": [
    "#response coding of text features\n",
    "train_text_feature_responseCoding= get_text_responsecoding(train_df)\n",
    "test_text_feature_responseCoding= get_text_responsecoding(test_df)\n",
    "cv_text_feature_responseCoding= get_text_responsecoding(cv_df)\n"
   ]
  },
  {
   "cell_type": "code",
   "execution_count": 99,
   "metadata": {},
   "outputs": [],
   "source": [
    "# we convert each row values such that they sum to 1 \n",
    "train_text_feature_responseCoding= (train_text_responseCoding.T/train_text_responseCoding.sum(axis=1)).T\n",
    "test_text_feature_responseCoding= (test_text_responseCoding.T/test_text_responseCoding.sum(axis=1)).T\n",
    "cv_text_feature_responseCoding= (cv_text_responseCoding.T/cv_text_responseCoding.sum(axis=1)).T"
   ]
  },
  {
   "cell_type": "code",
   "execution_count": 76,
   "metadata": {},
   "outputs": [],
   "source": [
    "# don't forget to normalize every feature\n",
    "\n",
    "train_text_feature_onehotCoding= normalize(train_text_feature_onehotCoding,axis=0)\n",
    "\n",
    "# we use the same vectorizer that was trained on train data\n",
    "test_text_feature_onehotCoding= text_vectorizer.transform(test_df['TEXT'])\n",
    "#normalizing text feature\n",
    "test_text_feature_onehotCoding = normalize(test_text_feature_onehotCoding, axis=0)\n",
    "\n",
    "cv_text_feature_onehotCoding= text_vectorizer.transform(cv_df['TEXT'])\n",
    "\n",
    "cv_text_feature_onehotCoding=  normalize(cv_text_feature_onehotCoding,axis=0)\n",
    "\n"
   ]
  },
  {
   "cell_type": "code",
   "execution_count": 77,
   "metadata": {},
   "outputs": [
    {
     "name": "stdout",
     "output_type": "stream",
     "text": [
      "[150281 119249  80738 ...      3      3      3]\n"
     ]
    }
   ],
   "source": [
    "sorted_text_fea_dict= dict(sorted(text_fea_dict.items(),key= lambda x:x[1],reverse=True))\n",
    "sorted_text_occur= np.array(list(sorted_text_fea_dict.values()))\n",
    "print(sorted_text_occur)"
   ]
  },
  {
   "cell_type": "code",
   "execution_count": 100,
   "metadata": {},
   "outputs": [
    {
     "name": "stdout",
     "output_type": "stream",
     "text": [
      "Counter({3: 5167, 4: 4057, 5: 2762, 6: 2626, 7: 2306, 8: 1790, 9: 1720, 10: 1341, 11: 1316, 12: 1205, 16: 1080, 14: 962, 18: 854, 13: 854, 17: 782, 15: 740, 21: 539, 20: 529, 24: 521, 19: 493, 22: 440, 27: 421, 26: 391, 38: 376, 34: 362, 30: 356, 23: 356, 28: 341, 25: 340, 32: 309, 36: 304, 33: 265, 56: 263, 31: 261, 29: 248, 35: 246, 42: 216, 37: 214, 44: 202, 40: 200, 41: 190, 45: 187, 39: 180, 43: 178, 48: 171, 54: 169, 47: 161, 49: 156, 57: 146, 50: 137, 60: 136, 58: 136, 51: 136, 46: 135, 52: 131, 72: 125, 53: 123, 70: 122, 66: 122, 59: 121, 55: 119, 69: 116, 68: 116, 62: 108, 64: 106, 65: 104, 76: 103, 73: 102, 61: 102, 63: 95, 71: 92, 67: 92, 78: 90, 77: 85, 81: 84, 82: 83, 84: 79, 85: 77, 91: 76, 79: 74, 90: 73, 86: 70, 112: 69, 80: 69, 75: 69, 74: 68, 96: 67, 94: 66, 88: 66, 110: 62, 104: 59, 99: 59, 93: 59, 92: 59, 83: 59, 103: 58, 95: 58, 101: 57, 102: 56, 105: 53, 89: 52, 114: 51, 97: 51, 120: 48, 87: 48, 108: 45, 100: 45, 136: 44, 144: 43, 126: 43, 115: 43, 106: 43, 137: 42, 131: 42, 111: 42, 127: 41, 130: 40, 109: 40, 107: 40, 129: 39, 128: 39, 118: 39, 117: 39, 98: 39, 132: 38, 124: 38, 150: 37, 148: 36, 141: 35, 140: 35, 135: 35, 133: 35, 189: 34, 113: 34, 204: 33, 145: 33, 143: 33, 116: 33, 185: 32, 168: 32, 151: 32, 139: 32, 125: 32, 122: 32, 119: 32, 190: 31, 156: 31, 146: 31, 142: 31, 134: 31, 184: 30, 157: 30, 155: 30, 121: 30, 170: 29, 149: 29, 250: 28, 160: 28, 154: 28, 138: 28, 167: 27, 163: 27, 214: 26, 205: 26, 183: 26, 176: 26, 165: 26, 153: 26, 159: 25, 194: 24, 192: 24, 173: 24, 161: 24, 158: 24, 152: 24, 147: 24, 164: 23, 277: 22, 245: 22, 220: 22, 217: 22, 215: 22, 211: 22, 180: 22, 179: 22, 178: 22, 166: 22, 162: 22, 249: 21, 228: 21, 208: 21, 201: 21, 199: 21, 198: 21, 196: 21, 182: 21, 174: 21, 123: 21, 269: 20, 169: 20, 279: 19, 271: 19, 237: 19, 233: 19, 221: 19, 218: 19, 212: 19, 193: 19, 187: 19, 186: 19, 177: 19, 171: 19, 258: 18, 236: 18, 222: 18, 210: 18, 188: 18, 175: 18, 293: 17, 257: 17, 230: 17, 224: 17, 206: 17, 203: 17, 172: 17, 302: 16, 273: 16, 259: 16, 242: 16, 238: 16, 225: 16, 213: 16, 197: 16, 195: 16, 181: 16, 393: 15, 314: 15, 290: 15, 285: 15, 276: 15, 265: 15, 263: 15, 253: 15, 235: 15, 231: 15, 207: 15, 191: 15, 378: 14, 353: 14, 342: 14, 316: 14, 311: 14, 310: 14, 268: 14, 254: 14, 247: 14, 244: 14, 243: 14, 241: 14, 239: 14, 234: 14, 223: 14, 209: 14, 200: 14, 321: 13, 319: 13, 313: 13, 306: 13, 291: 13, 288: 13, 281: 13, 272: 13, 261: 13, 260: 13, 255: 13, 226: 13, 387: 12, 363: 12, 346: 12, 345: 12, 333: 12, 322: 12, 318: 12, 304: 12, 299: 12, 320: 11, 307: 11, 298: 11, 297: 11, 294: 11, 286: 11, 282: 11, 280: 11, 274: 11, 262: 11, 248: 11, 240: 11, 232: 11, 219: 11, 202: 11, 560: 10, 453: 10, 423: 10, 396: 10, 391: 10, 383: 10, 366: 10, 358: 10, 354: 10, 350: 10, 348: 10, 337: 10, 331: 10, 315: 10, 312: 10, 308: 10, 301: 10, 300: 10, 295: 10, 287: 10, 275: 10, 256: 10, 252: 10, 251: 10, 246: 10, 216: 10, 652: 9, 515: 9, 511: 9, 464: 9, 449: 9, 443: 9, 440: 9, 439: 9, 407: 9, 394: 9, 372: 9, 371: 9, 349: 9, 330: 9, 326: 9, 325: 9, 317: 9, 309: 9, 296: 9, 292: 9, 284: 9, 283: 9, 270: 9, 264: 9, 227: 9, 571: 8, 562: 8, 504: 8, 500: 8, 483: 8, 474: 8, 463: 8, 451: 8, 435: 8, 428: 8, 415: 8, 413: 8, 400: 8, 381: 8, 369: 8, 351: 8, 343: 8, 340: 8, 339: 8, 305: 8, 289: 8, 278: 8, 267: 8, 879: 7, 645: 7, 617: 7, 607: 7, 593: 7, 553: 7, 517: 7, 482: 7, 473: 7, 458: 7, 455: 7, 450: 7, 448: 7, 445: 7, 436: 7, 422: 7, 419: 7, 416: 7, 414: 7, 409: 7, 406: 7, 404: 7, 401: 7, 386: 7, 375: 7, 374: 7, 373: 7, 370: 7, 338: 7, 335: 7, 332: 7, 327: 7, 324: 7, 323: 7, 303: 7, 266: 7, 1073: 6, 878: 6, 822: 6, 756: 6, 732: 6, 723: 6, 721: 6, 655: 6, 653: 6, 639: 6, 622: 6, 612: 6, 606: 6, 578: 6, 577: 6, 573: 6, 558: 6, 552: 6, 551: 6, 541: 6, 535: 6, 527: 6, 512: 6, 509: 6, 499: 6, 486: 6, 479: 6, 477: 6, 475: 6, 472: 6, 468: 6, 467: 6, 457: 6, 446: 6, 421: 6, 418: 6, 417: 6, 412: 6, 405: 6, 392: 6, 388: 6, 382: 6, 380: 6, 377: 6, 367: 6, 361: 6, 356: 6, 355: 6, 347: 6, 341: 6, 334: 6, 328: 6, 1117: 5, 1078: 5, 1043: 5, 945: 5, 938: 5, 929: 5, 907: 5, 837: 5, 825: 5, 802: 5, 793: 5, 785: 5, 762: 5, 759: 5, 750: 5, 741: 5, 726: 5, 719: 5, 684: 5, 681: 5, 676: 5, 650: 5, 647: 5, 634: 5, 633: 5, 624: 5, 616: 5, 614: 5, 609: 5, 603: 5, 601: 5, 585: 5, 568: 5, 567: 5, 563: 5, 550: 5, 548: 5, 545: 5, 544: 5, 542: 5, 534: 5, 530: 5, 528: 5, 526: 5, 525: 5, 520: 5, 518: 5, 516: 5, 507: 5, 494: 5, 493: 5, 471: 5, 469: 5, 466: 5, 465: 5, 462: 5, 459: 5, 444: 5, 442: 5, 441: 5, 438: 5, 425: 5, 411: 5, 410: 5, 408: 5, 402: 5, 399: 5, 395: 5, 385: 5, 376: 5, 365: 5, 364: 5, 362: 5, 357: 5, 352: 5, 344: 5, 329: 5, 229: 5, 1735: 4, 1672: 4, 1578: 4, 1561: 4, 1421: 4, 1380: 4, 1307: 4, 1259: 4, 1212: 4, 1173: 4, 1155: 4, 1095: 4, 1062: 4, 1052: 4, 1047: 4, 1030: 4, 1022: 4, 1015: 4, 1011: 4, 1006: 4, 1001: 4, 990: 4, 960: 4, 935: 4, 923: 4, 921: 4, 912: 4, 908: 4, 891: 4, 884: 4, 874: 4, 867: 4, 849: 4, 848: 4, 829: 4, 828: 4, 827: 4, 789: 4, 787: 4, 777: 4, 776: 4, 775: 4, 766: 4, 753: 4, 745: 4, 733: 4, 730: 4, 728: 4, 727: 4, 715: 4, 710: 4, 709: 4, 699: 4, 685: 4, 682: 4, 678: 4, 670: 4, 667: 4, 654: 4, 644: 4, 638: 4, 636: 4, 620: 4, 618: 4, 592: 4, 590: 4, 589: 4, 588: 4, 587: 4, 575: 4, 569: 4, 566: 4, 564: 4, 557: 4, 533: 4, 529: 4, 523: 4, 521: 4, 513: 4, 510: 4, 508: 4, 505: 4, 503: 4, 502: 4, 496: 4, 487: 4, 485: 4, 480: 4, 470: 4, 456: 4, 454: 4, 452: 4, 447: 4, 437: 4, 432: 4, 430: 4, 424: 4, 420: 4, 403: 4, 398: 4, 397: 4, 389: 4, 368: 4, 359: 4, 336: 4, 3967: 3, 3404: 3, 2458: 3, 2384: 3, 2262: 3, 2156: 3, 2073: 3, 1917: 3, 1844: 3, 1831: 3, 1802: 3, 1768: 3, 1690: 3, 1682: 3, 1647: 3, 1646: 3, 1626: 3, 1599: 3, 1593: 3, 1524: 3, 1495: 3, 1488: 3, 1484: 3, 1480: 3, 1476: 3, 1406: 3, 1388: 3, 1373: 3, 1355: 3, 1352: 3, 1348: 3, 1330: 3, 1327: 3, 1293: 3, 1292: 3, 1285: 3, 1281: 3, 1279: 3, 1269: 3, 1262: 3, 1260: 3, 1230: 3, 1221: 3, 1220: 3, 1218: 3, 1217: 3, 1213: 3, 1207: 3, 1202: 3, 1200: 3, 1193: 3, 1192: 3, 1190: 3, 1182: 3, 1181: 3, 1178: 3, 1175: 3, 1172: 3, 1152: 3, 1147: 3, 1141: 3, 1134: 3, 1127: 3, 1111: 3, 1089: 3, 1064: 3, 1056: 3, 1027: 3, 1021: 3, 1013: 3, 1008: 3, 993: 3, 979: 3, 976: 3, 975: 3, 970: 3, 969: 3, 955: 3, 941: 3, 936: 3, 933: 3, 932: 3, 930: 3, 925: 3, 924: 3, 918: 3, 913: 3, 901: 3, 895: 3, 894: 3, 886: 3, 883: 3, 882: 3, 880: 3, 871: 3, 853: 3, 850: 3, 846: 3, 845: 3, 844: 3, 843: 3, 840: 3, 834: 3, 826: 3, 819: 3, 818: 3, 807: 3, 803: 3, 798: 3, 794: 3, 791: 3, 790: 3, 788: 3, 784: 3, 779: 3, 778: 3, 774: 3, 772: 3, 770: 3, 769: 3, 764: 3, 761: 3, 758: 3, 754: 3, 752: 3, 748: 3, 747: 3, 746: 3, 744: 3, 742: 3, 731: 3, 729: 3, 718: 3, 716: 3, 713: 3, 711: 3, 698: 3, 696: 3, 692: 3, 691: 3, 690: 3, 688: 3, 687: 3, 686: 3, 683: 3, 679: 3, 677: 3, 675: 3, 673: 3, 668: 3, 665: 3, 664: 3, 662: 3, 661: 3, 660: 3, 657: 3, 651: 3, 649: 3, 646: 3, 640: 3, 631: 3, 630: 3, 626: 3, 615: 3, 613: 3, 610: 3, 605: 3, 604: 3, 600: 3, 597: 3, 596: 3, 594: 3, 591: 3, 586: 3, 584: 3, 580: 3, 579: 3, 565: 3, 561: 3, 555: 3, 554: 3, 543: 3, 540: 3, 536: 3, 532: 3, 531: 3, 522: 3, 519: 3, 514: 3, 498: 3, 497: 3, 492: 3, 491: 3, 490: 3, 481: 3, 478: 3, 461: 3, 434: 3, 429: 3, 390: 3, 11761: 2, 8626: 2, 7195: 2, 6584: 2, 6234: 2, 5768: 2, 5510: 2, 5032: 2, 4932: 2, 4841: 2, 4833: 2, 4798: 2, 4492: 2, 4318: 2, 4258: 2, 4198: 2, 4150: 2, 4087: 2, 4080: 2, 4027: 2, 4024: 2, 4022: 2, 3764: 2, 3687: 2, 3635: 2, 3599: 2, 3590: 2, 3573: 2, 3545: 2, 3541: 2, 3538: 2, 3507: 2, 3498: 2, 3429: 2, 3406: 2, 3376: 2, 3324: 2, 3312: 2, 3310: 2, 3229: 2, 3227: 2, 3214: 2, 3205: 2, 3195: 2, 3180: 2, 3124: 2, 3090: 2, 3016: 2, 2979: 2, 2888: 2, 2857: 2, 2820: 2, 2767: 2, 2753: 2, 2736: 2, 2734: 2, 2720: 2, 2719: 2, 2714: 2, 2702: 2, 2645: 2, 2630: 2, 2580: 2, 2557: 2, 2543: 2, 2542: 2, 2531: 2, 2528: 2, 2513: 2, 2509: 2, 2481: 2, 2474: 2, 2466: 2, 2464: 2, 2436: 2, 2397: 2, 2389: 2, 2372: 2, 2289: 2, 2283: 2, 2282: 2, 2250: 2, 2230: 2, 2225: 2, 2197: 2, 2185: 2, 2169: 2, 2163: 2, 2151: 2, 2141: 2, 2136: 2, 2130: 2, 2125: 2, 2123: 2, 2111: 2, 2103: 2, 2096: 2, 2086: 2, 2080: 2, 2069: 2, 2066: 2, 2063: 2, 2055: 2, 2047: 2, 2046: 2, 2039: 2, 2008: 2, 2003: 2, 2000: 2, 1994: 2, 1968: 2, 1958: 2, 1952: 2, 1937: 2, 1912: 2, 1900: 2, 1887: 2, 1874: 2, 1873: 2, 1870: 2, 1846: 2, 1843: 2, 1840: 2, 1839: 2, 1829: 2, 1817: 2, 1814: 2, 1801: 2, 1789: 2, 1778: 2, 1765: 2, 1756: 2, 1738: 2, 1736: 2, 1724: 2, 1723: 2, 1722: 2, 1714: 2, 1712: 2, 1706: 2, 1705: 2, 1693: 2, 1688: 2, 1655: 2, 1654: 2, 1650: 2, 1634: 2, 1631: 2, 1630: 2, 1620: 2, 1614: 2, 1612: 2, 1610: 2, 1605: 2, 1601: 2, 1597: 2, 1595: 2, 1591: 2, 1569: 2, 1568: 2, 1564: 2, 1560: 2, 1559: 2, 1558: 2, 1543: 2, 1522: 2, 1521: 2, 1516: 2, 1507: 2, 1501: 2, 1500: 2, 1478: 2, 1468: 2, 1467: 2, 1462: 2, 1460: 2, 1459: 2, 1457: 2, 1456: 2, 1453: 2, 1449: 2, 1439: 2, 1436: 2, 1435: 2, 1430: 2, 1429: 2, 1422: 2, 1420: 2, 1416: 2, 1403: 2, 1402: 2, 1393: 2, 1391: 2, 1389: 2, 1377: 2, 1358: 2, 1357: 2, 1353: 2, 1351: 2, 1347: 2, 1341: 2, 1338: 2, 1329: 2, 1321: 2, 1315: 2, 1312: 2, 1311: 2, 1299: 2, 1289: 2, 1288: 2, 1287: 2, 1282: 2, 1278: 2, 1275: 2, 1274: 2, 1261: 2, 1256: 2, 1254: 2, 1253: 2, 1250: 2, 1241: 2, 1239: 2, 1231: 2, 1228: 2, 1227: 2, 1225: 2, 1219: 2, 1209: 2, 1205: 2, 1203: 2, 1198: 2, 1194: 2, 1184: 2, 1170: 2, 1168: 2, 1154: 2, 1151: 2, 1150: 2, 1143: 2, 1142: 2, 1140: 2, 1138: 2, 1137: 2, 1136: 2, 1131: 2, 1124: 2, 1123: 2, 1119: 2, 1118: 2, 1116: 2, 1113: 2, 1110: 2, 1109: 2, 1104: 2, 1091: 2, 1084: 2, 1080: 2, 1077: 2, 1075: 2, 1066: 2, 1063: 2, 1048: 2, 1046: 2, 1041: 2, 1039: 2, 1028: 2, 1026: 2, 1023: 2, 1020: 2, 1019: 2, 1014: 2, 1012: 2, 1005: 2, 1004: 2, 1003: 2, 1000: 2, 998: 2, 996: 2, 994: 2, 980: 2, 978: 2, 974: 2, 973: 2, 963: 2, 959: 2, 958: 2, 957: 2, 956: 2, 954: 2, 953: 2, 952: 2, 948: 2, 946: 2, 943: 2, 942: 2, 939: 2, 931: 2, 926: 2, 920: 2, 914: 2, 911: 2, 910: 2, 900: 2, 899: 2, 896: 2, 889: 2, 881: 2, 877: 2, 876: 2, 870: 2, 869: 2, 866: 2, 863: 2, 857: 2, 856: 2, 855: 2, 851: 2, 847: 2, 839: 2, 833: 2, 830: 2, 824: 2, 821: 2, 820: 2, 816: 2, 809: 2, 804: 2, 799: 2, 797: 2, 796: 2, 792: 2, 783: 2, 782: 2, 781: 2, 780: 2, 771: 2, 768: 2, 767: 2, 763: 2, 755: 2, 738: 2, 736: 2, 735: 2, 725: 2, 724: 2, 722: 2, 720: 2, 717: 2, 706: 2, 703: 2, 702: 2, 701: 2, 697: 2, 693: 2, 680: 2, 674: 2, 672: 2, 671: 2, 669: 2, 663: 2, 659: 2, 658: 2, 642: 2, 641: 2, 637: 2, 635: 2, 632: 2, 629: 2, 628: 2, 627: 2, 619: 2, 608: 2, 599: 2, 598: 2, 582: 2, 574: 2, 570: 2, 556: 2, 549: 2, 547: 2, 538: 2, 537: 2, 506: 2, 501: 2, 495: 2, 489: 2, 484: 2, 476: 2, 433: 2, 431: 2, 427: 2, 426: 2, 379: 2, 360: 2, 150281: 1, 119249: 1, 80738: 1, 67948: 1, 67892: 1, 66778: 1, 65903: 1, 63196: 1, 63023: 1, 53985: 1, 53567: 1, 48931: 1, 48334: 1, 47438: 1, 46357: 1, 43960: 1, 43472: 1, 42307: 1, 41976: 1, 41350: 1, 41231: 1, 40868: 1, 40126: 1, 39429: 1, 38563: 1, 37690: 1, 36474: 1, 36443: 1, 35816: 1, 33934: 1, 33603: 1, 33591: 1, 33073: 1, 32735: 1, 32611: 1, 31474: 1, 29562: 1, 29404: 1, 28193: 1, 26014: 1, 26012: 1, 25987: 1, 25650: 1, 25169: 1, 25078: 1, 24990: 1, 24951: 1, 24794: 1, 24625: 1, 23954: 1, 23943: 1, 23802: 1, 23581: 1, 22185: 1, 22139: 1, 22120: 1, 21853: 1, 21815: 1, 21514: 1, 21305: 1, 20721: 1, 20557: 1, 20401: 1, 19896: 1, 19581: 1, 19510: 1, 19445: 1, 19221: 1, 19024: 1, 18947: 1, 18919: 1, 18762: 1, 18730: 1, 18646: 1, 18466: 1, 18358: 1, 18156: 1, 18120: 1, 18007: 1, 17941: 1, 17804: 1, 17719: 1, 17657: 1, 17599: 1, 17549: 1, 17433: 1, 17287: 1, 17285: 1, 17181: 1, 17148: 1, 17100: 1, 16907: 1, 16886: 1, 16868: 1, 16812: 1, 16604: 1, 16603: 1, 16152: 1, 16073: 1, 15711: 1, 15702: 1, 15697: 1, 15691: 1, 15611: 1, 15591: 1, 15568: 1, 15486: 1, 15485: 1, 15464: 1, 14949: 1, 14894: 1, 14818: 1, 14805: 1, 14684: 1, 14672: 1, 14634: 1, 14346: 1, 14192: 1, 14036: 1, 13863: 1, 13726: 1, 13603: 1, 13562: 1, 13378: 1, 13273: 1, 13264: 1, 13207: 1, 13202: 1, 13184: 1, 13153: 1, 13080: 1, 13031: 1, 12978: 1, 12873: 1, 12871: 1, 12865: 1, 12838: 1, 12733: 1, 12722: 1, 12619: 1, 12511: 1, 12441: 1, 12419: 1, 12398: 1, 12384: 1, 12350: 1, 12307: 1, 12301: 1, 12290: 1, 12262: 1, 12225: 1, 12176: 1, 12168: 1, 12166: 1, 12158: 1, 12153: 1, 12124: 1, 12101: 1, 12071: 1, 12061: 1, 12055: 1, 12024: 1, 12008: 1, 11979: 1, 11974: 1, 11943: 1, 11895: 1, 11856: 1, 11634: 1, 11611: 1, 11600: 1, 11531: 1, 11529: 1, 11444: 1, 11407: 1, 11353: 1, 11322: 1, 11300: 1, 11299: 1, 11198: 1, 11017: 1, 10974: 1, 10893: 1, 10861: 1, 10794: 1, 10757: 1, 10477: 1, 10441: 1, 10407: 1, 10374: 1, 10366: 1, 10223: 1, 10123: 1, 10120: 1, 10088: 1, 10083: 1, 10076: 1, 10033: 1, 10027: 1, 10022: 1, 9954: 1, 9891: 1, 9872: 1, 9854: 1, 9845: 1, 9808: 1, 9799: 1, 9779: 1, 9764: 1, 9678: 1, 9594: 1, 9570: 1, 9562: 1, 9525: 1, 9504: 1, 9502: 1, 9413: 1, 9355: 1, 9345: 1, 9315: 1, 9273: 1, 9263: 1, 9203: 1, 9194: 1, 9178: 1, 9170: 1, 9143: 1, 9080: 1, 9069: 1, 9062: 1, 9054: 1, 9043: 1, 9030: 1, 9027: 1, 8999: 1, 8963: 1, 8865: 1, 8864: 1, 8794: 1, 8782: 1, 8771: 1, 8758: 1, 8746: 1, 8726: 1, 8654: 1, 8519: 1, 8484: 1, 8415: 1, 8410: 1, 8405: 1, 8403: 1, 8376: 1, 8368: 1, 8325: 1, 8304: 1, 8301: 1, 8292: 1, 8269: 1, 8262: 1, 8243: 1, 8235: 1, 8220: 1, 8219: 1, 8142: 1, 8137: 1, 8099: 1, 8095: 1, 8077: 1, 8027: 1, 8017: 1, 7970: 1, 7965: 1, 7887: 1, 7840: 1, 7804: 1, 7793: 1, 7784: 1, 7752: 1, 7739: 1, 7715: 1, 7687: 1, 7682: 1, 7667: 1, 7652: 1, 7651: 1, 7645: 1, 7634: 1, 7624: 1, 7621: 1, 7577: 1, 7568: 1, 7474: 1, 7471: 1, 7452: 1, 7451: 1, 7399: 1, 7383: 1, 7369: 1, 7351: 1, 7335: 1, 7328: 1, 7283: 1, 7271: 1, 7260: 1, 7255: 1, 7238: 1, 7188: 1, 7167: 1, 7146: 1, 7120: 1, 7096: 1, 7081: 1, 7075: 1, 7067: 1, 7013: 1, 7012: 1, 7003: 1, 7002: 1, 6984: 1, 6962: 1, 6955: 1, 6949: 1, 6941: 1, 6937: 1, 6935: 1, 6929: 1, 6928: 1, 6896: 1, 6883: 1, 6860: 1, 6848: 1, 6847: 1, 6800: 1, 6786: 1, 6785: 1, 6778: 1, 6774: 1, 6758: 1, 6699: 1, 6666: 1, 6652: 1, 6637: 1, 6633: 1, 6608: 1, 6607: 1, 6585: 1, 6553: 1, 6520: 1, 6508: 1, 6504: 1, 6496: 1, 6486: 1, 6483: 1, 6478: 1, 6475: 1, 6454: 1, 6442: 1, 6415: 1, 6363: 1, 6341: 1, 6324: 1, 6317: 1, 6313: 1, 6270: 1, 6262: 1, 6255: 1, 6254: 1, 6242: 1, 6241: 1, 6207: 1, 6205: 1, 6137: 1, 6135: 1, 6133: 1, 6124: 1, 6122: 1, 6121: 1, 6103: 1, 6083: 1, 6071: 1, 6069: 1, 6057: 1, 6043: 1, 6039: 1, 6036: 1, 6017: 1, 5995: 1, 5913: 1, 5908: 1, 5890: 1, 5887: 1, 5867: 1, 5857: 1, 5836: 1, 5826: 1, 5801: 1, 5773: 1, 5771: 1, 5761: 1, 5758: 1, 5753: 1, 5750: 1, 5746: 1, 5734: 1, 5714: 1, 5708: 1, 5700: 1, 5692: 1, 5678: 1, 5671: 1, 5667: 1, 5651: 1, 5648: 1, 5645: 1, 5631: 1, 5629: 1, 5627: 1, 5626: 1, 5614: 1, 5611: 1, 5605: 1, 5599: 1, 5597: 1, 5558: 1, 5555: 1, 5544: 1, 5542: 1, 5520: 1, 5503: 1, 5474: 1, 5469: 1, 5465: 1, 5432: 1, 5430: 1, 5429: 1, 5417: 1, 5415: 1, 5399: 1, 5376: 1, 5352: 1, 5349: 1, 5344: 1, 5318: 1, 5311: 1, 5309: 1, 5306: 1, 5265: 1, 5258: 1, 5249: 1, 5248: 1, 5229: 1, 5226: 1, 5216: 1, 5215: 1, 5194: 1, 5137: 1, 5128: 1, 5126: 1, 5098: 1, 5096: 1, 5084: 1, 5082: 1, 5081: 1, 5079: 1, 5059: 1, 5058: 1, 5050: 1, 5039: 1, 5030: 1, 5024: 1, 5016: 1, 4994: 1, 4986: 1, 4984: 1, 4982: 1, 4960: 1, 4946: 1, 4927: 1, 4922: 1, 4920: 1, 4915: 1, 4903: 1, 4898: 1, 4896: 1, 4893: 1, 4886: 1, 4880: 1, 4877: 1, 4876: 1, 4871: 1, 4844: 1, 4834: 1, 4829: 1, 4815: 1, 4773: 1, 4771: 1, 4762: 1, 4761: 1, 4755: 1, 4728: 1, 4723: 1, 4717: 1, 4714: 1, 4708: 1, 4694: 1, 4691: 1, 4672: 1, 4645: 1, 4644: 1, 4632: 1, 4612: 1, 4611: 1, 4576: 1, 4571: 1, 4553: 1, 4538: 1, 4534: 1, 4533: 1, 4532: 1, 4530: 1, 4529: 1, 4516: 1, 4504: 1, 4497: 1, 4480: 1, 4470: 1, 4465: 1, 4461: 1, 4450: 1, 4444: 1, 4442: 1, 4438: 1, 4434: 1, 4422: 1, 4409: 1, 4404: 1, 4377: 1, 4375: 1, 4369: 1, 4367: 1, 4363: 1, 4358: 1, 4356: 1, 4350: 1, 4337: 1, 4332: 1, 4331: 1, 4327: 1, 4326: 1, 4325: 1, 4310: 1, 4306: 1, 4300: 1, 4290: 1, 4266: 1, 4251: 1, 4250: 1, 4247: 1, 4224: 1, 4223: 1, 4220: 1, 4211: 1, 4204: 1, 4201: 1, 4194: 1, 4179: 1, 4166: 1, 4164: 1, 4157: 1, 4147: 1, 4145: 1, 4125: 1, 4109: 1, 4105: 1, 4103: 1, 4101: 1, 4096: 1, 4089: 1, 4081: 1, 4077: 1, 4075: 1, 4074: 1, 4070: 1, 4064: 1, 4060: 1, 4047: 1, 4043: 1, 4026: 1, 4023: 1, 4018: 1, 4012: 1, 4007: 1, 3993: 1, 3991: 1, 3988: 1, 3977: 1, 3976: 1, 3960: 1, 3958: 1, 3944: 1, 3938: 1, 3935: 1, 3934: 1, 3918: 1, 3916: 1, 3909: 1, 3896: 1, 3882: 1, 3878: 1, 3871: 1, 3870: 1, 3856: 1, 3852: 1, 3845: 1, 3838: 1, 3836: 1, 3835: 1, 3832: 1, 3830: 1, 3824: 1, 3823: 1, 3820: 1, 3819: 1, 3818: 1, 3795: 1, 3792: 1, 3791: 1, 3784: 1, 3771: 1, 3770: 1, 3765: 1, 3753: 1, 3747: 1, 3745: 1, 3741: 1, 3728: 1, 3721: 1, 3717: 1, 3714: 1, 3696: 1, 3695: 1, 3691: 1, 3688: 1, 3678: 1, 3674: 1, 3671: 1, 3666: 1, 3665: 1, 3663: 1, 3662: 1, 3660: 1, 3648: 1, 3627: 1, 3620: 1, 3616: 1, 3610: 1, 3608: 1, 3602: 1, 3600: 1, 3595: 1, 3589: 1, 3587: 1, 3585: 1, 3574: 1, 3569: 1, 3567: 1, 3563: 1, 3549: 1, 3546: 1, 3544: 1, 3543: 1, 3542: 1, 3537: 1, 3533: 1, 3531: 1, 3518: 1, 3515: 1, 3509: 1, 3501: 1, 3496: 1, 3487: 1, 3480: 1, 3474: 1, 3472: 1, 3469: 1, 3467: 1, 3460: 1, 3447: 1, 3441: 1, 3438: 1, 3433: 1, 3431: 1, 3407: 1, 3402: 1, 3400: 1, 3398: 1, 3397: 1, 3395: 1, 3392: 1, 3389: 1, 3388: 1, 3387: 1, 3386: 1, 3383: 1, 3379: 1, 3373: 1, 3370: 1, 3369: 1, 3367: 1, 3364: 1, 3360: 1, 3350: 1, 3347: 1, 3346: 1, 3335: 1, 3332: 1, 3325: 1, 3323: 1, 3316: 1, 3315: 1, 3311: 1, 3309: 1, 3304: 1, 3303: 1, 3298: 1, 3292: 1, 3289: 1, 3285: 1, 3281: 1, 3274: 1, 3270: 1, 3265: 1, 3262: 1, 3260: 1, 3255: 1, 3252: 1, 3250: 1, 3249: 1, 3244: 1, 3226: 1, 3224: 1, 3223: 1, 3216: 1, 3203: 1, 3198: 1, 3196: 1, 3194: 1, 3191: 1, 3187: 1, 3186: 1, 3176: 1, 3167: 1, 3165: 1, 3164: 1, 3163: 1, 3157: 1, 3138: 1, 3136: 1, 3125: 1, 3116: 1, 3114: 1, 3101: 1, 3092: 1, 3089: 1, 3088: 1, 3081: 1, 3077: 1, 3062: 1, 3060: 1, 3051: 1, 3039: 1, 3035: 1, 3023: 1, 3011: 1, 3008: 1, 3006: 1, 3002: 1, 3001: 1, 2998: 1, 2995: 1, 2988: 1, 2983: 1, 2981: 1, 2978: 1, 2973: 1, 2966: 1, 2963: 1, 2958: 1, 2957: 1, 2955: 1, 2951: 1, 2948: 1, 2946: 1, 2945: 1, 2944: 1, 2935: 1, 2925: 1, 2919: 1, 2918: 1, 2914: 1, 2913: 1, 2910: 1, 2907: 1, 2894: 1, 2892: 1, 2887: 1, 2882: 1, 2869: 1, 2861: 1, 2855: 1, 2848: 1, 2841: 1, 2831: 1, 2829: 1, 2827: 1, 2813: 1, 2809: 1, 2806: 1, 2805: 1, 2788: 1, 2786: 1, 2776: 1, 2771: 1, 2770: 1, 2764: 1, 2760: 1, 2758: 1, 2755: 1, 2754: 1, 2743: 1, 2735: 1, 2729: 1, 2716: 1, 2706: 1, 2705: 1, 2703: 1, 2688: 1, 2680: 1, 2679: 1, 2678: 1, 2676: 1, 2675: 1, 2673: 1, 2666: 1, 2663: 1, 2662: 1, 2654: 1, 2646: 1, 2643: 1, 2642: 1, 2641: 1, 2634: 1, 2631: 1, 2625: 1, 2624: 1, 2622: 1, 2610: 1, 2609: 1, 2608: 1, 2605: 1, 2601: 1, 2592: 1, 2589: 1, 2588: 1, 2587: 1, 2586: 1, 2585: 1, 2574: 1, 2569: 1, 2566: 1, 2562: 1, 2561: 1, 2559: 1, 2558: 1, 2556: 1, 2555: 1, 2552: 1, 2547: 1, 2541: 1, 2540: 1, 2539: 1, 2532: 1, 2525: 1, 2522: 1, 2520: 1, 2516: 1, 2514: 1, 2508: 1, 2504: 1, 2502: 1, 2499: 1, 2498: 1, 2488: 1, 2478: 1, 2477: 1, 2468: 1, 2454: 1, 2452: 1, 2451: 1, 2450: 1, 2449: 1, 2447: 1, 2446: 1, 2441: 1, 2438: 1, 2435: 1, 2432: 1, 2431: 1, 2428: 1, 2426: 1, 2425: 1, 2424: 1, 2419: 1, 2416: 1, 2412: 1, 2410: 1, 2409: 1, 2403: 1, 2400: 1, 2399: 1, 2398: 1, 2396: 1, 2394: 1, 2392: 1, 2386: 1, 2382: 1, 2381: 1, 2377: 1, 2375: 1, 2362: 1, 2361: 1, 2358: 1, 2357: 1, 2354: 1, 2353: 1, 2348: 1, 2347: 1, 2345: 1, 2344: 1, 2342: 1, 2340: 1, 2337: 1, 2334: 1, 2331: 1, 2330: 1, 2326: 1, 2320: 1, 2313: 1, 2304: 1, 2302: 1, 2301: 1, 2299: 1, 2298: 1, 2295: 1, 2294: 1, 2292: 1, 2286: 1, 2284: 1, 2279: 1, 2277: 1, 2272: 1, 2268: 1, 2258: 1, 2251: 1, 2248: 1, 2246: 1, 2244: 1, 2240: 1, 2238: 1, 2236: 1, 2235: 1, 2234: 1, 2231: 1, 2227: 1, 2221: 1, 2220: 1, 2218: 1, 2195: 1, 2183: 1, 2177: 1, 2175: 1, 2170: 1, 2168: 1, 2165: 1, 2162: 1, 2160: 1, 2159: 1, 2157: 1, 2148: 1, 2145: 1, 2144: 1, 2142: 1, 2135: 1, 2134: 1, 2132: 1, 2131: 1, 2128: 1, 2121: 1, 2120: 1, 2118: 1, 2115: 1, 2105: 1, 2104: 1, 2100: 1, 2097: 1, 2094: 1, 2091: 1, 2090: 1, 2088: 1, 2084: 1, 2079: 1, 2078: 1, 2077: 1, 2076: 1, 2075: 1, 2074: 1, 2072: 1, 2070: 1, 2065: 1, 2061: 1, 2060: 1, 2059: 1, 2057: 1, 2052: 1, 2049: 1, 2045: 1, 2042: 1, 2041: 1, 2040: 1, 2035: 1, 2034: 1, 2033: 1, 2030: 1, 2023: 1, 2017: 1, 2013: 1, 2012: 1, 2009: 1, 2007: 1, 2006: 1, 1997: 1, 1996: 1, 1995: 1, 1989: 1, 1985: 1, 1984: 1, 1982: 1, 1981: 1, 1979: 1, 1973: 1, 1972: 1, 1970: 1, 1969: 1, 1967: 1, 1965: 1, 1963: 1, 1962: 1, 1961: 1, 1960: 1, 1957: 1, 1955: 1, 1954: 1, 1953: 1, 1951: 1, 1946: 1, 1945: 1, 1939: 1, 1936: 1, 1935: 1, 1934: 1, 1932: 1, 1929: 1, 1925: 1, 1922: 1, 1918: 1, 1910: 1, 1909: 1, 1907: 1, 1906: 1, 1902: 1, 1895: 1, 1889: 1, 1886: 1, 1884: 1, 1882: 1, 1881: 1, 1880: 1, 1878: 1, 1877: 1, 1876: 1, 1872: 1, 1864: 1, 1861: 1, 1860: 1, 1857: 1, 1855: 1, 1853: 1, 1852: 1, 1851: 1, 1850: 1, 1849: 1, 1848: 1, 1842: 1, 1837: 1, 1835: 1, 1834: 1, 1828: 1, 1825: 1, 1822: 1, 1819: 1, 1816: 1, 1815: 1, 1813: 1, 1812: 1, 1811: 1, 1810: 1, 1808: 1, 1806: 1, 1805: 1, 1804: 1, 1799: 1, 1795: 1, 1791: 1, 1790: 1, 1788: 1, 1785: 1, 1784: 1, 1783: 1, 1782: 1, 1781: 1, 1780: 1, 1776: 1, 1773: 1, 1772: 1, 1769: 1, 1767: 1, 1761: 1, 1758: 1, 1754: 1, 1753: 1, 1751: 1, 1749: 1, 1748: 1, 1747: 1, 1746: 1, 1743: 1, 1741: 1, 1737: 1, 1734: 1, 1733: 1, 1732: 1, 1731: 1, 1729: 1, 1728: 1, 1721: 1, 1717: 1, 1710: 1, 1709: 1, 1708: 1, 1701: 1, 1695: 1, 1689: 1, 1687: 1, 1684: 1, 1683: 1, 1681: 1, 1679: 1, 1677: 1, 1676: 1, 1673: 1, 1670: 1, 1667: 1, 1661: 1, 1653: 1, 1651: 1, 1649: 1, 1644: 1, 1642: 1, 1641: 1, 1639: 1, 1636: 1, 1635: 1, 1632: 1, 1629: 1, 1625: 1, 1624: 1, 1623: 1, 1622: 1, 1617: 1, 1611: 1, 1609: 1, 1608: 1, 1603: 1, 1602: 1, 1598: 1, 1596: 1, 1592: 1, 1589: 1, 1585: 1, 1584: 1, 1583: 1, 1582: 1, 1581: 1, 1579: 1, 1576: 1, 1575: 1, 1573: 1, 1565: 1, 1562: 1, 1557: 1, 1556: 1, 1555: 1, 1554: 1, 1551: 1, 1550: 1, 1547: 1, 1546: 1, 1545: 1, 1540: 1, 1537: 1, 1536: 1, 1527: 1, 1523: 1, 1520: 1, 1513: 1, 1508: 1, 1504: 1, 1502: 1, 1499: 1, 1492: 1, 1490: 1, 1487: 1, 1486: 1, 1485: 1, 1483: 1, 1481: 1, 1479: 1, 1475: 1, 1474: 1, 1472: 1, 1471: 1, 1469: 1, 1465: 1, 1464: 1, 1458: 1, 1452: 1, 1451: 1, 1447: 1, 1446: 1, 1445: 1, 1443: 1, 1441: 1, 1434: 1, 1433: 1, 1431: 1, 1425: 1, 1424: 1, 1423: 1, 1418: 1, 1417: 1, 1414: 1, 1413: 1, 1412: 1, 1410: 1, 1409: 1, 1407: 1, 1405: 1, 1401: 1, 1399: 1, 1397: 1, 1386: 1, 1385: 1, 1382: 1, 1381: 1, 1376: 1, 1375: 1, 1369: 1, 1368: 1, 1365: 1, 1363: 1, 1359: 1, 1356: 1, 1350: 1, 1349: 1, 1346: 1, 1344: 1, 1343: 1, 1342: 1, 1340: 1, 1339: 1, 1337: 1, 1335: 1, 1334: 1, 1333: 1, 1323: 1, 1322: 1, 1318: 1, 1316: 1, 1313: 1, 1306: 1, 1305: 1, 1304: 1, 1303: 1, 1302: 1, 1301: 1, 1300: 1, 1298: 1, 1296: 1, 1295: 1, 1290: 1, 1283: 1, 1276: 1, 1273: 1, 1272: 1, 1271: 1, 1268: 1, 1266: 1, 1264: 1, 1263: 1, 1258: 1, 1257: 1, 1255: 1, 1252: 1, 1249: 1, 1247: 1, 1245: 1, 1243: 1, 1242: 1, 1237: 1, 1234: 1, 1233: 1, 1226: 1, 1224: 1, 1223: 1, 1216: 1, 1215: 1, 1211: 1, 1210: 1, 1206: 1, 1204: 1, 1196: 1, 1195: 1, 1191: 1, 1189: 1, 1187: 1, 1183: 1, 1179: 1, 1177: 1, 1176: 1, 1174: 1, 1171: 1, 1169: 1, 1166: 1, 1165: 1, 1163: 1, 1160: 1, 1159: 1, 1158: 1, 1156: 1, 1153: 1, 1145: 1, 1139: 1, 1135: 1, 1132: 1, 1130: 1, 1128: 1, 1125: 1, 1114: 1, 1112: 1, 1108: 1, 1106: 1, 1100: 1, 1098: 1, 1097: 1, 1093: 1, 1092: 1, 1090: 1, 1088: 1, 1085: 1, 1083: 1, 1082: 1, 1081: 1, 1079: 1, 1074: 1, 1072: 1, 1071: 1, 1069: 1, 1067: 1, 1065: 1, 1061: 1, 1060: 1, 1058: 1, 1057: 1, 1054: 1, 1050: 1, 1049: 1, 1042: 1, 1038: 1, 1036: 1, 1033: 1, 1032: 1, 1024: 1, 1017: 1, 1016: 1, 1010: 1, 1009: 1, 1007: 1, 1002: 1, 999: 1, 997: 1, 995: 1, 991: 1, 989: 1, 988: 1, 987: 1, 986: 1, 985: 1, 984: 1, 983: 1, 982: 1, 981: 1, 977: 1, 971: 1, 966: 1, 965: 1, 962: 1, 961: 1, 951: 1, 950: 1, 949: 1, 947: 1, 944: 1, 940: 1, 937: 1, 928: 1, 919: 1, 916: 1, 915: 1, 909: 1, 906: 1, 904: 1, 903: 1, 902: 1, 893: 1, 890: 1, 885: 1, 875: 1, 873: 1, 872: 1, 868: 1, 865: 1, 862: 1, 861: 1, 860: 1, 859: 1, 854: 1, 842: 1, 841: 1, 838: 1, 836: 1, 835: 1, 831: 1, 823: 1, 817: 1, 815: 1, 814: 1, 812: 1, 811: 1, 810: 1, 808: 1, 806: 1, 805: 1, 801: 1, 800: 1, 773: 1, 760: 1, 757: 1, 751: 1, 749: 1, 743: 1, 740: 1, 739: 1, 737: 1, 712: 1, 708: 1, 707: 1, 705: 1, 704: 1, 700: 1, 695: 1, 689: 1, 666: 1, 656: 1, 648: 1, 643: 1, 625: 1, 623: 1, 583: 1, 581: 1, 576: 1, 572: 1, 559: 1, 546: 1, 539: 1, 524: 1, 488: 1, 460: 1, 384: 1})\n"
     ]
    }
   ],
   "source": [
    "# Number of words for a given frequency.\n",
    "print(Counter(sorted_text_occur))"
   ]
  },
  {
   "cell_type": "markdown",
   "metadata": {},
   "source": [
    "Lets build the model with only ***text*** column"
   ]
  },
  {
   "cell_type": "code",
   "execution_count": 79,
   "metadata": {},
   "outputs": [
    {
     "name": "stdout",
     "output_type": "stream",
     "text": [
      "For values of alpha =  1e-05 The log loss is: 1.3410127909244511\n",
      "For values of alpha =  0.0001 The log loss is: 1.3125089152900848\n",
      "For values of alpha =  0.001 The log loss is: 1.1897181140336341\n",
      "For values of alpha =  0.01 The log loss is: 1.2858590533924958\n",
      "For values of alpha =  0.1 The log loss is: 1.446510012791033\n",
      "For values of alpha =  1 The log loss is: 1.6363809880171862\n"
     ]
    }
   ],
   "source": [
    "cv_log_error_array=[]\n",
    "\n",
    "for i in alpha:\n",
    "    clf= SGDClassifier(alpha=i,penalty='l2',loss='log', random_state=42)\n",
    "    clf.fit(train_text_feature_onehotCoding,y_train)\n",
    "    \n",
    "    sig_clf=CalibratedClassifierCV(clf,method='sigmoid')\n",
    "    sig_clf.fit(train_text_feature_onehotCoding,y_train)\n",
    "    \n",
    "    predict_y=sig_clf.predict_proba(cv_text_feature_onehotCoding)\n",
    "    cv_log_error_array.append(log_loss(y_cv,predict_y,labels=clf.classes_,eps=1e-15))\n",
    "    print('For values of alpha = ', i, \"The log loss is:\",log_loss(y_cv, predict_y, labels=clf.classes_, eps=1e-15))\n"
   ]
  },
  {
   "cell_type": "code",
   "execution_count": 80,
   "metadata": {},
   "outputs": [
    {
     "data": {
      "image/png": "[encoded data removed]",
      "text/plain": [
       "<Figure size 432x288 with 1 Axes>"
      ]
     },
     "metadata": {
      "needs_background": "light"
     },
     "output_type": "display_data"
    }
   ],
   "source": [
    "fig,ax=plt.subplots()\n",
    "\n",
    "ax.plot(alpha,cv_log_error_array,c='g')\n",
    "\n",
    "for i,txt in enumerate(np.round(cv_log_error_array,3)):\n",
    "    ax.annotate((alpha[i],np.round(txt,3)),(alpha[i],cv_log_error_array[i]))\n",
    "\n",
    "plt.grid()\n",
    "plt.title(\"Cross Validation Error for each alpha\")\n",
    "plt.xlabel(\"Alpha i's\")\n",
    "plt.ylabel(\"Error measure\")\n",
    "plt.show()\n"
   ]
  },
  {
   "cell_type": "code",
   "execution_count": 81,
   "metadata": {},
   "outputs": [
    {
     "name": "stdout",
     "output_type": "stream",
     "text": [
      "For values of best alpha =  0.001 The train log loss is: 0.7522440680700443\n",
      "For values of best alpha =  0.001 The cross validation log loss is: 1.1897181140336341\n",
      "For values of best alpha =  0.001 The test log loss is: 1.1881927674060557\n"
     ]
    }
   ],
   "source": [
    "best_alpha= np.argmin(cv_log_error_array)\n",
    "\n",
    "clf= SGDClassifier(alpha=alpha[best_alpha],penalty='l2',loss='log',random_state=42)\n",
    "clf.fit(train_text_feature_onehotCoding,y_train)\n",
    "\n",
    "sig_clf= CalibratedClassifierCV(clf,method='sigmoid')\n",
    "sig_clf.fit(train_text_feature_onehotCoding,y_train)\n",
    "\n",
    "predict_y= sig_clf.predict_proba(train_text_feature_onehotCoding)\n",
    "\n",
    "print('For values of best alpha = ', alpha[best_alpha], \"The train log loss is:\",log_loss(y_train, predict_y, labels=clf.classes_, eps=1e-15))\n",
    "predict_y = sig_clf.predict_proba(cv_text_feature_onehotCoding)\n",
    "print('For values of best alpha = ', alpha[best_alpha], \"The cross validation log loss is:\",log_loss(y_cv, predict_y, labels=clf.classes_, eps=1e-15))\n",
    "predict_y = sig_clf.predict_proba(test_text_feature_onehotCoding)\n",
    "print('For values of best alpha = ', alpha[best_alpha], \"The test log loss is:\",log_loss(y_test, predict_y, labels=clf.classes_, eps=1e-15))\n"
   ]
  },
  {
   "cell_type": "markdown",
   "metadata": {},
   "source": [
    "Lets check the overlap of text data"
   ]
  },
  {
   "cell_type": "code",
   "execution_count": 82,
   "metadata": {},
   "outputs": [],
   "source": [
    "def get_intersec_text(df):\n",
    "    df_text_vec = CountVectorizer(min_df=3)\n",
    "    df_text_fea = df_text_vec.fit_transform(df['TEXT'])\n",
    "    df_text_features = df_text_vec.get_feature_names()\n",
    "\n",
    "    df_text_fea_counts = df_text_fea.sum(axis=0).A1\n",
    "    df_text_fea_dict = dict(zip(list(df_text_features),df_text_fea_counts))\n",
    "    len1 = len(set(df_text_features))\n",
    "    len2 = len(set(train_text_features) & set(df_text_features))\n",
    "    return len1,len2"
   ]
  },
  {
   "cell_type": "code",
   "execution_count": 83,
   "metadata": {},
   "outputs": [
    {
     "name": "stdout",
     "output_type": "stream",
     "text": [
      "96.543 % of word of test data appeared in train data\n",
      "97.414 % of word of Cross Validation appeared in train data\n"
     ]
    }
   ],
   "source": [
    "len1,len2 = get_intersec_text(test_df)\n",
    "print(np.round((len2/len1)*100, 3), \"% of word of test data appeared in train data\")\n",
    "len1,len2 = get_intersec_text(cv_df)\n",
    "print(np.round((len2/len1)*100, 3), \"% of word of Cross Validation appeared in train data\")"
   ]
  },
  {
   "cell_type": "markdown",
   "metadata": {},
   "source": [
    "So, all 3 columns are going to be important.\n",
    "\n",
    "## Data prepration for Machine Learning models"
   ]
  },
  {
   "cell_type": "markdown",
   "metadata": {},
   "source": [
    "Lets create few functions which we will be using later"
   ]
  },
  {
   "cell_type": "code",
   "execution_count": 84,
   "metadata": {},
   "outputs": [],
   "source": [
    "def report_log_loss(train_x,train_y,test_x,test_y,clf):\n",
    "    clf.fit(train_x,train_y)\n",
    "    sig_clf= CalibratedClassifierCV(clf,method='sigmoid')\n",
    "    sig_clf.fit(train_x,train_y)\n",
    "    sig_clf_probs= sig_clf.predict_proba(test_x)\n",
    "    return log_loss(test_y,sig_clf_proba, eps=1e-15)\n",
    "    "
   ]
  },
  {
   "cell_type": "code",
   "execution_count": 119,
   "metadata": {},
   "outputs": [],
   "source": [
    "# This function plots the confusion matrices given y_i, y_i_hat.\n",
    "def plot_confusion_matrix(test_y,predict_y):\n",
    "    C=confusion_matrix(test_y,predict_y)\n",
    "    \n",
    "    A=  A =(((C.T)/(C.sum(axis=1))).T)\n",
    "    \n",
    "    B =(C/C.sum(axis=0)) \n",
    "    labels = [1,2,3,4,5,6,7,8,9]\n",
    "    # representing A in heatmap format\n",
    "    \n",
    "    print(\"-\"*25,\"Confusion Matrix for given data\",\"-\"*25)\n",
    "    plt.figure(figsize=(20,7))\n",
    "    sns.heatmap(C, annot=True, cmap=\"YlGnBu\", fmt=\".3f\", xticklabels=labels, yticklabels=labels)\n",
    "    plt.xlabel('Predicted Class')\n",
    "    plt.ylabel('Original Class')\n",
    "    plt.show()\n",
    "    \n",
    "    \n",
    "    print(\"-\"*25, \"Precision matrix (Columm Sum=1)\", \"-\"*25)\n",
    "    plt.figure(figsize=(20,7))\n",
    "    sns.heatmap(B, annot=True, cmap=\"YlGnBu\", fmt=\".3f\", xticklabels=labels, yticklabels=labels)\n",
    "    plt.xlabel('Predicted Class')\n",
    "    plt.ylabel('Original Class')\n",
    "    plt.show()\n",
    "    \n",
    "    \n",
    "    # representing B in heatmap format\n",
    "    \n",
    "    print(\"-\"*25 ,\" Recall matrix (Row sum=1) \",\"-\"*25)\n",
    "    plt.figure(figsize=(20,7))\n",
    "    sns.heatmap(A,annot=True,cmap=\"YlGnBu\",fmt=\".3f\",xticklabels=labels,yticklabels=labels)\n",
    "    plt.xlabel('Predicted Class')\n",
    "    plt.ylabel('Original Class')\n",
    "    plt.show()\n",
    "    \n",
    "    def predict_and_plot_confusion_matrix(train_x,train_y,test_x,test_y,clf):\n",
    "        \n",
    "        clf.fit(train_x,train_y)\n",
    "        sig_clf=CalibratedClassifierCV(clf,method='sigmoid')\n",
    "        sig_clf.fit(train_x,train_y)\n",
    "        pred_y=sig_clf.predict(test_x)\n",
    "        \n",
    "        # for calculating log_loss we willl provide the array of probabilities belongs to each class\n",
    "        print(\"log Loss is : \",log_loss(test_y,sig_clf.predict_proba(test_x)))\n",
    "        # calculating the number of data points that are misclassified\n",
    "        print(\"Number of mis-classified points are :\",np.count_nonzero((pred_y-test_y))/test_y.shape[0])\n",
    "        plot_confusion_matrix(test_y,pred_y)\n",
    "        "
   ]
  },
  {
   "cell_type": "code",
   "execution_count": 127,
   "metadata": {},
   "outputs": [],
   "source": [
    "# this function will be used just for naive bayes\n",
    "# for the given indices, we will print the name of the features\n",
    "# and we will check whether the feature present in the test point text or not\n",
    "def get_impfeature_names(indices, text, gene, var, no_features):\n",
    "    gene_count_vec = CountVectorizer()\n",
    "    var_count_vec = CountVectorizer()\n",
    "    text_count_vec = CountVectorizer(min_df=3)\n",
    "    \n",
    "    gene_vec = gene_count_vec.fit(train_df['Gene'])\n",
    "    var_vec  = var_count_vec.fit(train_df['Variation'])\n",
    "    text_vec = text_count_vec.fit(train_df['TEXT'])\n",
    "    \n",
    "    fea1_len = len(gene_vec.get_feature_names())\n",
    "    fea2_len = len(var_count_vec.get_feature_names())\n",
    "    \n",
    "    word_present = 0\n",
    "    for i,v in enumerate(indices):\n",
    "        if (v < fea1_len):\n",
    "            word = gene_vec.get_feature_names()[v]\n",
    "            yes_no = True if word == gene else False\n",
    "            if yes_no:\n",
    "                word_present += 1\n",
    "                print(i, \"Gene feature [{}] present in test data point [{}]\".format(word,yes_no))\n",
    "        elif (v < fea1_len+fea2_len):\n",
    "            word = var_vec.get_feature_names()[v-(fea1_len)]\n",
    "            yes_no = True if word == var else False\n",
    "            if yes_no:\n",
    "                word_present += 1\n",
    "                print(i, \"variation feature [{}] present in test data point [{}]\".format(word,yes_no))\n",
    "        else:\n",
    "            word = text_vec.get_feature_names()[v-(fea1_len+fea2_len)]\n",
    "            yes_no = True if word in text.split() else False\n",
    "            if yes_no:\n",
    "                word_present += 1\n",
    "                print(i, \"Text feature [{}] present in test data point [{}]\".format(word,yes_no))\n",
    "\n",
    "    print(\"Out of the top \",no_features,\" features \", word_present, \"are present in query point\")"
   ]
  },
  {
   "cell_type": "markdown",
   "metadata": {},
   "source": [
    "## Combining all 3 features together"
   ]
  },
  {
   "cell_type": "code",
   "execution_count": 106,
   "metadata": {},
   "outputs": [],
   "source": [
    "# merging gene, variance and text features\n",
    "\n",
    "# building train, test and cross validation data sets\n",
    "# a = [[1, 2], \n",
    "#      [3, 4]]\n",
    "# b = [[4, 5], \n",
    "#      [6, 7]]\n",
    "# hstack(a, b) = [[1, 2, 4, 5],\n",
    "#                [ 3, 4, 6, 7]]\n",
    "\n",
    "\n",
    "train_gene_var_onehotCoding= hstack((train_gene_feature_onehotCoding,train_variation_feature_onehotCoding))\n",
    "test_gene_var_onehotCoding= hstack((test_gene_feature_onehotCoding,test_variation_feature_onehotCoding))\n",
    "cv_gene_var_onehotCoding= hstack((cv_gene_feature_onehotCoding,cv_variation_feature_onehotCoding))\n",
    "\n",
    "#print(\" Gene_var stacking for training\")\n",
    "#print(test_gene_var_onehotCoding)\n",
    "\n",
    "train_x_onehotCoding= hstack((train_gene_var_onehotCoding,train_text_feature_onehotCoding)).tocsr()\n",
    "train_y= np.array(list(train_df['Class']))\n",
    "\n",
    "test_x_onehotCoding= hstack((test_gene_var_onehotCoding,test_text_feature_onehotCoding)).tocsr()\n",
    "test_y = np.array(list(test_df['Class']))\n",
    "\n",
    "cv_x_onehotCoding= hstack((cv_gene_var_onehotCoding,cv_text_feature_onehotCoding)).tocsr()\n",
    "cv_y= np.array(list(cv_df['Class']))\n",
    "\n",
    "train_gene_var_responseCoding = np.hstack((train_gene_feature_responseCoding,train_variation_feature_responseCoding))\n",
    "test_gene_var_responseCoding = np.hstack((test_gene_feature_responseCoding,test_variation_feature_responseCoding))\n",
    "cv_gene_var_responseCoding = np.hstack((cv_gene_feature_responseCoding,cv_variation_feature_responseCoding))\n",
    "\n",
    "\n",
    "train_x_responseCoding = np.hstack((train_gene_var_responseCoding, train_text_feature_responseCoding))\n",
    "test_x_responseCoding = np.hstack((test_gene_var_responseCoding, test_text_feature_responseCoding))\n",
    "cv_x_responseCoding = np.hstack((cv_gene_var_responseCoding, cv_text_feature_responseCoding))\n"
   ]
  },
  {
   "cell_type": "code",
   "execution_count": 102,
   "metadata": {},
   "outputs": [
    {
     "name": "stdout",
     "output_type": "stream",
     "text": [
      "One hot encoding features :\n",
      "(number of data points * number of features) in train data =  (2124, 55580)\n",
      "(number of data points * number of features) in test data =  (665, 55580)\n",
      "(number of data points * number of features) in cross validation data = (532, 55580)\n"
     ]
    }
   ],
   "source": [
    "print(\"One hot encoding features :\")\n",
    "print(\"(number of data points * number of features) in train data = \", train_x_onehotCoding.shape)\n",
    "print(\"(number of data points * number of features) in test data = \", test_x_onehotCoding.shape)\n",
    "print(\"(number of data points * number of features) in cross validation data =\", cv_x_onehotCoding.shape)"
   ]
  },
  {
   "cell_type": "code",
   "execution_count": 110,
   "metadata": {},
   "outputs": [
    {
     "name": "stdout",
     "output_type": "stream",
     "text": [
      " Response encoding features :\n",
      "(number of data points * number of features) in train data =  (2124, 27)\n",
      "(number of data points * number of features) in test data =  (665, 27)\n",
      "(number of data points * number of features) in cross validation data = (532, 27)\n"
     ]
    }
   ],
   "source": [
    "print(\" Response encoding features :\")\n",
    "print(\"(number of data points * number of features) in train data = \", train_x_responseCoding.shape)\n",
    "print(\"(number of data points * number of features) in test data = \", test_x_responseCoding.shape)\n",
    "print(\"(number of data points * number of features) in cross validation data =\", cv_x_responseCoding.shape)"
   ]
  },
  {
   "cell_type": "markdown",
   "metadata": {},
   "source": [
    "# Building Machine Learning model"
   ]
  },
  {
   "cell_type": "markdown",
   "metadata": {},
   "source": [
    "Lets start the first model which is most suitable when we have lot of text column data. So, we will start with Naive Bayes."
   ]
  },
  {
   "cell_type": "code",
   "execution_count": 112,
   "metadata": {},
   "outputs": [
    {
     "name": "stdout",
     "output_type": "stream",
     "text": [
      "for alpha = 1e-05\n",
      "Log Loss : 1.2937951662836389\n",
      "for alpha = 0.0001\n",
      "Log Loss : 1.2863705163395518\n",
      "for alpha = 0.001\n",
      "Log Loss : 1.291747855283166\n",
      "for alpha = 0.1\n",
      "Log Loss : 1.29673905992354\n",
      "for alpha = 1\n",
      "Log Loss : 1.3040291657085437\n",
      "for alpha = 10\n",
      "Log Loss : 1.393050113911631\n",
      "for alpha = 100\n",
      "Log Loss : 1.382837102451449\n",
      "for alpha = 1000\n",
      "Log Loss : 1.3458486912327234\n"
     ]
    }
   ],
   "source": [
    "# http://scikit-learn.org/stable/modules/generated/sklearn.naive_bayes.MultinomialNB.html\n",
    "alpha = [0.00001, 0.0001, 0.001, 0.1, 1, 10, 100,1000]\n",
    "cv_log_error_array = []\n",
    "for i in alpha:\n",
    "    print(\"for alpha =\", i)\n",
    "    clf = MultinomialNB(alpha=i)\n",
    "    clf.fit(train_x_onehotCoding, train_y)\n",
    "    sig_clf = CalibratedClassifierCV(clf, method=\"sigmoid\")\n",
    "    sig_clf.fit(train_x_onehotCoding, train_y)\n",
    "    sig_clf_probs = sig_clf.predict_proba(cv_x_onehotCoding)\n",
    "    cv_log_error_array.append(log_loss(cv_y, sig_clf_probs, labels=clf.classes_, eps=1e-15))\n",
    "    # to avoid rounding error while multiplying probabilites we use log-probability estimates\n",
    "    print(\"Log Loss :\",log_loss(cv_y, sig_clf_probs)) "
   ]
  },
  {
   "cell_type": "code",
   "execution_count": 113,
   "metadata": {},
   "outputs": [
    {
     "data": {
      "image/png": "[encoded data removed]",
      "text/plain": [
       "<Figure size 432x288 with 1 Axes>"
      ]
     },
     "metadata": {
      "needs_background": "light"
     },
     "output_type": "display_data"
    }
   ],
   "source": [
    "fig,ax= plt.subplots()\n",
    "\n",
    "ax.plot(np.log10(alpha),cv_log_error_array,c='g')\n",
    "for i, txt in enumerate(np.round(cv_log_error_array,3)):\n",
    "    ax.annotate((alpha[i],str(txt)), (np.log10(alpha[i]),cv_log_error_array[i]))\n",
    "plt.grid()\n",
    "plt.xticks(np.log10(alpha))\n",
    "plt.title(\"Cross Validation Error for each alpha\")\n",
    "plt.xlabel(\"Alpha i's\")\n",
    "plt.ylabel(\"Error measure\")\n",
    "plt.show()"
   ]
  },
  {
   "cell_type": "code",
   "execution_count": 114,
   "metadata": {},
   "outputs": [
    {
     "name": "stdout",
     "output_type": "stream",
     "text": [
      "For values of best alpha =  0.0001 The train log loss is: 0.8578265482319775\n",
      "For values of best alpha =  0.0001 The cross validation log loss is: 1.2863705163395518\n",
      "For values of best alpha =  0.0001 The test log loss is: 1.2853981809190276\n"
     ]
    }
   ],
   "source": [
    "best_alpha = np.argmin(cv_log_error_array)\n",
    "clf = MultinomialNB(alpha=alpha[best_alpha])\n",
    "clf.fit(train_x_onehotCoding, train_y)\n",
    "sig_clf = CalibratedClassifierCV(clf, method=\"sigmoid\")\n",
    "sig_clf.fit(train_x_onehotCoding, train_y)\n",
    "\n",
    "\n",
    "predict_y = sig_clf.predict_proba(train_x_onehotCoding)\n",
    "print('For values of best alpha = ', alpha[best_alpha], \"The train log loss is:\",log_loss(y_train, predict_y, labels=clf.classes_, eps=1e-15))\n",
    "predict_y = sig_clf.predict_proba(cv_x_onehotCoding)\n",
    "print('For values of best alpha = ', alpha[best_alpha], \"The cross validation log loss is:\",log_loss(y_cv, predict_y, labels=clf.classes_, eps=1e-15))\n",
    "predict_y = sig_clf.predict_proba(test_x_onehotCoding)\n",
    "print('For values of best alpha = ', alpha[best_alpha], \"The test log loss is:\",log_loss(y_test, predict_y, labels=clf.classes_, eps=1e-15))\n"
   ]
  },
  {
   "cell_type": "markdown",
   "metadata": {},
   "source": [
    "Testing our Naive Bayes model with best found value of alpha on testing data"
   ]
  },
  {
   "cell_type": "code",
   "execution_count": 120,
   "metadata": {},
   "outputs": [
    {
     "name": "stdout",
     "output_type": "stream",
     "text": [
      "Log Loss is :  1.2863705163395518\n",
      "Number of missclassified point : 0.39473684210526316\n",
      "------------------------- Confusion Matrix for given data -------------------------\n"
     ]
    },
    {
     "data": {
      "image/png": "[encoded data removed]",
      "text/plain": [
       "<Figure size 1440x504 with 2 Axes>"
      ]
     },
     "metadata": {
      "needs_background": "light"
     },
     "output_type": "display_data"
    },
    {
     "name": "stdout",
     "output_type": "stream",
     "text": [
      "------------------------- Precision matrix (Columm Sum=1) -------------------------\n"
     ]
    },
    {
     "data": {
      "image/png": "[encoded data removed]",
      "text/plain": [
       "<Figure size 1440x504 with 2 Axes>"
      ]
     },
     "metadata": {
      "needs_background": "light"
     },
     "output_type": "display_data"
    },
    {
     "name": "stdout",
     "output_type": "stream",
     "text": [
      "-------------------------  Recall matrix (Row sum=1)  -------------------------\n"
     ]
    },
    {
     "data": {
      "image/png": "[encoded data removed]",
      "text/plain": [
       "<Figure size 1440x504 with 2 Axes>"
      ]
     },
     "metadata": {
      "needs_background": "light"
     },
     "output_type": "display_data"
    }
   ],
   "source": [
    "clf=MultinomialNB(alpha=alpha[best_alpha])\n",
    "clf.fit(train_x_onehotCoding,train_y)\n",
    "sig_clf= CalibratedClassifierCV(clf,method='sigmoid')\n",
    "sig_clf.fit(train_x_onehotCoding,train_y)\n",
    "sig_clf_probs= sig_clf.predict_proba(cv_x_onehotCoding)\n",
    "# to avoid rounding error while multiplying probabilites we use log-probability estimates\n",
    "print(\"Log Loss is : \",log_loss(cv_y,sig_clf_probs))\n",
    "print(\"Number of missclassified point :\",np.count_nonzero((sig_clf.predict(cv_x_onehotCoding)-cv_y))/cv_y.shape[0])\n",
    "\n",
    "plot_confusion_matrix(cv_y, sig_clf.predict(cv_x_onehotCoding.toarray()))"
   ]
  },
  {
   "cell_type": "markdown",
   "metadata": {},
   "source": [
    "### Interpretability of our model"
   ]
  },
  {
   "cell_type": "code",
   "execution_count": 128,
   "metadata": {},
   "outputs": [
    {
     "name": "stdout",
     "output_type": "stream",
     "text": [
      "Predicted Class : 2\n",
      "Predicted Class Probabilities: [[0.1051 0.5459 0.0125 0.1295 0.0382 0.0364 0.1231 0.005  0.0043]]\n",
      "Actual Class : 2\n",
      "----------------------------------------------------------------------------------------------------\n",
      "[[   58   112   746    24   192     0    99   326   157   158    63  1445\n",
      "    145    83   187   120 27997 46930 37244   129   205 26154 15282 35026\n",
      "  28603 16030 28006 36617 41515 27994 39242 53121 43986  9905 42823 18882\n",
      "  24487 44957 33601 23734 35644 54420  2992 46236 22971 37430 39408 13828\n",
      "  18638 50754 41162 23416 49118 41576 26766 28825 15835 47840 44040 47588\n",
      "  26153 41164  3389 25173 37532 17093 37877  9374 46917  5271 30649 51120\n",
      "   2628 23013 15735 26155 14721 50763 49119 48973 50036 48198 28897 18507\n",
      "  39662 19124  8567 44583 48990  9623 39690 44782 27251 52251 35626 16115\n",
      "   9395 36378 50965 13832]]\n",
      "----------------------------------------------------------------------------------------------------\n",
      "16 Text feature [identified] present in test data point [True]\n",
      "17 Text feature [sequencing] present in test data point [True]\n",
      "18 Text feature [novel] present in test data point [True]\n",
      "22 Text feature [clinical] present in test data point [True]\n",
      "23 Text feature [molecular] present in test data point [True]\n",
      "24 Text feature [including] present in test data point [True]\n",
      "25 Text feature [confirmed] present in test data point [True]\n",
      "26 Text feature [identify] present in test data point [True]\n",
      "27 Text feature [new] present in test data point [True]\n",
      "28 Text feature [present] present in test data point [True]\n",
      "29 Text feature [identification] present in test data point [True]\n",
      "30 Text feature [patient] present in test data point [True]\n",
      "31 Text feature [using] present in test data point [True]\n",
      "32 Text feature [rearrangements] present in test data point [True]\n",
      "34 Text feature [qiagen] present in test data point [True]\n",
      "35 Text feature [different] present in test data point [True]\n",
      "36 Text feature [gene] present in test data point [True]\n",
      "37 Text feature [revealed] present in test data point [True]\n",
      "38 Text feature [may] present in test data point [True]\n",
      "39 Text feature [fusion] present in test data point [True]\n",
      "40 Text feature [mutations] present in test data point [True]\n",
      "42 Text feature [12] present in test data point [True]\n",
      "44 Text feature [findings] present in test data point [True]\n",
      "46 Text feature [pcr] present in test data point [True]\n",
      "47 Text feature [case] present in test data point [True]\n",
      "48 Text feature [detection] present in test data point [True]\n",
      "50 Text feature [potential] present in test data point [True]\n",
      "51 Text feature [found] present in test data point [True]\n",
      "52 Text feature [subsequent] present in test data point [True]\n",
      "53 Text feature [previously] present in test data point [True]\n",
      "54 Text feature [highly] present in test data point [True]\n",
      "56 Text feature [complete] present in test data point [True]\n",
      "57 Text feature [small] present in test data point [True]\n",
      "58 Text feature [recently] present in test data point [True]\n",
      "59 Text feature [single] present in test data point [True]\n",
      "61 Text feature [potentially] present in test data point [True]\n",
      "62 Text feature [15] present in test data point [True]\n",
      "64 Text feature [observed] present in test data point [True]\n",
      "65 Text feature [currently] present in test data point [True]\n",
      "66 Text feature [one] present in test data point [True]\n",
      "67 Text feature [also] present in test data point [True]\n",
      "68 Text feature [sequenced] present in test data point [True]\n",
      "69 Text feature [33] present in test data point [True]\n",
      "70 Text feature [kinase] present in test data point [True]\n",
      "72 Text feature [10] present in test data point [True]\n",
      "73 Text feature [first] present in test data point [True]\n",
      "74 Text feature [common] present in test data point [True]\n",
      "76 Text feature [characterized] present in test data point [True]\n",
      "77 Text feature [therapy] present in test data point [True]\n",
      "78 Text feature [subsequently] present in test data point [True]\n",
      "83 Text feature [described] present in test data point [True]\n",
      "86 Text feature [additional] present in test data point [True]\n",
      "88 Text feature [study] present in test data point [True]\n",
      "89 Text feature [analysis] present in test data point [True]\n",
      "90 Text feature [performed] present in test data point [True]\n",
      "91 Text feature [respectively] present in test data point [True]\n",
      "92 Text feature [however] present in test data point [True]\n",
      "94 Text feature [mutation] present in test data point [True]\n",
      "96 Text feature [although] present in test data point [True]\n",
      "98 Text feature [three] present in test data point [True]\n",
      "99 Text feature [cases] present in test data point [True]\n",
      "Out of the top  100  features  61 are present in query point\n"
     ]
    }
   ],
   "source": [
    "test_point_index=1\n",
    "no_feature=100\n",
    "predicted_cls=sig_clf.predict(test_x_onehotCoding[test_point_index])\n",
    "print(\"Predicted Class :\", predicted_cls[0])\n",
    "print(\"Predicted Class Probabilities:\" , np.round(sig_clf.predict_proba(test_x_onehotCoding[test_point_index]),4))\n",
    "print(\"Actual Class :\", test_y[test_point_index])\n",
    "print(\"-\"*100)\n",
    "indices = np.argsort(-clf.coef_)[predicted_cls-1][:,:no_feature]\n",
    "print(indices)\n",
    "print(\"-\"*100)\n",
    "get_impfeature_names(indices[0], test_df['TEXT'].iloc[test_point_index],test_df['Gene'].iloc[test_point_index],test_df['Variation'].iloc[test_point_index], no_feature)"
   ]
  },
  {
   "cell_type": "markdown",
   "metadata": {},
   "source": [
    "Lets look at one more point"
   ]
  },
  {
   "cell_type": "code",
   "execution_count": 130,
   "metadata": {},
   "outputs": [
    {
     "name": "stdout",
     "output_type": "stream",
     "text": [
      "Predicted Class : 7\n",
      "Predicted Class Probabilities: [[0.0944 0.0918 0.0113 0.116  0.0342 0.0326 0.6113 0.0044 0.0039]]\n",
      "Actual Class : 5\n",
      "--------------------------------------------------\n",
      "17 Text feature [kinase] present in test data point [True]\n",
      "18 Text feature [presence] present in test data point [True]\n",
      "19 Text feature [downstream] present in test data point [True]\n",
      "20 Text feature [activating] present in test data point [True]\n",
      "21 Text feature [independent] present in test data point [True]\n",
      "22 Text feature [well] present in test data point [True]\n",
      "23 Text feature [inhibitor] present in test data point [True]\n",
      "26 Text feature [expressing] present in test data point [True]\n",
      "27 Text feature [cell] present in test data point [True]\n",
      "28 Text feature [potential] present in test data point [True]\n",
      "29 Text feature [showed] present in test data point [True]\n",
      "30 Text feature [contrast] present in test data point [True]\n",
      "31 Text feature [growth] present in test data point [True]\n",
      "32 Text feature [previously] present in test data point [True]\n",
      "33 Text feature [recently] present in test data point [True]\n",
      "34 Text feature [activation] present in test data point [True]\n",
      "35 Text feature [shown] present in test data point [True]\n",
      "36 Text feature [factor] present in test data point [True]\n",
      "37 Text feature [compared] present in test data point [True]\n",
      "38 Text feature [higher] present in test data point [True]\n",
      "39 Text feature [cells] present in test data point [True]\n",
      "40 Text feature [obtained] present in test data point [True]\n",
      "41 Text feature [however] present in test data point [True]\n",
      "42 Text feature [also] present in test data point [True]\n",
      "43 Text feature [mutations] present in test data point [True]\n",
      "44 Text feature [addition] present in test data point [True]\n",
      "45 Text feature [similar] present in test data point [True]\n",
      "46 Text feature [10] present in test data point [True]\n",
      "47 Text feature [suggest] present in test data point [True]\n",
      "48 Text feature [found] present in test data point [True]\n",
      "49 Text feature [described] present in test data point [True]\n",
      "50 Text feature [observed] present in test data point [True]\n",
      "51 Text feature [treated] present in test data point [True]\n",
      "52 Text feature [may] present in test data point [True]\n",
      "54 Text feature [inhibition] present in test data point [True]\n",
      "56 Text feature [1a] present in test data point [True]\n",
      "57 Text feature [studies] present in test data point [True]\n",
      "58 Text feature [12] present in test data point [True]\n",
      "61 Text feature [without] present in test data point [True]\n",
      "62 Text feature [reported] present in test data point [True]\n",
      "63 Text feature [total] present in test data point [True]\n",
      "65 Text feature [including] present in test data point [True]\n",
      "66 Text feature [using] present in test data point [True]\n",
      "67 Text feature [approximately] present in test data point [True]\n",
      "69 Text feature [small] present in test data point [True]\n",
      "70 Text feature [concentrations] present in test data point [True]\n",
      "71 Text feature [new] present in test data point [True]\n",
      "72 Text feature [suggests] present in test data point [True]\n",
      "73 Text feature [therapeutic] present in test data point [True]\n",
      "74 Text feature [respectively] present in test data point [True]\n",
      "76 Text feature [identified] present in test data point [True]\n",
      "77 Text feature [consistent] present in test data point [True]\n",
      "78 Text feature [inhibitors] present in test data point [True]\n",
      "79 Text feature [confirmed] present in test data point [True]\n",
      "80 Text feature [whereas] present in test data point [True]\n",
      "81 Text feature [recent] present in test data point [True]\n",
      "82 Text feature [furthermore] present in test data point [True]\n",
      "83 Text feature [increased] present in test data point [True]\n",
      "84 Text feature [different] present in test data point [True]\n",
      "86 Text feature [fig] present in test data point [True]\n",
      "87 Text feature [various] present in test data point [True]\n",
      "88 Text feature [phosphorylation] present in test data point [True]\n",
      "89 Text feature [suggesting] present in test data point [True]\n",
      "90 Text feature [either] present in test data point [True]\n",
      "91 Text feature [confirm] present in test data point [True]\n",
      "94 Text feature [inhibited] present in test data point [True]\n",
      "95 Text feature [activated] present in test data point [True]\n",
      "96 Text feature [3a] present in test data point [True]\n",
      "97 Text feature [three] present in test data point [True]\n",
      "98 Text feature [two] present in test data point [True]\n",
      "99 Text feature [mutation] present in test data point [True]\n",
      "Out of the top  100  features  71 are present in query point\n"
     ]
    }
   ],
   "source": [
    "test_point_index = 10\n",
    "no_feature = 100\n",
    "predicted_cls = sig_clf.predict(test_x_onehotCoding[test_point_index])\n",
    "print(\"Predicted Class :\", predicted_cls[0])\n",
    "print(\"Predicted Class Probabilities:\", np.round(sig_clf.predict_proba(test_x_onehotCoding[test_point_index]),4))\n",
    "print(\"Actual Class :\", test_y[test_point_index])\n",
    "indices = np.argsort(-clf.coef_)[predicted_cls-1][:,:no_feature]\n",
    "print(\"-\"*50)\n",
    "get_impfeature_names(indices[0], test_df['TEXT'].iloc[test_point_index],test_df['Gene'].iloc[test_point_index],test_df['Variation'].iloc[test_point_index], no_feature)"
   ]
  },
  {
   "cell_type": "markdown",
   "metadata": {},
   "source": [
    "So Naive Bayes not performing very badly but lets look at other models"
   ]
  },
  {
   "cell_type": "markdown",
   "metadata": {},
   "source": [
    "# K Nearest Neighbour Classification"
   ]
  },
  {
   "cell_type": "code",
   "execution_count": 131,
   "metadata": {},
   "outputs": [
    {
     "name": "stdout",
     "output_type": "stream",
     "text": [
      "for alpha = 5\n",
      "Log Loss : 1.088277638954852\n",
      "for alpha = 11\n",
      "Log Loss : 1.0717143157135096\n",
      "for alpha = 15\n",
      "Log Loss : 1.0688268820763067\n",
      "for alpha = 21\n",
      "Log Loss : 1.0804275504031489\n",
      "for alpha = 31\n",
      "Log Loss : 1.078462814104391\n",
      "for alpha = 41\n",
      "Log Loss : 1.0768522439468904\n",
      "for alpha = 51\n",
      "Log Loss : 1.0847305155264841\n",
      "for alpha = 99\n",
      "Log Loss : 1.1139578502618368\n"
     ]
    }
   ],
   "source": [
    "alpha = [5, 11, 15, 21, 31, 41, 51, 99]\n",
    "cv_log_error_array = []\n",
    "for i in alpha:\n",
    "    print(\"for alpha =\", i)\n",
    "    clf = KNeighborsClassifier(n_neighbors=i)\n",
    "    clf.fit(train_x_responseCoding, train_y)\n",
    "    sig_clf = CalibratedClassifierCV(clf, method=\"sigmoid\")\n",
    "    sig_clf.fit(train_x_responseCoding, train_y)\n",
    "    sig_clf_probs = sig_clf.predict_proba(cv_x_responseCoding)\n",
    "    cv_log_error_array.append(log_loss(cv_y, sig_clf_probs, labels=clf.classes_, eps=1e-15))\n",
    "    # to avoid rounding error while multiplying probabilites we use log-probability estimates\n",
    "    print(\"Log Loss :\",log_loss(cv_y, sig_clf_probs))"
   ]
  },
  {
   "cell_type": "code",
   "execution_count": 132,
   "metadata": {},
   "outputs": [
    {
     "data": {
      "image/png": "[encoded data removed]",
      "text/plain": [
       "<Figure size 432x288 with 1 Axes>"
      ]
     },
     "metadata": {
      "needs_background": "light"
     },
     "output_type": "display_data"
    }
   ],
   "source": [
    "fig, ax = plt.subplots()\n",
    "ax.plot(alpha, cv_log_error_array,c='g')\n",
    "for i, txt in enumerate(np.round(cv_log_error_array,3)):\n",
    "    ax.annotate((alpha[i],str(txt)), (alpha[i],cv_log_error_array[i]))\n",
    "plt.grid()\n",
    "plt.title(\"Cross Validation Error for each alpha\")\n",
    "plt.xlabel(\"Alpha i's\")\n",
    "plt.ylabel(\"Error measure\")\n",
    "plt.show()"
   ]
  },
  {
   "cell_type": "code",
   "execution_count": 133,
   "metadata": {},
   "outputs": [
    {
     "name": "stdout",
     "output_type": "stream",
     "text": [
      "For values of best alpha =  15 The train log loss is: 0.710299776239591\n",
      "For values of best alpha =  15 The cross validation log loss is: 1.0688268820763067\n",
      "For values of best alpha =  15 The test log loss is: 1.0779533003378017\n"
     ]
    }
   ],
   "source": [
    "best_alpha = np.argmin(cv_log_error_array)\n",
    "clf = KNeighborsClassifier(n_neighbors=alpha[best_alpha])\n",
    "clf.fit(train_x_responseCoding, train_y)\n",
    "sig_clf = CalibratedClassifierCV(clf, method=\"sigmoid\")\n",
    "sig_clf.fit(train_x_responseCoding, train_y)\n",
    "\n",
    "predict_y = sig_clf.predict_proba(train_x_responseCoding)\n",
    "print('For values of best alpha = ', alpha[best_alpha], \"The train log loss is:\",log_loss(y_train, predict_y, labels=clf.classes_, eps=1e-15))\n",
    "predict_y = sig_clf.predict_proba(cv_x_responseCoding)\n",
    "print('For values of best alpha = ', alpha[best_alpha], \"The cross validation log loss is:\",log_loss(y_cv, predict_y, labels=clf.classes_, eps=1e-15))\n",
    "predict_y = sig_clf.predict_proba(test_x_responseCoding)\n",
    "print('For values of best alpha = ', alpha[best_alpha], \"The test log loss is:\",log_loss(y_test, predict_y, labels=clf.classes_, eps=1e-15))\n"
   ]
  },
  {
   "cell_type": "code",
   "execution_count": null,
   "metadata": {},
   "outputs": [],
   "source": []
  }
 ],
 "metadata": {
  "kernelspec": {
   "display_name": "Python 3",
   "language": "python",
   "name": "python3"
  },
  "language_info": {
   "codemirror_mode": {
    "name": "ipython",
    "version": 3
   },
   "file_extension": ".py",
   "mimetype": "text/x-python",
   "name": "python",
   "nbconvert_exporter": "python",
   "pygments_lexer": "ipython3",
   "version": "3.6.8"
  }
 },
 "nbformat": 4,
 "nbformat_minor": 2
}
